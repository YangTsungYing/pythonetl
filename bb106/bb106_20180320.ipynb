{
 "cells": [
  {
   "cell_type": "code",
   "execution_count": 2,
   "metadata": {},
   "outputs": [
    {
     "data": {
      "text/plain": [
       "'hi'"
      ]
     },
     "execution_count": 2,
     "metadata": {},
     "output_type": "execute_result"
    }
   ],
   "source": [
    "# This is a comment\n",
    "\"\"\"\n",
    "This is used as a multi line comment\n",
    "\"\"\""
   ]
  },
  {
   "cell_type": "markdown",
   "metadata": {},
   "source": [
    "# Integer"
   ]
  },
  {
   "cell_type": "code",
   "execution_count": 3,
   "metadata": {},
   "outputs": [
    {
     "data": {
      "text/plain": [
       "1"
      ]
     },
     "execution_count": 3,
     "metadata": {},
     "output_type": "execute_result"
    }
   ],
   "source": [
    "1"
   ]
  },
  {
   "cell_type": "code",
   "execution_count": 4,
   "metadata": {},
   "outputs": [
    {
     "data": {
      "text/plain": [
       "1.0"
      ]
     },
     "execution_count": 4,
     "metadata": {},
     "output_type": "execute_result"
    }
   ],
   "source": [
    "1.0"
   ]
  },
  {
   "cell_type": "code",
   "execution_count": 5,
   "metadata": {},
   "outputs": [
    {
     "data": {
      "text/plain": [
       "2"
      ]
     },
     "execution_count": 5,
     "metadata": {},
     "output_type": "execute_result"
    }
   ],
   "source": [
    "1 + 1"
   ]
  },
  {
   "cell_type": "code",
   "execution_count": 6,
   "metadata": {},
   "outputs": [
    {
     "data": {
      "text/plain": [
       "1"
      ]
     },
     "execution_count": 6,
     "metadata": {},
     "output_type": "execute_result"
    }
   ],
   "source": [
    "2 - 1"
   ]
  },
  {
   "cell_type": "code",
   "execution_count": 7,
   "metadata": {},
   "outputs": [
    {
     "data": {
      "text/plain": [
       "4"
      ]
     },
     "execution_count": 7,
     "metadata": {},
     "output_type": "execute_result"
    }
   ],
   "source": [
    "2 * 2"
   ]
  },
  {
   "cell_type": "code",
   "execution_count": 8,
   "metadata": {},
   "outputs": [
    {
     "data": {
      "text/plain": [
       "2.0"
      ]
     },
     "execution_count": 8,
     "metadata": {},
     "output_type": "execute_result"
    }
   ],
   "source": [
    "4 / 2"
   ]
  },
  {
   "cell_type": "code",
   "execution_count": 9,
   "metadata": {},
   "outputs": [
    {
     "data": {
      "text/plain": [
       "1.5"
      ]
     },
     "execution_count": 9,
     "metadata": {},
     "output_type": "execute_result"
    }
   ],
   "source": [
    "3 / 2"
   ]
  },
  {
   "cell_type": "code",
   "execution_count": 10,
   "metadata": {},
   "outputs": [
    {
     "data": {
      "text/plain": [
       "8"
      ]
     },
     "execution_count": 10,
     "metadata": {},
     "output_type": "execute_result"
    }
   ],
   "source": [
    "2 ** 3"
   ]
  },
  {
   "cell_type": "code",
   "execution_count": 11,
   "metadata": {},
   "outputs": [
    {
     "data": {
      "text/plain": [
       "1"
      ]
     },
     "execution_count": 11,
     "metadata": {},
     "output_type": "execute_result"
    }
   ],
   "source": [
    "10 % 3"
   ]
  },
  {
   "cell_type": "code",
   "execution_count": 12,
   "metadata": {},
   "outputs": [
    {
     "data": {
      "text/plain": [
       "6"
      ]
     },
     "execution_count": 12,
     "metadata": {},
     "output_type": "execute_result"
    }
   ],
   "source": [
    "(1 + 2) * 2"
   ]
  },
  {
   "cell_type": "markdown",
   "metadata": {},
   "source": [
    "# Boolean"
   ]
  },
  {
   "cell_type": "code",
   "execution_count": 13,
   "metadata": {},
   "outputs": [
    {
     "data": {
      "text/plain": [
       "True"
      ]
     },
     "execution_count": 13,
     "metadata": {},
     "output_type": "execute_result"
    }
   ],
   "source": [
    "True"
   ]
  },
  {
   "cell_type": "code",
   "execution_count": 14,
   "metadata": {},
   "outputs": [
    {
     "data": {
      "text/plain": [
       "False"
      ]
     },
     "execution_count": 14,
     "metadata": {},
     "output_type": "execute_result"
    }
   ],
   "source": [
    "False"
   ]
  },
  {
   "cell_type": "code",
   "execution_count": 16,
   "metadata": {},
   "outputs": [
    {
     "data": {
      "text/plain": [
       "False"
      ]
     },
     "execution_count": 16,
     "metadata": {},
     "output_type": "execute_result"
    }
   ],
   "source": [
    "not True"
   ]
  },
  {
   "cell_type": "code",
   "execution_count": 17,
   "metadata": {},
   "outputs": [
    {
     "data": {
      "text/plain": [
       "True"
      ]
     },
     "execution_count": 17,
     "metadata": {},
     "output_type": "execute_result"
    }
   ],
   "source": [
    "not False"
   ]
  },
  {
   "cell_type": "code",
   "execution_count": 18,
   "metadata": {},
   "outputs": [
    {
     "data": {
      "text/plain": [
       "False"
      ]
     },
     "execution_count": 18,
     "metadata": {},
     "output_type": "execute_result"
    }
   ],
   "source": [
    "True and False # &&"
   ]
  },
  {
   "cell_type": "code",
   "execution_count": 19,
   "metadata": {},
   "outputs": [
    {
     "data": {
      "text/plain": [
       "True"
      ]
     },
     "execution_count": 19,
     "metadata": {},
     "output_type": "execute_result"
    }
   ],
   "source": [
    "True or False # ||"
   ]
  },
  {
   "cell_type": "code",
   "execution_count": 20,
   "metadata": {},
   "outputs": [
    {
     "data": {
      "text/plain": [
       "True"
      ]
     },
     "execution_count": 20,
     "metadata": {},
     "output_type": "execute_result"
    }
   ],
   "source": [
    "1 == 1"
   ]
  },
  {
   "cell_type": "code",
   "execution_count": 21,
   "metadata": {},
   "outputs": [
    {
     "data": {
      "text/plain": [
       "False"
      ]
     },
     "execution_count": 21,
     "metadata": {},
     "output_type": "execute_result"
    }
   ],
   "source": [
    "2 == 1"
   ]
  },
  {
   "cell_type": "code",
   "execution_count": 22,
   "metadata": {},
   "outputs": [
    {
     "data": {
      "text/plain": [
       "True"
      ]
     },
     "execution_count": 22,
     "metadata": {},
     "output_type": "execute_result"
    }
   ],
   "source": [
    "2 != 1"
   ]
  },
  {
   "cell_type": "code",
   "execution_count": 23,
   "metadata": {},
   "outputs": [
    {
     "data": {
      "text/plain": [
       "True"
      ]
     },
     "execution_count": 23,
     "metadata": {},
     "output_type": "execute_result"
    }
   ],
   "source": [
    "2 >= 1"
   ]
  },
  {
   "cell_type": "code",
   "execution_count": 24,
   "metadata": {},
   "outputs": [
    {
     "data": {
      "text/plain": [
       "True"
      ]
     },
     "execution_count": 24,
     "metadata": {},
     "output_type": "execute_result"
    }
   ],
   "source": [
    "1 >= 1"
   ]
  },
  {
   "cell_type": "code",
   "execution_count": 26,
   "metadata": {},
   "outputs": [
    {
     "data": {
      "text/plain": [
       "False"
      ]
     },
     "execution_count": 26,
     "metadata": {},
     "output_type": "execute_result"
    }
   ],
   "source": [
    "0 >= 1"
   ]
  },
  {
   "cell_type": "markdown",
   "metadata": {},
   "source": [
    "# String"
   ]
  },
  {
   "cell_type": "code",
   "execution_count": 32,
   "metadata": {},
   "outputs": [
    {
     "data": {
      "text/plain": [
       "'Hi BB106'"
      ]
     },
     "execution_count": 32,
     "metadata": {},
     "output_type": "execute_result"
    }
   ],
   "source": [
    "\"Hi BB106\""
   ]
  },
  {
   "cell_type": "code",
   "execution_count": 28,
   "metadata": {},
   "outputs": [
    {
     "data": {
      "text/plain": [
       "'Hi BB106'"
      ]
     },
     "execution_count": 28,
     "metadata": {},
     "output_type": "execute_result"
    }
   ],
   "source": [
    "'Hi BB106'"
   ]
  },
  {
   "cell_type": "code",
   "execution_count": 29,
   "metadata": {
    "scrolled": true
   },
   "outputs": [
    {
     "data": {
      "text/plain": [
       "'BB 106'"
      ]
     },
     "execution_count": 29,
     "metadata": {},
     "output_type": "execute_result"
    }
   ],
   "source": [
    "\"\"\"BB 106\"\"\""
   ]
  },
  {
   "cell_type": "code",
   "execution_count": 30,
   "metadata": {
    "scrolled": true
   },
   "outputs": [
    {
     "data": {
      "text/plain": [
       "'BB106'"
      ]
     },
     "execution_count": 30,
     "metadata": {},
     "output_type": "execute_result"
    }
   ],
   "source": [
    "'''BB106'''"
   ]
  },
  {
   "cell_type": "code",
   "execution_count": 31,
   "metadata": {},
   "outputs": [
    {
     "data": {
      "text/plain": [
       "'BB106\\nPyhtonETL'"
      ]
     },
     "execution_count": 31,
     "metadata": {},
     "output_type": "execute_result"
    }
   ],
   "source": [
    "\"\"\"BB106\n",
    "PyhtonETL\"\"\""
   ]
  },
  {
   "cell_type": "code",
   "execution_count": 33,
   "metadata": {},
   "outputs": [
    {
     "data": {
      "text/plain": [
       "\"I'm Ian\""
      ]
     },
     "execution_count": 33,
     "metadata": {},
     "output_type": "execute_result"
    }
   ],
   "source": [
    "\"I'm Ian\""
   ]
  },
  {
   "cell_type": "code",
   "execution_count": 37,
   "metadata": {},
   "outputs": [
    {
     "data": {
      "text/plain": [
       "'I\\'m the new \"balck\"'"
      ]
     },
     "execution_count": 37,
     "metadata": {},
     "output_type": "execute_result"
    }
   ],
   "source": [
    "'''I'm the new \"balck\"'''"
   ]
  },
  {
   "cell_type": "code",
   "execution_count": 66,
   "metadata": {},
   "outputs": [
    {
     "name": "stdout",
     "output_type": "stream",
     "text": [
      "My name is David\n"
     ]
    }
   ],
   "source": [
    "name = \"David\"\n",
    "print(\"My name is \" + name)"
   ]
  },
  {
   "cell_type": "code",
   "execution_count": 44,
   "metadata": {},
   "outputs": [
    {
     "name": "stdout",
     "output_type": "stream",
     "text": [
      "This class is BB106\n"
     ]
    }
   ],
   "source": [
    "class_num = \"106\"\n",
    "print(\"This class is BB\" + class_num)"
   ]
  },
  {
   "cell_type": "code",
   "execution_count": 46,
   "metadata": {},
   "outputs": [
    {
     "data": {
      "text/plain": [
       "'This class is BB106, my name is Ian. Before I come here I am a engineer'"
      ]
     },
     "execution_count": 46,
     "metadata": {},
     "output_type": "execute_result"
    }
   ],
   "source": [
    "class_num = '106'\n",
    "name = 'Ian'\n",
    "job = 'engineer'\n",
    "\"This class is BB\" + class_num + \", my name is \"+ name + \". Before I come here I was a \" + job"
   ]
  },
  {
   "cell_type": "code",
   "execution_count": 47,
   "metadata": {},
   "outputs": [
    {
     "data": {
      "text/plain": [
       "'This class is BB{} ,my name is {}. Before I come here I was a {}'"
      ]
     },
     "execution_count": 47,
     "metadata": {},
     "output_type": "execute_result"
    }
   ],
   "source": [
    "# String interpolation\n",
    "\"This class is BB{} ,my name is {}. Before I come here I was a {}\""
   ]
  },
  {
   "cell_type": "code",
   "execution_count": 49,
   "metadata": {},
   "outputs": [
    {
     "data": {
      "text/plain": [
       "'This class is BB105 ,my name is Ian. Before I come here I was a engineer'"
      ]
     },
     "execution_count": 49,
     "metadata": {},
     "output_type": "execute_result"
    }
   ],
   "source": [
    "\"This class is BB{} ,my name is {}. Before I come here I was a {}\".format(105, name, job)"
   ]
  },
  {
   "cell_type": "code",
   "execution_count": 60,
   "metadata": {},
   "outputs": [
    {
     "data": {
      "text/plain": [
       "'\\nThis class is BB105 ,\\nI love 105 ,\\nmy name is Ian.\\nBefore I come here I was a engineer'"
      ]
     },
     "execution_count": 60,
     "metadata": {},
     "output_type": "execute_result"
    }
   ],
   "source": [
    "\"\"\"\n",
    "This class is BB{} ,\n",
    "I love {} ,\n",
    "my name is {}.\n",
    "Before I come here I was a {}\"\"\".format(105,\n",
    "                                        105,\n",
    "                                        \"Ian\",\n",
    "                                        \"engineer\")"
   ]
  },
  {
   "cell_type": "code",
   "execution_count": 58,
   "metadata": {},
   "outputs": [
    {
     "data": {
      "text/plain": [
       "'\\nThis class is BB105 ,\\nI love 105 ,\\nmy name is Ian.\\nBefore I come here I was a engineer'"
      ]
     },
     "execution_count": 58,
     "metadata": {},
     "output_type": "execute_result"
    }
   ],
   "source": [
    "\"\"\"\n",
    "This class is BB{class_num} ,\n",
    "I love {class_num} ,\n",
    "my name is {student_name}.\n",
    "Before I come here I was a {previous_job}\"\"\".format(class_num=105,\n",
    "                                                    student_name=\"Ian\",\n",
    "                                                    previous_job=\"engineer\")"
   ]
  },
  {
   "cell_type": "code",
   "execution_count": 64,
   "metadata": {},
   "outputs": [
    {
     "name": "stdout",
     "output_type": "stream",
     "text": [
      "[INFO] Getting page https://ianchenhq.com\n"
     ]
    }
   ],
   "source": [
    "# Simple debug message\n",
    "# Using %s syntax\n",
    "url = 'https://ianchenhq.com'\n",
    "print(\"[INFO] Getting page %s\"%url)"
   ]
  },
  {
   "cell_type": "code",
   "execution_count": 53,
   "metadata": {},
   "outputs": [
    {
     "data": {
      "text/plain": [
       "'P'"
      ]
     },
     "execution_count": 53,
     "metadata": {},
     "output_type": "execute_result"
    }
   ],
   "source": [
    "# Slicing\n",
    "# \"String\"[start:end:step]\n",
    "\"Python\"[0]"
   ]
  },
  {
   "cell_type": "code",
   "execution_count": 52,
   "metadata": {},
   "outputs": [
    {
     "data": {
      "text/plain": [
       "'Py'"
      ]
     },
     "execution_count": 52,
     "metadata": {},
     "output_type": "execute_result"
    }
   ],
   "source": [
    "\"Python\"[0:2]"
   ]
  },
  {
   "cell_type": "code",
   "execution_count": 54,
   "metadata": {},
   "outputs": [
    {
     "data": {
      "text/plain": [
       "'yh'"
      ]
     },
     "execution_count": 54,
     "metadata": {},
     "output_type": "execute_result"
    }
   ],
   "source": [
    "\"Python\"[1:5:2]"
   ]
  },
  {
   "cell_type": "code",
   "execution_count": 56,
   "metadata": {},
   "outputs": [
    {
     "data": {
      "text/plain": [
       "'nohtyP'"
      ]
     },
     "execution_count": 56,
     "metadata": {},
     "output_type": "execute_result"
    }
   ],
   "source": [
    "\"Python\"[::-1]"
   ]
  },
  {
   "cell_type": "code",
   "execution_count": 68,
   "metadata": {},
   "outputs": [
    {
     "data": {
      "text/plain": [
       "['python,', 'ruby,', 'javascript,', 'java,', 'c']"
      ]
     },
     "execution_count": 68,
     "metadata": {},
     "output_type": "execute_result"
    }
   ],
   "source": [
    "langs = \"python, ruby, javascript, java, c\"\n",
    "langs.split()"
   ]
  },
  {
   "cell_type": "code",
   "execution_count": 70,
   "metadata": {},
   "outputs": [
    {
     "data": {
      "text/plain": [
       "['python', 'ruby', 'javascript', 'java', 'c']"
      ]
     },
     "execution_count": 70,
     "metadata": {},
     "output_type": "execute_result"
    }
   ],
   "source": [
    "langs = \"python, ruby, javascript, java, c\"\n",
    "langs.split(', ')"
   ]
  },
  {
   "cell_type": "code",
   "execution_count": 73,
   "metadata": {},
   "outputs": [
    {
     "data": {
      "text/plain": [
       "'          I love writing code, my name is Ian\\n\\n\\n'"
      ]
     },
     "execution_count": 73,
     "metadata": {},
     "output_type": "execute_result"
    }
   ],
   "source": [
    "\"\"\"          I love writing code, my name is Ian\n",
    "\n",
    "\n",
    "\"\"\""
   ]
  },
  {
   "cell_type": "code",
   "execution_count": 74,
   "metadata": {},
   "outputs": [
    {
     "data": {
      "text/plain": [
       "'I love writing code, my name is Ian'"
      ]
     },
     "execution_count": 74,
     "metadata": {},
     "output_type": "execute_result"
    }
   ],
   "source": [
    "\"\"\"          I love writing code, my name is Ian\n",
    "\n",
    "\n",
    "\"\"\".strip()"
   ]
  },
  {
   "cell_type": "code",
   "execution_count": 75,
   "metadata": {},
   "outputs": [
    {
     "data": {
      "text/plain": [
       "'HARRY POTTER'"
      ]
     },
     "execution_count": 75,
     "metadata": {},
     "output_type": "execute_result"
    }
   ],
   "source": [
    "\"harry potter\".upper()"
   ]
  },
  {
   "cell_type": "code",
   "execution_count": 76,
   "metadata": {},
   "outputs": [
    {
     "data": {
      "text/plain": [
       "'Harry Potter'"
      ]
     },
     "execution_count": 76,
     "metadata": {},
     "output_type": "execute_result"
    }
   ],
   "source": [
    "\"harry potter\".title()"
   ]
  },
  {
   "cell_type": "code",
   "execution_count": 78,
   "metadata": {},
   "outputs": [
    {
     "data": {
      "text/plain": [
       "'harry potter'"
      ]
     },
     "execution_count": 78,
     "metadata": {},
     "output_type": "execute_result"
    }
   ],
   "source": [
    "\"Harry Potter\".lower()"
   ]
  },
  {
   "cell_type": "code",
   "execution_count": 81,
   "metadata": {},
   "outputs": [
    {
     "data": {
      "text/plain": [
       "'My name is Ian, Ruby is awesome.'"
      ]
     },
     "execution_count": 81,
     "metadata": {},
     "output_type": "execute_result"
    }
   ],
   "source": [
    "\"My name is Ian, Ruby is awesome.\""
   ]
  },
  {
   "cell_type": "code",
   "execution_count": 82,
   "metadata": {},
   "outputs": [
    {
     "data": {
      "text/plain": [
       "'My name is Ian, Python is awesome.'"
      ]
     },
     "execution_count": 82,
     "metadata": {},
     "output_type": "execute_result"
    }
   ],
   "source": [
    "\"My name is Ian, Ruby is awesome.\".replace('Ruby', 'Python')"
   ]
  },
  {
   "cell_type": "markdown",
   "metadata": {},
   "source": [
    "# Collections"
   ]
  },
  {
   "cell_type": "markdown",
   "metadata": {},
   "source": [
    "## List"
   ]
  },
  {
   "cell_type": "code",
   "execution_count": 83,
   "metadata": {},
   "outputs": [
    {
     "data": {
      "text/plain": [
       "[]"
      ]
     },
     "execution_count": 83,
     "metadata": {},
     "output_type": "execute_result"
    }
   ],
   "source": [
    "# List\n",
    "[]"
   ]
  },
  {
   "cell_type": "code",
   "execution_count": 85,
   "metadata": {},
   "outputs": [],
   "source": [
    "watches = ['Rolex', 'Omega', 'Swatch']"
   ]
  },
  {
   "cell_type": "code",
   "execution_count": 86,
   "metadata": {},
   "outputs": [
    {
     "data": {
      "text/plain": [
       "3"
      ]
     },
     "execution_count": 86,
     "metadata": {},
     "output_type": "execute_result"
    }
   ],
   "source": [
    "len(watches)"
   ]
  },
  {
   "cell_type": "code",
   "execution_count": 90,
   "metadata": {},
   "outputs": [],
   "source": [
    "langs = []"
   ]
  },
  {
   "cell_type": "code",
   "execution_count": 91,
   "metadata": {},
   "outputs": [
    {
     "data": {
      "text/plain": [
       "[]"
      ]
     },
     "execution_count": 91,
     "metadata": {},
     "output_type": "execute_result"
    }
   ],
   "source": [
    "langs"
   ]
  },
  {
   "cell_type": "code",
   "execution_count": 92,
   "metadata": {},
   "outputs": [
    {
     "data": {
      "text/plain": [
       "list"
      ]
     },
     "execution_count": 92,
     "metadata": {},
     "output_type": "execute_result"
    }
   ],
   "source": [
    "type(langs)"
   ]
  },
  {
   "cell_type": "code",
   "execution_count": 93,
   "metadata": {},
   "outputs": [],
   "source": [
    "langs.append('Python')"
   ]
  },
  {
   "cell_type": "code",
   "execution_count": 94,
   "metadata": {},
   "outputs": [
    {
     "data": {
      "text/plain": [
       "['Python']"
      ]
     },
     "execution_count": 94,
     "metadata": {},
     "output_type": "execute_result"
    }
   ],
   "source": [
    "langs"
   ]
  },
  {
   "cell_type": "code",
   "execution_count": 95,
   "metadata": {},
   "outputs": [],
   "source": [
    "del langs[0]"
   ]
  },
  {
   "cell_type": "code",
   "execution_count": 96,
   "metadata": {},
   "outputs": [
    {
     "data": {
      "text/plain": [
       "[]"
      ]
     },
     "execution_count": 96,
     "metadata": {},
     "output_type": "execute_result"
    }
   ],
   "source": [
    "langs"
   ]
  },
  {
   "cell_type": "code",
   "execution_count": 97,
   "metadata": {},
   "outputs": [],
   "source": [
    "langs.append('Ruby')"
   ]
  },
  {
   "cell_type": "code",
   "execution_count": 98,
   "metadata": {},
   "outputs": [
    {
     "data": {
      "text/plain": [
       "['Ruby']"
      ]
     },
     "execution_count": 98,
     "metadata": {},
     "output_type": "execute_result"
    }
   ],
   "source": [
    "langs"
   ]
  },
  {
   "cell_type": "code",
   "execution_count": 99,
   "metadata": {},
   "outputs": [
    {
     "data": {
      "text/plain": [
       "'Ruby'"
      ]
     },
     "execution_count": 99,
     "metadata": {},
     "output_type": "execute_result"
    }
   ],
   "source": [
    "langs[0]"
   ]
  },
  {
   "cell_type": "code",
   "execution_count": 102,
   "metadata": {},
   "outputs": [],
   "source": [
    "langs[0] = 'JavaScript'"
   ]
  },
  {
   "cell_type": "code",
   "execution_count": 103,
   "metadata": {},
   "outputs": [
    {
     "data": {
      "text/plain": [
       "['JavaScript']"
      ]
     },
     "execution_count": 103,
     "metadata": {},
     "output_type": "execute_result"
    }
   ],
   "source": [
    "langs"
   ]
  },
  {
   "cell_type": "code",
   "execution_count": 104,
   "metadata": {},
   "outputs": [],
   "source": [
    "langs = ['Python', 'Ruby', 'Java']"
   ]
  },
  {
   "cell_type": "code",
   "execution_count": 105,
   "metadata": {},
   "outputs": [
    {
     "data": {
      "text/plain": [
       "['Java', 'Ruby', 'Python']"
      ]
     },
     "execution_count": 105,
     "metadata": {},
     "output_type": "execute_result"
    }
   ],
   "source": [
    "langs[::-1]"
   ]
  },
  {
   "cell_type": "code",
   "execution_count": 107,
   "metadata": {},
   "outputs": [
    {
     "data": {
      "text/plain": [
       "['Python', 'Ruby']"
      ]
     },
     "execution_count": 107,
     "metadata": {},
     "output_type": "execute_result"
    }
   ],
   "source": [
    "langs[0:2]"
   ]
  },
  {
   "cell_type": "code",
   "execution_count": 108,
   "metadata": {},
   "outputs": [
    {
     "data": {
      "text/plain": [
       "[0, 1, 2, 3, 4, 5]"
      ]
     },
     "execution_count": 108,
     "metadata": {},
     "output_type": "execute_result"
    }
   ],
   "source": [
    "# Retruns a new list\n",
    "[0, 1, 2] + [3,4,5]"
   ]
  },
  {
   "cell_type": "code",
   "execution_count": 110,
   "metadata": {},
   "outputs": [],
   "source": [
    "# Extends previous list\n",
    "nums = [0,1,2]\n",
    "nums.extend([3,4,5])"
   ]
  },
  {
   "cell_type": "code",
   "execution_count": 111,
   "metadata": {},
   "outputs": [
    {
     "data": {
      "text/plain": [
       "[0, 1, 2, 3, 4, 5]"
      ]
     },
     "execution_count": 111,
     "metadata": {},
     "output_type": "execute_result"
    }
   ],
   "source": [
    "nums"
   ]
  },
  {
   "cell_type": "markdown",
   "metadata": {},
   "source": [
    "## Dictionary"
   ]
  },
  {
   "cell_type": "code",
   "execution_count": 112,
   "metadata": {},
   "outputs": [],
   "source": [
    "user = {}"
   ]
  },
  {
   "cell_type": "code",
   "execution_count": 113,
   "metadata": {},
   "outputs": [],
   "source": [
    "user['name'] = 'Ian'\n",
    "user['email'] = 'ianchen06@gmail.com'\n",
    "user['website'] = 'https://ianchenhq.com'"
   ]
  },
  {
   "cell_type": "code",
   "execution_count": 114,
   "metadata": {},
   "outputs": [
    {
     "data": {
      "text/plain": [
       "{'email': 'ianchen06@gmail.com',\n",
       " 'name': 'Ian',\n",
       " 'website': 'https://ianchenhq.com'}"
      ]
     },
     "execution_count": 114,
     "metadata": {},
     "output_type": "execute_result"
    }
   ],
   "source": [
    "user"
   ]
  },
  {
   "cell_type": "code",
   "execution_count": 115,
   "metadata": {},
   "outputs": [
    {
     "data": {
      "text/plain": [
       "'Ian'"
      ]
     },
     "execution_count": 115,
     "metadata": {},
     "output_type": "execute_result"
    }
   ],
   "source": [
    "user['name']"
   ]
  },
  {
   "cell_type": "code",
   "execution_count": 116,
   "metadata": {},
   "outputs": [
    {
     "data": {
      "text/plain": [
       "'ianchen06@gmail.com'"
      ]
     },
     "execution_count": 116,
     "metadata": {},
     "output_type": "execute_result"
    }
   ],
   "source": [
    "user['email']"
   ]
  },
  {
   "cell_type": "code",
   "execution_count": 117,
   "metadata": {},
   "outputs": [
    {
     "data": {
      "text/plain": [
       "'https://ianchenhq.com'"
      ]
     },
     "execution_count": 117,
     "metadata": {},
     "output_type": "execute_result"
    }
   ],
   "source": [
    "user['website']"
   ]
  },
  {
   "cell_type": "code",
   "execution_count": 118,
   "metadata": {},
   "outputs": [
    {
     "ename": "KeyError",
     "evalue": "'address'",
     "output_type": "error",
     "traceback": [
      "\u001b[0;31m---------------------------------------------------------------------------\u001b[0m",
      "\u001b[0;31mKeyError\u001b[0m                                  Traceback (most recent call last)",
      "\u001b[0;32m<ipython-input-118-00a905b72b50>\u001b[0m in \u001b[0;36m<module>\u001b[0;34m()\u001b[0m\n\u001b[0;32m----> 1\u001b[0;31m \u001b[0muser\u001b[0m\u001b[0;34m[\u001b[0m\u001b[0;34m'address'\u001b[0m\u001b[0;34m]\u001b[0m\u001b[0;34m\u001b[0m\u001b[0m\n\u001b[0m",
      "\u001b[0;31mKeyError\u001b[0m: 'address'"
     ]
    }
   ],
   "source": [
    "user['address']"
   ]
  },
  {
   "cell_type": "code",
   "execution_count": 119,
   "metadata": {},
   "outputs": [
    {
     "data": {
      "text/plain": [
       "'Ian'"
      ]
     },
     "execution_count": 119,
     "metadata": {},
     "output_type": "execute_result"
    }
   ],
   "source": [
    "user.get('name')"
   ]
  },
  {
   "cell_type": "code",
   "execution_count": 120,
   "metadata": {},
   "outputs": [
    {
     "data": {
      "text/plain": [
       "'ianchen06@gmail.com'"
      ]
     },
     "execution_count": 120,
     "metadata": {},
     "output_type": "execute_result"
    }
   ],
   "source": [
    "user.get('email')"
   ]
  },
  {
   "cell_type": "code",
   "execution_count": 126,
   "metadata": {
    "scrolled": true
   },
   "outputs": [
    {
     "data": {
      "text/plain": [
       "'https://ianchenhq.com'"
      ]
     },
     "execution_count": 126,
     "metadata": {},
     "output_type": "execute_result"
    }
   ],
   "source": [
    "user.get('website', 'https://google.com')"
   ]
  },
  {
   "cell_type": "code",
   "execution_count": 123,
   "metadata": {},
   "outputs": [
    {
     "data": {
      "text/plain": [
       "''"
      ]
     },
     "execution_count": 123,
     "metadata": {},
     "output_type": "execute_result"
    }
   ],
   "source": [
    "user.get('address', '')"
   ]
  },
  {
   "cell_type": "code",
   "execution_count": 127,
   "metadata": {},
   "outputs": [],
   "source": [
    "user['email'] = 'ian@ianchenhq.com'"
   ]
  },
  {
   "cell_type": "code",
   "execution_count": 128,
   "metadata": {},
   "outputs": [
    {
     "data": {
      "text/plain": [
       "'ian@ianchenhq.com'"
      ]
     },
     "execution_count": 128,
     "metadata": {},
     "output_type": "execute_result"
    }
   ],
   "source": [
    "user.get('email')"
   ]
  },
  {
   "cell_type": "code",
   "execution_count": 129,
   "metadata": {},
   "outputs": [
    {
     "data": {
      "text/plain": [
       "{'email': 'ian@ianchenhq.com',\n",
       " 'name': 'Ian',\n",
       " 'website': 'https://ianchenhq.com'}"
      ]
     },
     "execution_count": 129,
     "metadata": {},
     "output_type": "execute_result"
    }
   ],
   "source": [
    "user"
   ]
  },
  {
   "cell_type": "code",
   "execution_count": 130,
   "metadata": {},
   "outputs": [],
   "source": [
    "del user['email']"
   ]
  },
  {
   "cell_type": "code",
   "execution_count": 131,
   "metadata": {},
   "outputs": [
    {
     "data": {
      "text/plain": [
       "{'name': 'Ian', 'website': 'https://ianchenhq.com'}"
      ]
     },
     "execution_count": 131,
     "metadata": {},
     "output_type": "execute_result"
    }
   ],
   "source": [
    "user"
   ]
  },
  {
   "cell_type": "code",
   "execution_count": 132,
   "metadata": {},
   "outputs": [],
   "source": [
    "user['address'] = 'Taipei, Taiwan'"
   ]
  },
  {
   "cell_type": "code",
   "execution_count": 133,
   "metadata": {},
   "outputs": [],
   "source": [
    "user['email'] = 'ianchen06@gmail.com'"
   ]
  },
  {
   "cell_type": "code",
   "execution_count": 134,
   "metadata": {},
   "outputs": [
    {
     "data": {
      "text/plain": [
       "{'address': 'Taipei, Taiwan',\n",
       " 'email': 'ianchen06@gmail.com',\n",
       " 'name': 'Ian',\n",
       " 'website': 'https://ianchenhq.com'}"
      ]
     },
     "execution_count": 134,
     "metadata": {},
     "output_type": "execute_result"
    }
   ],
   "source": [
    "user"
   ]
  },
  {
   "cell_type": "code",
   "execution_count": 135,
   "metadata": {},
   "outputs": [
    {
     "data": {
      "text/plain": [
       "dict_keys(['name', 'website', 'address', 'email'])"
      ]
     },
     "execution_count": 135,
     "metadata": {},
     "output_type": "execute_result"
    }
   ],
   "source": [
    "user.keys()"
   ]
  },
  {
   "cell_type": "code",
   "execution_count": 136,
   "metadata": {},
   "outputs": [
    {
     "data": {
      "text/plain": [
       "dict_values(['Ian', 'https://ianchenhq.com', 'Taipei, Taiwan', 'ianchen06@gmail.com'])"
      ]
     },
     "execution_count": 136,
     "metadata": {},
     "output_type": "execute_result"
    }
   ],
   "source": [
    "user.values()"
   ]
  },
  {
   "cell_type": "code",
   "execution_count": 137,
   "metadata": {},
   "outputs": [
    {
     "data": {
      "text/plain": [
       "{'address': 'Taipei, Taiwan',\n",
       " 'email': 'ianchen06@gmail.com',\n",
       " 'name': 'Ian',\n",
       " 'website': 'https://ianchenhq.com'}"
      ]
     },
     "execution_count": 137,
     "metadata": {},
     "output_type": "execute_result"
    }
   ],
   "source": [
    "user"
   ]
  },
  {
   "cell_type": "code",
   "execution_count": 138,
   "metadata": {},
   "outputs": [],
   "source": [
    "user['langs'] = ['Python', 'Ruby', 'Java', 'JavaScript']"
   ]
  },
  {
   "cell_type": "code",
   "execution_count": 139,
   "metadata": {},
   "outputs": [
    {
     "data": {
      "text/plain": [
       "{'address': 'Taipei, Taiwan',\n",
       " 'email': 'ianchen06@gmail.com',\n",
       " 'langs': ['Python', 'Ruby', 'Java', 'JavaScript'],\n",
       " 'name': 'Ian',\n",
       " 'website': 'https://ianchenhq.com'}"
      ]
     },
     "execution_count": 139,
     "metadata": {},
     "output_type": "execute_result"
    }
   ],
   "source": [
    "user"
   ]
  },
  {
   "cell_type": "code",
   "execution_count": 140,
   "metadata": {},
   "outputs": [
    {
     "data": {
      "text/plain": [
       "['Python', 'Ruby', 'Java', 'JavaScript']"
      ]
     },
     "execution_count": 140,
     "metadata": {},
     "output_type": "execute_result"
    }
   ],
   "source": [
    "user['langs']"
   ]
  },
  {
   "cell_type": "markdown",
   "metadata": {},
   "source": [
    "### Fast lookup if something is in a collection"
   ]
  },
  {
   "cell_type": "markdown",
   "metadata": {},
   "source": [
    "check if something is in a list"
   ]
  },
  {
   "cell_type": "code",
   "execution_count": 142,
   "metadata": {},
   "outputs": [
    {
     "data": {
      "text/plain": [
       "True"
      ]
     },
     "execution_count": 142,
     "metadata": {},
     "output_type": "execute_result"
    }
   ],
   "source": [
    "'Ruby' in ['Python', 'Ruby', 'Java', 'JavaScript']"
   ]
  },
  {
   "cell_type": "code",
   "execution_count": 141,
   "metadata": {},
   "outputs": [
    {
     "data": {
      "text/plain": [
       "True"
      ]
     },
     "execution_count": 141,
     "metadata": {},
     "output_type": "execute_result"
    }
   ],
   "source": [
    "'Python' in user['langs']"
   ]
  },
  {
   "cell_type": "code",
   "execution_count": 143,
   "metadata": {},
   "outputs": [
    {
     "data": {
      "text/plain": [
       "False"
      ]
     },
     "execution_count": 143,
     "metadata": {},
     "output_type": "execute_result"
    }
   ],
   "source": [
    "'PHP' in user['langs']"
   ]
  },
  {
   "cell_type": "markdown",
   "metadata": {},
   "source": [
    "check if something is in a dict\n",
    "\n",
    "note: it only checks keys"
   ]
  },
  {
   "cell_type": "code",
   "execution_count": 144,
   "metadata": {},
   "outputs": [
    {
     "data": {
      "text/plain": [
       "{'address': 'Taipei, Taiwan',\n",
       " 'email': 'ianchen06@gmail.com',\n",
       " 'langs': ['Python', 'Ruby', 'Java', 'JavaScript'],\n",
       " 'name': 'Ian',\n",
       " 'website': 'https://ianchenhq.com'}"
      ]
     },
     "execution_count": 144,
     "metadata": {},
     "output_type": "execute_result"
    }
   ],
   "source": [
    "user"
   ]
  },
  {
   "cell_type": "code",
   "execution_count": 145,
   "metadata": {},
   "outputs": [
    {
     "data": {
      "text/plain": [
       "False"
      ]
     },
     "execution_count": 145,
     "metadata": {},
     "output_type": "execute_result"
    }
   ],
   "source": [
    "'school' in user"
   ]
  },
  {
   "cell_type": "code",
   "execution_count": 146,
   "metadata": {},
   "outputs": [
    {
     "data": {
      "text/plain": [
       "True"
      ]
     },
     "execution_count": 146,
     "metadata": {},
     "output_type": "execute_result"
    }
   ],
   "source": [
    "'email' in user"
   ]
  },
  {
   "cell_type": "code",
   "execution_count": 149,
   "metadata": {},
   "outputs": [
    {
     "data": {
      "text/plain": [
       "True"
      ]
     },
     "execution_count": 149,
     "metadata": {},
     "output_type": "execute_result"
    }
   ],
   "source": [
    "# To check values, first get the values of dict as a list\n",
    "'Ian' in user.values()"
   ]
  },
  {
   "cell_type": "markdown",
   "metadata": {},
   "source": [
    "# Control Flow and Iterables"
   ]
  },
  {
   "cell_type": "code",
   "execution_count": 153,
   "metadata": {},
   "outputs": [],
   "source": [
    "\n",
    "applicant = {'address': 'Taipei, Taiwan',\n",
    " 'email': 'ianchen06@gmail.com',\n",
    " 'langs': ['Python', 'Ruby', 'Java', 'JavaScript'],\n",
    " 'name': 'Ian',\n",
    " 'website': 'https://ianchenhq.com'}"
   ]
  },
  {
   "cell_type": "code",
   "execution_count": 157,
   "metadata": {},
   "outputs": [
    {
     "name": "stdout",
     "output_type": "stream",
     "text": [
      "YES\n"
     ]
    }
   ],
   "source": [
    "applicant = {'address': 'Taipei, Taiwan',\n",
    " 'email': 'ianchen06@gmail.com',\n",
    " 'langs': ['Python', 'Ruby', 'Java', 'JavaScript'],\n",
    " 'name': 'Ian',\n",
    " 'website': 'https://ianchenhq.com'}\n",
    "if 'Python' in applicant['langs']:\n",
    "    print(\"YES\")\n",
    "elif 'Java' in applicant['langs']:\n",
    "    print(\"Maybe\")\n",
    "else:\n",
    "    print(\"NO\")"
   ]
  },
  {
   "cell_type": "code",
   "execution_count": 158,
   "metadata": {},
   "outputs": [
    {
     "name": "stdout",
     "output_type": "stream",
     "text": [
      "Maybe\n"
     ]
    }
   ],
   "source": [
    "applicant = {'address': 'Taipei, Taiwan',\n",
    " 'email': 'ianchen06@gmail.com',\n",
    " 'langs': ['', 'Ruby', 'Java', 'JavaScript'],\n",
    " 'name': 'Ian',\n",
    " 'website': 'https://ianchenhq.com'}\n",
    "if 'Python' in applicant['langs']:\n",
    "    print(\"YES\")\n",
    "elif 'Java' in applicant['langs']:\n",
    "    print(\"Maybe\")\n",
    "else:\n",
    "    print(\"NO\")"
   ]
  },
  {
   "cell_type": "code",
   "execution_count": 159,
   "metadata": {},
   "outputs": [
    {
     "name": "stdout",
     "output_type": "stream",
     "text": [
      "NO\n"
     ]
    }
   ],
   "source": [
    "applicant = {'address': 'Taipei, Taiwan',\n",
    " 'email': 'ianchen06@gmail.com',\n",
    " 'langs': ['', 'Ruby', '', 'JavaScript'],\n",
    " 'name': 'Ian',\n",
    " 'website': 'https://ianchenhq.com'}\n",
    "if 'Python' in applicant['langs']:\n",
    "    print(\"YES\")\n",
    "elif 'Java' in applicant['langs']:\n",
    "    print(\"Maybe\")\n",
    "else:\n",
    "    print(\"NO\")"
   ]
  },
  {
   "cell_type": "code",
   "execution_count": 167,
   "metadata": {},
   "outputs": [],
   "source": [
    "candidates = [{'address': 'Taipei, Taiwan',\n",
    "  'email': 'ianchen06@gmail.com',\n",
    "  'langs': ['Python', 'Ruby', '', 'JavaScript'],\n",
    "  'name': 'Ian',\n",
    "  'website': 'https://ianchenhq.com'},\n",
    " {'address': 'Tainan, Taiwan',\n",
    "  'email': 'brian@gmail.com',\n",
    "  'langs': ['', 'Ruby', '', 'JavaScript'],\n",
    "  'name': 'Brian',\n",
    "  'website': 'https://brian.com'},\n",
    " {'address': 'Kaoshiung, Taiwan',\n",
    "  'email': 'david@gmail.com',\n",
    "  'langs': ['', 'Ruby', 'Java', 'JavaScript'],\n",
    "  'name': 'David',\n",
    "  'website': 'https://david.com'}]"
   ]
  },
  {
   "cell_type": "code",
   "execution_count": 168,
   "metadata": {},
   "outputs": [
    {
     "data": {
      "text/plain": [
       "{'address': 'Taipei, Taiwan',\n",
       " 'email': 'ianchen06@gmail.com',\n",
       " 'langs': ['Python', 'Ruby', '', 'JavaScript'],\n",
       " 'name': 'Ian',\n",
       " 'website': 'https://ianchenhq.com'}"
      ]
     },
     "execution_count": 168,
     "metadata": {},
     "output_type": "execute_result"
    }
   ],
   "source": [
    "candidates[0]"
   ]
  },
  {
   "cell_type": "code",
   "execution_count": 169,
   "metadata": {},
   "outputs": [
    {
     "data": {
      "text/plain": [
       "{'address': 'Tainan, Taiwan',\n",
       " 'email': 'brian@gmail.com',\n",
       " 'langs': ['', 'Ruby', '', 'JavaScript'],\n",
       " 'name': 'Brian',\n",
       " 'website': 'https://brian.com'}"
      ]
     },
     "execution_count": 169,
     "metadata": {},
     "output_type": "execute_result"
    }
   ],
   "source": [
    "candidates[1]"
   ]
  },
  {
   "cell_type": "code",
   "execution_count": 170,
   "metadata": {},
   "outputs": [
    {
     "data": {
      "text/plain": [
       "{'address': 'Kaoshiung, Taiwan',\n",
       " 'email': 'david@gmail.com',\n",
       " 'langs': ['', 'Ruby', 'Java', 'JavaScript'],\n",
       " 'name': 'David',\n",
       " 'website': 'https://david.com'}"
      ]
     },
     "execution_count": 170,
     "metadata": {},
     "output_type": "execute_result"
    }
   ],
   "source": [
    "candidates[2]"
   ]
  },
  {
   "cell_type": "code",
   "execution_count": 171,
   "metadata": {},
   "outputs": [
    {
     "name": "stdout",
     "output_type": "stream",
     "text": [
      "Ian\n",
      "Brian\n",
      "David\n"
     ]
    }
   ],
   "source": [
    "for cand in candidates:\n",
    "    print(cand['name'])"
   ]
  },
  {
   "cell_type": "code",
   "execution_count": 182,
   "metadata": {},
   "outputs": [
    {
     "name": "stdout",
     "output_type": "stream",
     "text": [
      "address\n",
      "email\n",
      "langs\n",
      "name\n",
      "website\n"
     ]
    }
   ],
   "source": [
    "# for loop a dict, you will get keys\n",
    "for field in candidates[0]:\n",
    "    print(field)\n",
    "    #print(candidates[0][field])"
   ]
  },
  {
   "cell_type": "code",
   "execution_count": null,
   "metadata": {},
   "outputs": [],
   "source": [
    "# for(i=0, i<length(my_list)-1, i++){}"
   ]
  },
  {
   "cell_type": "code",
   "execution_count": 172,
   "metadata": {},
   "outputs": [
    {
     "name": "stdout",
     "output_type": "stream",
     "text": [
      "dog\n",
      "cat\n",
      "mouse\n"
     ]
    }
   ],
   "source": [
    "for animal in ['dog', 'cat', 'mouse']:\n",
    "    print(animal)"
   ]
  },
  {
   "cell_type": "code",
   "execution_count": 174,
   "metadata": {},
   "outputs": [
    {
     "name": "stdout",
     "output_type": "stream",
     "text": [
      "0\n",
      "1\n",
      "2\n",
      "3\n"
     ]
    }
   ],
   "source": [
    "x = 0\n",
    "while x < 4:\n",
    "    print(x)\n",
    "    x += 1 # x = x + 1"
   ]
  },
  {
   "cell_type": "code",
   "execution_count": 183,
   "metadata": {},
   "outputs": [
    {
     "data": {
      "text/plain": [
       "'Brian'"
      ]
     },
     "execution_count": 183,
     "metadata": {},
     "output_type": "execute_result"
    }
   ],
   "source": [
    "candidates[1]['name']"
   ]
  },
  {
   "cell_type": "code",
   "execution_count": 184,
   "metadata": {},
   "outputs": [
    {
     "ename": "KeyError",
     "evalue": "'age'",
     "output_type": "error",
     "traceback": [
      "\u001b[0;31m---------------------------------------------------------------------------\u001b[0m",
      "\u001b[0;31mKeyError\u001b[0m                                  Traceback (most recent call last)",
      "\u001b[0;32m<ipython-input-184-4d83c88b20fd>\u001b[0m in \u001b[0;36m<module>\u001b[0;34m()\u001b[0m\n\u001b[0;32m----> 1\u001b[0;31m \u001b[0mcandidates\u001b[0m\u001b[0;34m[\u001b[0m\u001b[0;36m1\u001b[0m\u001b[0;34m]\u001b[0m\u001b[0;34m[\u001b[0m\u001b[0;34m'age'\u001b[0m\u001b[0;34m]\u001b[0m\u001b[0;34m\u001b[0m\u001b[0m\n\u001b[0m",
      "\u001b[0;31mKeyError\u001b[0m: 'age'"
     ]
    }
   ],
   "source": [
    "candidates[1]['age']"
   ]
  },
  {
   "cell_type": "code",
   "execution_count": 187,
   "metadata": {},
   "outputs": [
    {
     "name": "stdout",
     "output_type": "stream",
     "text": [
      "No age found\n",
      "Done parsing user\n"
     ]
    }
   ],
   "source": [
    "try:\n",
    "    print(candidates[1]['age'])\n",
    "except KeyError:\n",
    "    # Enters when error catched\n",
    "    print(\"No age found\")\n",
    "else:\n",
    "    # Enters when NO errors catched\n",
    "    print(\"User is good\")\n",
    "finally:\n",
    "    # Always enters this block\n",
    "    print(\"Done parsing user\")"
   ]
  },
  {
   "cell_type": "code",
   "execution_count": 188,
   "metadata": {},
   "outputs": [
    {
     "name": "stdout",
     "output_type": "stream",
     "text": [
      "['', 'Ruby', '', 'JavaScript']\n",
      "User is good\n",
      "Done parsing user\n"
     ]
    }
   ],
   "source": [
    "try:\n",
    "    print(candidates[1]['langs'])\n",
    "except KeyError:\n",
    "    # Enters when error catched\n",
    "    print(\"No age found\")\n",
    "else:\n",
    "    # Enters when NO errors catched\n",
    "    print(\"User is good\")\n",
    "finally:\n",
    "    # Always enters this block\n",
    "    print(\"Done parsing user\")"
   ]
  },
  {
   "cell_type": "code",
   "execution_count": 192,
   "metadata": {},
   "outputs": [],
   "source": [
    "# comprehensions\n",
    "candidates = [{'address': 'Taipei, Taiwan',\n",
    "  'email': 'ianchen06@gmail.com',\n",
    "  'langs': ['Python', 'Ruby', 'Java', 'JavaScript'],\n",
    "  'name': 'Ian',\n",
    "  'website': 'https://ianchenhq.com'},\n",
    " {'address': 'Tainan, Taiwan',\n",
    "  'email': 'brian@gmail.com',\n",
    "  'langs': ['', 'Ruby', '', 'JavaScript'],\n",
    "  'name': 'Brian',\n",
    "  'website': 'https://brian.com'},\n",
    " {'address': 'Kaoshiung, Taiwan',\n",
    "  'email': 'david@gmail.com',\n",
    "  'langs': ['', 'Ruby', 'Java', 'JavaScript'],\n",
    "  'name': 'David',\n",
    "  'website': 'https://david.com'}]"
   ]
  },
  {
   "cell_type": "code",
   "execution_count": 193,
   "metadata": {},
   "outputs": [
    {
     "data": {
      "text/plain": [
       "[{'address': 'Taipei, Taiwan',\n",
       "  'email': 'ianchen06@gmail.com',\n",
       "  'langs': ['Python', 'Ruby', 'Java', 'JavaScript'],\n",
       "  'name': 'Ian',\n",
       "  'website': 'https://ianchenhq.com'}]"
      ]
     },
     "execution_count": 193,
     "metadata": {},
     "output_type": "execute_result"
    }
   ],
   "source": [
    "[cand for cand in candidates if 'Python' in cand['langs']]"
   ]
  },
  {
   "cell_type": "code",
   "execution_count": 194,
   "metadata": {},
   "outputs": [
    {
     "data": {
      "text/plain": [
       "[{'address': 'Taipei, Taiwan',\n",
       "  'email': 'ianchen06@gmail.com',\n",
       "  'langs': ['Python', 'Ruby', 'Java', 'JavaScript'],\n",
       "  'name': 'Ian',\n",
       "  'website': 'https://ianchenhq.com'},\n",
       " {'address': 'Kaoshiung, Taiwan',\n",
       "  'email': 'david@gmail.com',\n",
       "  'langs': ['', 'Ruby', 'Java', 'JavaScript'],\n",
       "  'name': 'David',\n",
       "  'website': 'https://david.com'}]"
      ]
     },
     "execution_count": 194,
     "metadata": {},
     "output_type": "execute_result"
    }
   ],
   "source": [
    "[cand for cand in candidates if 'Java' in cand['langs']]"
   ]
  },
  {
   "cell_type": "code",
   "execution_count": 199,
   "metadata": {},
   "outputs": [
    {
     "data": {
      "text/plain": [
       "['address', 'email', 'langs', 'name', 'website']"
      ]
     },
     "execution_count": 199,
     "metadata": {},
     "output_type": "execute_result"
    }
   ],
   "source": [
    "# You can cast the dict_keys/dict_values objects to list\n",
    "list(candidates[0].keys())"
   ]
  },
  {
   "cell_type": "markdown",
   "metadata": {},
   "source": [
    "# Functions"
   ]
  },
  {
   "cell_type": "code",
   "execution_count": 202,
   "metadata": {},
   "outputs": [],
   "source": [
    "def add(x, y):\n",
    "    print(\"[DEBUG]x is %s, y is %s\"%(x,y))\n",
    "    return x + y"
   ]
  },
  {
   "cell_type": "code",
   "execution_count": 203,
   "metadata": {},
   "outputs": [
    {
     "name": "stdout",
     "output_type": "stream",
     "text": [
      "[DEBUG]x is 2, y is 3\n"
     ]
    },
    {
     "data": {
      "text/plain": [
       "5"
      ]
     },
     "execution_count": 203,
     "metadata": {},
     "output_type": "execute_result"
    }
   ],
   "source": [
    "add(2,3)"
   ]
  },
  {
   "cell_type": "code",
   "execution_count": 204,
   "metadata": {},
   "outputs": [
    {
     "name": "stdout",
     "output_type": "stream",
     "text": [
      "[DEBUG]x is 1, y is 9\n"
     ]
    },
    {
     "data": {
      "text/plain": [
       "10"
      ]
     },
     "execution_count": 204,
     "metadata": {},
     "output_type": "execute_result"
    }
   ],
   "source": [
    "add(y=9, x=1)"
   ]
  },
  {
   "cell_type": "code",
   "execution_count": 206,
   "metadata": {},
   "outputs": [],
   "source": [
    "x = 5\n",
    "\n",
    "def set_x(num):\n",
    "    x = num\n",
    "    print(x)"
   ]
  },
  {
   "cell_type": "code",
   "execution_count": 207,
   "metadata": {},
   "outputs": [
    {
     "data": {
      "text/plain": [
       "5"
      ]
     },
     "execution_count": 207,
     "metadata": {},
     "output_type": "execute_result"
    }
   ],
   "source": [
    "x"
   ]
  },
  {
   "cell_type": "code",
   "execution_count": 208,
   "metadata": {},
   "outputs": [
    {
     "name": "stdout",
     "output_type": "stream",
     "text": [
      "44\n"
     ]
    }
   ],
   "source": [
    "set_x(44)"
   ]
  },
  {
   "cell_type": "code",
   "execution_count": 209,
   "metadata": {},
   "outputs": [
    {
     "data": {
      "text/plain": [
       "5"
      ]
     },
     "execution_count": 209,
     "metadata": {},
     "output_type": "execute_result"
    }
   ],
   "source": [
    "x"
   ]
  },
  {
   "cell_type": "markdown",
   "metadata": {},
   "source": [
    "# File I/O"
   ]
  },
  {
   "cell_type": "code",
   "execution_count": 210,
   "metadata": {},
   "outputs": [],
   "source": [
    "f = open('/tmp/instant.json')"
   ]
  },
  {
   "cell_type": "code",
   "execution_count": 212,
   "metadata": {},
   "outputs": [],
   "source": [
    "f = open('/tmp/hello.txt', 'w')"
   ]
  },
  {
   "cell_type": "code",
   "execution_count": 213,
   "metadata": {},
   "outputs": [
    {
     "data": {
      "text/plain": [
       "12"
      ]
     },
     "execution_count": 213,
     "metadata": {},
     "output_type": "execute_result"
    }
   ],
   "source": [
    "f.write(\"Hello, BB106\")"
   ]
  },
  {
   "cell_type": "code",
   "execution_count": 214,
   "metadata": {},
   "outputs": [],
   "source": [
    "f.close()"
   ]
  },
  {
   "cell_type": "code",
   "execution_count": 215,
   "metadata": {},
   "outputs": [
    {
     "name": "stdout",
     "output_type": "stream",
     "text": [
      "bb106_20180320.ipynb\r\n"
     ]
    }
   ],
   "source": [
    "!ls"
   ]
  },
  {
   "cell_type": "code",
   "execution_count": 216,
   "metadata": {},
   "outputs": [
    {
     "name": "stdout",
     "output_type": "stream",
     "text": [
      "Hello, BB106"
     ]
    }
   ],
   "source": [
    "!cat /tmp/hello.txt"
   ]
  },
  {
   "cell_type": "code",
   "execution_count": 217,
   "metadata": {},
   "outputs": [],
   "source": [
    "f = open('/tmp/hello.txt')"
   ]
  },
  {
   "cell_type": "code",
   "execution_count": 219,
   "metadata": {},
   "outputs": [],
   "source": [
    "hello = f.read()"
   ]
  },
  {
   "cell_type": "code",
   "execution_count": 220,
   "metadata": {},
   "outputs": [],
   "source": [
    "f.close()"
   ]
  },
  {
   "cell_type": "markdown",
   "metadata": {},
   "source": [
    "# Modules"
   ]
  },
  {
   "cell_type": "code",
   "execution_count": 221,
   "metadata": {},
   "outputs": [],
   "source": [
    "import json"
   ]
  },
  {
   "cell_type": "code",
   "execution_count": 222,
   "metadata": {},
   "outputs": [
    {
     "name": "stdout",
     "output_type": "stream",
     "text": [
      "  % Total    % Received % Xferd  Average Speed   Time    Time     Time  Current\n",
      "                                 Dload  Upload   Total   Spent    Left  Speed\n",
      "100 18217  100 18217    0     0  67276      0 --:--:-- --:--:-- --:--:-- 67470\n"
     ]
    }
   ],
   "source": [
    "!curl http://data.taipower.com.tw/opendata01/apply/file/d006001/001.txt > /tmp/taipower.json"
   ]
  },
  {
   "cell_type": "code",
   "execution_count": 224,
   "metadata": {},
   "outputs": [
    {
     "name": "stdout",
     "output_type": "stream",
     "text": [
      "{\"\":\"2018-03-20 15:30\",\"aaData\":[[\"<A NAME='nuclear'></A><b>核能(Nuclear)</b>\",\"核一#1\",\"636.0\",\"0.0\",\"0.0%\",\"歲修逾排程\"],[\"<A NAME='nuclear'></A><b>核能(Nuclear)</b>\",\"核一#2\",\"636.0\",\"0.0\",\"0.0%\",\"歲修\"],[\"<A NAME='nuclear'></A><b>核能(Nuclear)</b>\",\"核二#1\",\"985.0\",\"984.0\",\"99.9%\",\" \"],[\"<A NAME='nuclear'></A><b>核能(Nuclear)</b>\",\"核二#2\",\"985.0\",\"0.0\",\"0.0%\",\"歲修逾排程\"],[\"<A NAME='nuclear'></A><b>核能(Nuclear)</b>\",\"核三#1\",\"951.0\",\"935.8\",\"98.4%\",\" \"],[\"<A NAME='nuclear'></A><b>核能(Nuclear)</b>\",\"核三#2\",\"951.0\",\"942.6\",\"99.1%\",\" \"],[\"<A NAME='nuclear'></A><b>核能(Nuclear)</b>\",\"小計\",\"5144.0(11.8%)\",\"2862.4(10.2%)\",\"\",\"\"],[\"<A NAME='coal'></A><b>燃煤(Coal)</b>\",\"林口#1\",\"800.0\",\"0.0\",\"0.0%\",\"歲修\"],[\"<A NAME='coal'></A><b>燃煤(Coal)</b>\",\"林口#2\",\"800.0\",\"766.7\",\"95.8%\",\" \"],[\"<A NAME='coal'></A><b>燃煤(Coal)</b>\",\"台中#1\",\"550.0\",\"498.6\",\"90.7%\",\" \"],[\"<A NAME='coal'></A><b>燃煤(Coal)</b>\",\"台中#2\",\"550.0\",\"528.4\",\"96.1%\",\" \"],[\"<A NAME='coal'></A><b>燃煤(Coal)</b>\",\"台中#3\",\"550.0\",\"522.5\",\"95.0%\",\" \"],[\"<A NAME='coal'></A><b>燃煤(Coal)</b>\",\"台中#4\",\"550.0\",\"515.4\",\"93.7%\",\" \"],[\"<A NAME='coal'></A><b>燃煤(Coal)</b>\",\"台中#5\",\"550.0\",\"542.0\",\"98.5%\",\" \"],[\"<A NAME='coal'></A><b>燃煤(Coal)</b>\",\"台中#6\",\"550.0\",\"528.4\",\"96.1%\",\" \"],[\"<A NAME='coal'></A><b>燃煤(Coal)</b>\",\"台中#7\",\"550.0\",\"0.0\",\"0.0%\",\"歲修\"],[\"<A NAME='coal'></A><b>燃煤(Coal)</b>\",\"台中#8\",\"550.0\",\"524.2\",\"95.3%\",\" \"],[\"<A NAME='coal'></A><b>燃煤(Coal)</b>\",\"台中#9\",\"550.0\",\"517.9\",\"94.2%\",\" \"],[\"<A NAME='coal'></A><b>燃煤(Coal)</b>\",\"台中#10\",\"550.0\",\"529.4\",\"96.3%\",\" \"],[\"<A NAME='coal'></A><b>燃煤(Coal)</b>\",\"興達#1\",\"500.0\",\"348.0\",\"69.6%\",\"環保限制\"],[\"<A NAME='coal'></A><b>燃煤(Coal)</b>\",\"興達#2\",\"500.0\",\"282.7\",\"56.5%\",\"環保限制\"],[\"<A NAME='coal'></A><b>燃煤(Coal)</b>\",\"興達#3\",\"550.0\",\"0.0\",\"0.0%\",\"歲修\"],[\"<A NAME='coal'></A><b>燃煤(Coal)</b>\",\"興達#4\",\"550.0\",\"277.7\",\"50.5%\",\"環保限制\"],[\"<A NAME='coal'></A><b>燃煤(Coal)</b>\",\"大林#1\",\"800.0\",\"0.0\",\"0.0%\",\"檢修\"],[\"<A NAME='coal'></A><b>燃煤(Coal)</b>\",\"大林#2(註10)\",\"-\",\"214.7\",\"26.8%\",\"新機組試俥\"],[\"<A NAME='coal'></A><b>燃煤(Coal)</b>\",\"小計\",\"10000.0(22.9%)\",\"6596.6(23.4%)\",\"\",\"\"],[\"<A NAME='cogen'></A><b>汽電共生(Co-Gen)</b>\",\"汽電共生\",\"623.2\",\"686.0\",\"-\",\"部分檢修\"],[\"<A NAME='cogen'></A><b>汽電共生(Co-Gen)</b>\",\"小計\",\"623.2(1.4%)\",\"686.0(2.4%)\",\"\",\"\"],[\"<A NAME='ippcoal'></A><b>民營電廠-燃煤(IPP-Coal)</b>\",\"和平#1\",\"648.6\",\"595.4\",\"91.8%\",\" \"],[\"<A NAME='ippcoal'></A><b>民營電廠-燃煤(IPP-Coal)</b>\",\"和平#2\",\"648.6\",\"601.2\",\"92.7%\",\" \"],[\"<A NAME='ippcoal'></A><b>民營電廠-燃煤(IPP-Coal)</b>\",\"麥寮#1\",\"600.0\",\"570.4\",\"95.1%\",\" \"],[\"<A NAME='ippcoal'></A><b>民營電廠-燃煤(IPP-Coal)</b>\",\"麥寮#2\",\"600.0\",\"569.8\",\"95.0%\",\" \"],[\"<A NAME='ippcoal'></A><b>民營電廠-燃煤(IPP-Coal)</b>\",\"麥寮#3\",\"600.0\",\"0.0\",\"0.0%\",\"歲修\"],[\"<A NAME='ippcoal'></A><b>民營電廠-燃煤(IPP-Coal)</b>\",\"小計\",\"3097.1(7.1%)\",\"2336.8(8.3%)\",\"\",\"\"],[\"<A NAME='lng'></A><b>燃氣(LNG)</b>\",\"大潭CC#1\",\"742.7\",\"692.2\",\"93.2%\",\" \"],[\"<A NAME='lng'></A><b>燃氣(LNG)</b>\",\"大潭CC#2\",\"742.7\",\"436.0\",\"58.7%\",\"部分歲修\"],[\"<A NAME='lng'></A><b>燃氣(LNG)</b>\",\"大潭CC#3\",\"724.7\",\"665.5\",\"91.8%\",\" \"],[\"<A NAME='lng'></A><b>燃氣(LNG)</b>\",\"大潭CC#4\",\"724.7\",\"698.3\",\"96.4%\",\" \"],[\"<A NAME='lng'></A><b>燃氣(LNG)</b>\",\"大潭CC#5\",\"724.7\",\"679.6\",\"93.8%\",\" \"],[\"<A NAME='lng'></A><b>燃氣(LNG)</b>\",\"大潭CC#6\",\"724.7\",\"0.0\",\"0.0%\",\"歲修\"],[\"<A NAME='lng'></A><b>燃氣(LNG)</b>\",\"大潭CC#7(註10)\",\"-\",\"602.9\",\"102.2%\",\"新機組試俥\"],[\"<A NAME='lng'></A><b>燃氣(LNG)</b>\",\"通霄CC#1\",\"892.6\",\"927.4\",\"103.9%\",\" \"],[\"<A NAME='lng'></A><b>燃氣(LNG)</b>\",\"通霄CC#4\",\"386.0\",\"380.0\",\"98.4%\",\" \"],[\"<A NAME='lng'></A><b>燃氣(LNG)</b>\",\"通霄CC#5\",\"386.0\",\"388.0\",\"100.5%\",\" \"],[\"<A NAME='lng'></A><b>燃氣(LNG)</b>\",\"通霄CC#6\",\"321.2\",\"323.2\",\"100.6%\",\" \"],[\"<A NAME='lng'></A><b>燃氣(LNG)</b>\",\"興達CC#1\",\"445.2\",\"375.7\",\"84.4%\",\" \"],[\"<A NAME='lng'></A><b>燃氣(LNG)</b>\",\"興達CC#2\",\"445.2\",\"0.0\",\"0.0%\",\"歲修\"],[\"<A NAME='lng'></A><b>燃氣(LNG)</b>\",\"興達CC#3\",\"445.2\",\"322.6\",\"72.5%\",\" \"],[\"<A NAME='lng'></A><b>燃氣(LNG)</b>\",\"興達CC#4\",\"445.2\",\"269.7\",\"60.6%\",\"部分檢修\"],[\"<A NAME='lng'></A><b>燃氣(LNG)</b>\",\"興達CC#5\",\"445.2\",\"384.0\",\"86.3%\",\" \"],[\"<A NAME='lng'></A><b>燃氣(LNG)</b>\",\"南部CC#1\",\"288.8\",\"206.8\",\"71.6%\",\"部分歲修\"],[\"<A NAME='lng'></A><b>燃氣(LNG)</b>\",\"南部CC#2\",\"288.8\",\"280.5\",\"97.1%\",\" \"],[\"<A NAME='lng'></A><b>燃氣(LNG)</b>\",\"南部CC#3\",\"288.8\",\"124.8\",\"43.2%\",\"部分檢修\"],[\"<A NAME='lng'></A><b>燃氣(LNG)</b>\",\"南部CC#4\",\"251.4\",\"246.5\",\"98.1%\",\" \"],[\"<A NAME='lng'></A><b>燃氣(LNG)</b>\",\"大林#5\",\"500.0\",\"405.4\",\"81.1%\",\"運轉限制\"],[\"<A NAME='lng'></A><b>燃氣(LNG)</b>\",\"大林#6\",\"550.0\",\"538.4\",\"97.9%\",\" \"],[\"<A NAME='lng'></A><b>燃氣(LNG)</b>\",\"小計\",\"10763.7(24.7%)\",\"8947.5(31.8%)\",\"\",\"\"],[\"<A NAME='ipplng'></A><b>民營電廠-燃氣(IPP-LNG)</b>\",\"海湖#1\",\"450.0\",\"458.9\",\"102.0%\",\" \"],[\"<A NAME='ipplng'></A><b>民營電廠-燃氣(IPP-LNG)</b>\",\"海湖#2\",\"450.0\",\"462.3\",\"102.7%\",\" \"],[\"<A NAME='ipplng'></A><b>民營電廠-燃氣(IPP-LNG)</b>\",\"新桃#1\",\"600.0\",\"418.6\",\"69.8%\",\"部分歲修\"],[\"<A NAME='ipplng'></A><b>民營電廠-燃氣(IPP-LNG)</b>\",\"國光#1\",\"480.0\",\"483.0\",\"100.6%\",\" \"],[\"<A NAME='ipplng'></A><b>民營電廠-燃氣(IPP-LNG)</b>\",\"星彰#1\",\"490.0\",\"527.2\",\"107.6%\",\" \"],[\"<A NAME='ipplng'></A><b>民營電廠-燃氣(IPP-LNG)</b>\",\"星元#1\",\"490.0\",\"547.1\",\"111.7%\",\" \"],[\"<A NAME='ipplng'></A><b>民營電廠-燃氣(IPP-LNG)</b>\",\"嘉惠#1\",\"670.0\",\"663.7\",\"99.1%\",\" \"],[\"<A NAME='ipplng'></A><b>民營電廠-燃氣(IPP-LNG)</b>\",\"豐德#1\",\"490.0\",\"513.4\",\"104.8%\",\" \"],[\"<A NAME='ipplng'></A><b>民營電廠-燃氣(IPP-LNG)</b>\",\"豐德#2\",\"490.0\",\"506.2\",\"103.3%\",\" \"],[\"<A NAME='ipplng'></A><b>民營電廠-燃氣(IPP-LNG)</b>\",\"小計\",\"4610.0(10.6%)\",\"4580.4(16.3%)\",\"\",\"\"],[\"<A NAME='oil'></A><b>燃油(Oil)</b>\",\"協和#1\",\"500.0\",\"372.0\",\"74.4%\",\"運轉限制\"],[\"<A NAME='oil'></A><b>燃油(Oil)</b>\",\"協和#2\",\"500.0\",\"346.4\",\"69.3%\",\"運轉限制\"],[\"<A NAME='oil'></A><b>燃油(Oil)</b>\",\"協和#3\",\"500.0\",\"0.0\",\"0.0%\",\"歲修\"],[\"<A NAME='oil'></A><b>燃油(Oil)</b>\",\"協和#4\",\"500.0\",\"128.9\",\"25.8%\",\"環保限制\"],[\"<A NAME='oil'></A><b>燃油(Oil)</b>\",\"小計\",\"2000.0(4.6%)\",\"847.3(3.0%)\",\"\",\"\"],[\"<A NAME='diesel'></A><b>輕油(Diesel)</b>\",\"核一Gas1\",\"-\",\"0.0\",\"0.0%\",\" \"],[\"<A NAME='diesel'></A><b>輕油(Diesel)</b>\",\"核一Gas2\",\"-\",\"0.0\",\"0.0%\",\"歲修\"],[\"<A NAME='diesel'></A><b>輕油(Diesel)</b>\",\"核二Gas1\",\"-\",\"0.0\",\"0.0%\",\" \"],[\"<A NAME='diesel'></A><b>輕油(Diesel)</b>\",\"核二Gas2\",\"-\",\"0.0\",\"0.0%\",\"檢修\"],[\"<A NAME='diesel'></A><b>輕油(Diesel)</b>\",\"核三Gas1\",\"-\",\"0.0\",\"0.0%\",\" \"],[\"<A NAME='diesel'></A><b>輕油(Diesel)</b>\",\"核三Gas2\",\"-\",\"0.0\",\"0.0%\",\" \"],[\"<A NAME='diesel'></A><b>輕油(Diesel)</b>\",\"台中Gas1&amp;2\",\"140.0\",\"0.0\",\"0.0%\",\"檢修\"],[\"<A NAME='diesel'></A><b>輕油(Diesel)</b>\",\"台中Gas3&amp;4\",\"140.0\",\"0.0\",\"0.0%\",\"部分歲修\"],[\"<A NAME='diesel'></A><b>輕油(Diesel)</b>\",\"澎湖尖山(註4)\",\"129.8\",\"41.4\",\"31.9%\",\" \"],[\"<A NAME='diesel'></A><b>輕油(Diesel)</b>\",\"金門塔山(註4)\",\"91.0\",\"27.4\",\"30.1%\",\" \"],[\"<A NAME='diesel'></A><b>輕油(Diesel)</b>\",\"馬祖珠山(註4)\",\"29.7\",\"6.1\",\"20.5%\",\" \"],[\"<A NAME='diesel'></A><b>輕油(Diesel)</b>\",\"離島其他(註4)\",\"42.7\",\"N/A\",\"N/A\",\" \"],[\"<A NAME='diesel'></A><b>輕油(Diesel)</b>\",\"小計(註5)\",\"573.2(1.3%)\",\"74.9(0.3%)\",\"\",\"\"],[\"<A NAME='hydro'></A><b>水力(Hydro)</b>\",\"德基#1\",\"78.0\",\"0.0\",\"0.0%\",\" \"],[\"<A NAME='hydro'></A><b>水力(Hydro)</b>\",\"德基#2\",\"78.0\",\"0.0\",\"0.0%\",\"歲修\"],[\"<A NAME='hydro'></A><b>水力(Hydro)</b>\",\"德基#3\",\"78.0\",\"0.0\",\"0.0%\",\" \"],[\"<A NAME='hydro'></A><b>水力(Hydro)</b>\",\"青山#1\",\"92.0\",\"11.9\",\"12.9%\",\" \"],[\"<A NAME='hydro'></A><b>水力(Hydro)</b>\",\"青山#2\",\"92.0\",\"11.9\",\"12.9%\",\" \"],[\"<A NAME='hydro'></A><b>水力(Hydro)</b>\",\"青山#3\",\"92.0\",\"9.2\",\"10.0%\",\" \"],[\"<A NAME='hydro'></A><b>水力(Hydro)</b>\",\"青山#4\",\"92.0\",\"0.0\",\"0.0%\",\" \"],[\"<A NAME='hydro'></A><b>水力(Hydro)</b>\",\"谷關#1\",\"54.4\",\"0.0\",\"0.0%\",\" \"],[\"<A NAME='hydro'></A><b>水力(Hydro)</b>\",\"谷關#2\",\"54.4\",\"44.8\",\"82.3%\",\" \"],[\"<A NAME='hydro'></A><b>水力(Hydro)</b>\",\"谷關#3\",\"54.4\",\"0.0\",\"0.0%\",\" \"],[\"<A NAME='hydro'></A><b>水力(Hydro)</b>\",\"谷關#4\",\"54.4\",\"0.0\",\"0.0%\",\" \"],[\"<A NAME='hydro'></A><b>水力(Hydro)</b>\",\"天輪#1\",\"22.5\",\"0.0\",\"0.0%\",\" \"],[\"<A NAME='hydro'></A><b>水力(Hydro)</b>\",\"天輪#2\",\"22.5\",\"8.4\",\"37.3%\",\" \"],[\"<A NAME='hydro'></A><b>水力(Hydro)</b>\",\"天輪#3\",\"22.5\",\"9.2\",\"40.9%\",\" \"],[\"<A NAME='hydro'></A><b>水力(Hydro)</b>\",\"天輪#4\",\"22.5\",\"8.2\",\"36.4%\",\" \"],[\"<A NAME='hydro'></A><b>水力(Hydro)</b>\",\"天輪#5\",\"105.0\",\"0.0\",\"0.0%\",\"檢修\"],[\"<A NAME='hydro'></A><b>水力(Hydro)</b>\",\"馬鞍#1\",\"66.7\",\"0.0\",\"0.0%\",\" \"],[\"<A NAME='hydro'></A><b>水力(Hydro)</b>\",\"馬鞍#2\",\"66.7\",\"28.8\",\"43.2%\",\" \"],[\"<A NAME='hydro'></A><b>水力(Hydro)</b>\",\"卓蘭#1\",\"40.0\",\"0.0\",\"0.0%\",\" \"],[\"<A NAME='hydro'></A><b>水力(Hydro)</b>\",\"卓蘭#2\",\"40.0\",\"0.0\",\"0.0%\",\" \"],[\"<A NAME='hydro'></A><b>水力(Hydro)</b>\",\"萬大#1\",\"10.4\",\"0.0\",\"0.0%\",\" \"],[\"<A NAME='hydro'></A><b>水力(Hydro)</b>\",\"萬大#2\",\"10.4\",\"0.0\",\"0.0%\",\" \"],[\"<A NAME='hydro'></A><b>水力(Hydro)</b>\",\"萬大#3\",\"15.3\",\"0.0\",\"0.0%\",\"檢修\"],[\"<A NAME='hydro'></A><b>水力(Hydro)</b>\",\"萬大#4\",\"19.7\",\"20.2\",\"102.5%\",\" \"],[\"<A NAME='hydro'></A><b>水力(Hydro)</b>\",\"松林#1&amp;2\",\"20.9\",\"6.6\",\"31.6%\",\" \"],[\"<A NAME='hydro'></A><b>水力(Hydro)</b>\",\"大觀一#1\",\"22.0\",\"15.0\",\"68.2%\",\" \"],[\"<A NAME='hydro'></A><b>水力(Hydro)</b>\",\"大觀一#2\",\"22.0\",\"0.0\",\"0.0%\",\"檢修\"],[\"<A NAME='hydro'></A><b>水力(Hydro)</b>\",\"大觀一#3\",\"22.0\",\"14.7\",\"66.8%\",\" \"],[\"<A NAME='hydro'></A><b>水力(Hydro)</b>\",\"大觀一#4\",\"22.0\",\"13.8\",\"62.7%\",\" \"],[\"<A NAME='hydro'></A><b>水力(Hydro)</b>\",\"大觀一#5\",\"22.0\",\"14.1\",\"64.1%\",\" \"],[\"<A NAME='hydro'></A><b>水力(Hydro)</b>\",\"鉅工#1\",\"21.8\",\"10.8\",\"49.7%\",\" \"],[\"<A NAME='hydro'></A><b>水力(Hydro)</b>\",\"鉅工#2\",\"21.8\",\"10.8\",\"49.7%\",\" \"],[\"<A NAME='hydro'></A><b>水力(Hydro)</b>\",\"水里#1\",\"12.8\",\"0.0\",\"0.0%\",\" \"],[\"<A NAME='hydro'></A><b>水力(Hydro)</b>\",\"立霧#1&amp;#2\",\"32.0\",\"0.0\",\"0.0%\",\"檢修\"],[\"<A NAME='hydro'></A><b>水力(Hydro)</b>\",\"龍澗#1\",\"48.6\",\"0.0\",\"0.0%\",\" \"],[\"<A NAME='hydro'></A><b>水力(Hydro)</b>\",\"龍澗#2\",\"48.6\",\"14.2\",\"29.2%\",\" \"],[\"<A NAME='hydro'></A><b>水力(Hydro)</b>\",\"碧海\",\"61.2\",\"13.7\",\"22.4%\",\" \"],[\"<A NAME='hydro'></A><b>水力(Hydro)</b>\",\"烏來&amp;桂山&amp;粗坑\",\"40.5\",\"11.7\",\"28.9%\",\" \"],[\"<A NAME='hydro'></A><b>水力(Hydro)</b>\",\"北部小水力(註6)\",\"26.6\",\"N/A\",\"N/A\",\" \"],[\"<A NAME='hydro'></A><b>水力(Hydro)</b>\",\"中部小水力(註6)\",\"9.8\",\"N/A\",\"N/A\",\" \"],[\"<A NAME='hydro'></A><b>水力(Hydro)</b>\",\"南部小水力(註6)\",\"7.2\",\"N/A\",\"N/A\",\" \"],[\"<A NAME='hydro'></A><b>水力(Hydro)</b>\",\"東部小水力(註6)\",\"54.6\",\"30.0\",\"54.9%\",\" \"],[\"<A NAME='hydro'></A><b>水力(Hydro)</b>\",\"翡翠#1\",\"70.0\",\"0.0\",\"0.0%\",\" \"],[\"<A NAME='hydro'></A><b>水力(Hydro)</b>\",\"石門#1\",\"45.0\",\"0.0\",\"0.0%\",\" \"],[\"<A NAME='hydro'></A><b>水力(Hydro)</b>\",\"石門#2\",\"45.0\",\"0.0\",\"0.0%\",\" \"],[\"<A NAME='hydro'></A><b>水力(Hydro)</b>\",\"曾文#1\",\"50.0\",\"0.0\",\"0.0%\",\" \"],[\"<A NAME='hydro'></A><b>水力(Hydro)</b>\",\"義興#1\",\"40.0\",\"18.1\",\"45.3%\",\" \"],[\"<A NAME='hydro'></A><b>水力(Hydro)</b>\",\"名間\",\"16.7\",\"7.6\",\"45.5%\",\" \"],[\"<A NAME='hydro'></A><b>水力(Hydro)</b>\",\"嘉南西口&amp;嘉南烏山頭\",\"20.3\",\"0.2\",\"1.0%\",\" \"],[\"<A NAME='hydro'></A><b>水力(Hydro)</b>\",\"后里示範\",\"0.1\",\"N/A\",\"N/A\",\" \"],[\"<A NAME='hydro'></A><b>水力(Hydro)</b>\",\"卑南\",\"2.0\",\"1.4\",\"70.7%\",\" \"],[\"<A NAME='hydro'></A><b>水力(Hydro)</b>\",\"小計\",\"2089.3(4.8%)\",\"355.3(1.3%)\",\"\",\"\"],[\"<A NAME='wind'></A><b>風力(Wind)</b>\",\"石門\",\"4.0\",\"1.1\",\"26.9%\",\" \"],[\"<A NAME='wind'></A><b>風力(Wind)</b>\",\"林口\",\"6.0\",\"1.9\",\"32.0%\",\" \"],[\"<A NAME='wind'></A><b>風力(Wind)</b>\",\"蘆竹\",\"7.2\",\"1.7\",\"23.6%\",\" \"],[\"<A NAME='wind'></A><b>風力(Wind)</b>\",\"大潭\",\"15.1\",\"1.8\",\"11.8%\",\" \"],[\"<A NAME='wind'></A><b>風力(Wind)</b>\",\"觀園\",\"30.0\",\"8.7\",\"29.1%\",\" \"],[\"<A NAME='wind'></A><b>風力(Wind)</b>\",\"香山\",\"12.0\",\"0.0\",\"0.0%\",\" \"],[\"<A NAME='wind'></A><b>風力(Wind)</b>\",\"台中\",\"6.0\",\"1.2\",\"19.6%\",\" \"],[\"<A NAME='wind'></A><b>風力(Wind)</b>\",\"台中港\",\"36.0\",\"9.9\",\"27.6%\",\" \"],[\"<A NAME='wind'></A><b>風力(Wind)</b>\",\"王功\",\"23.0\",\"14.2\",\"61.9%\",\" \"],[\"<A NAME='wind'></A><b>風力(Wind)</b>\",\"彰工\",\"62.0\",\"54.7\",\"88.3%\",\" \"],[\"<A NAME='wind'></A><b>風力(Wind)</b>\",\"雲麥\",\"46.0\",\"16.7\",\"36.3%\",\" \"],[\"<A NAME='wind'></A><b>風力(Wind)</b>\",\"四湖\",\"28.0\",\"16.8\",\"60.0%\",\" \"],[\"<A NAME='wind'></A><b>風力(Wind)</b>\",\"恆春\",\"4.5\",\"3.3\",\"73.4%\",\" \"],[\"<A NAME='wind'></A><b>風力(Wind)</b>\",\"澎湖中屯\",\"4.8\",\"2.8\",\"57.4%\",\" \"],[\"<A NAME='wind'></A><b>風力(Wind)</b>\",\"金門金沙\",\"4.0\",\"1.1\",\"28.2%\",\" \"],[\"<A NAME='wind'></A><b>風力(Wind)</b>\",\"澎湖湖西\",\"5.4\",\"2.2\",\"41.3%\",\" \"],[\"<A NAME='wind'></A><b>風力(Wind)</b>\",\"苗栗竹南\",\"7.8\",\"0.4\",\"5.1%\",\" \"],[\"<A NAME='wind'></A><b>風力(Wind)</b>\",\"苗栗大鵬\",\"42.0\",\"N/A\",\"N/A\",\" \"],[\"<A NAME='wind'></A><b>風力(Wind)</b>\",\"鹿威彰濱\",\"55.2\",\"33.0\",\"59.8%\",\" \"],[\"<A NAME='wind'></A><b>風力(Wind)</b>\",\"鹿威鹿港\",\"41.4\",\"20.7\",\"50.0%\",\" \"],[\"<A NAME='wind'></A><b>風力(Wind)</b>\",\"觀威觀音&amp;桃威觀屋\",\"48.3\",\"11.4\",\"23.6%\",\" \"],[\"<A NAME='wind'></A><b>風力(Wind)</b>\",\"中威大安\",\"82.8\",\"11.4\",\"13.8%\",\" \"],[\"<A NAME='wind'></A><b>風力(Wind)</b>\",\"崎威崎頂\",\"6.9\",\"0.2\",\"2.9%\",\" \"],[\"<A NAME='wind'></A><b>風力(Wind)</b>\",\"豐威\",\"11.5\",\"0.8\",\"7.0%\",\" \"],[\"<A NAME='wind'></A><b>風力(Wind)</b>\",\"龍威後龍\",\"44.1\",\"2.3\",\"5.2%\",\" \"],[\"<A NAME='wind'></A><b>風力(Wind)</b>\",\"苗栗通苑\",\"27.6\",\"2.0\",\"7.2%\",\" \"],[\"<A NAME='wind'></A><b>風力(Wind)</b>\",\"安威\",\"6.9\",\"0.5\",\"7.2%\",\" \"],[\"<A NAME='wind'></A><b>風力(Wind)</b>\",\"清風清水\",\"2.3\",\"1.1\",\"47.8%\",\" \"],[\"<A NAME='wind'></A><b>風力(Wind)</b>\",\"東鋼龍港\",\"11.5\",\"1.2\",\"10.4%\",\" \"],[\"<A NAME='wind'></A><b>風力(Wind)</b>\",\"海洋竹南\",\"8.0\",\"1.4\",\"17.5%\",\" \"],[\"<A NAME='wind'></A><b>風力(Wind)</b>\",\"小計\",\"690.3(1.6%)\",\"224.6(0.8%)\",\"\",\"\"],[\"<A NAME='solar'></A><b>太陽能(Solar)</b>\",\"金門金沙\",\"0.5\",\"0.097\",\"18.3%\",\" \"],[\"<A NAME='solar'></A><b>太陽能(Solar)</b>\",\"台中生水池\",\"2.1\",\"0.090\",\"4.2%\",\" \"],[\"<A NAME='solar'></A><b>太陽能(Solar)</b>\",\"興達生水池\",\"1.6\",\"0.210\",\"12.9%\",\" \"],[\"<A NAME='solar'></A><b>太陽能(Solar)</b>\",\"嘉義民雄\",\"0.1\",\"0.001\",\"1.7%\",\" \"],[\"<A NAME='solar'></A><b>太陽能(Solar)</b>\",\"中部儲運\",\"0.1\",\"0.003\",\"3.3%\",\" \"],[\"<A NAME='solar'></A><b>太陽能(Solar)</b>\",\"東勢新伯公\",\"0.1\",\"0.000\",\"0.0%\",\" \"],[\"<A NAME='solar'></A><b>太陽能(Solar)</b>\",\"永安鹽灘地\",\"4.6\",\"0.678\",\"14.6%\",\" \"],[\"<A NAME='solar'></A><b>太陽能(Solar)</b>\",\"路北\",\"0.1\",\"0.006\",\"10.0%\",\" \"],[\"<A NAME='solar'></A><b>太陽能(Solar)</b>\",\"中原大學\",\"0.0\",\"0.001\",\"2.5%\",\" \"],[\"<A NAME='solar'></A><b>太陽能(Solar)</b>\",\"大潭生水池\",\"0.6\",\"0.013\",\"2.0%\",\" \"],[\"<A NAME='solar'></A><b>太陽能(Solar)</b>\",\"核三生水池\",\"1.5\",\"0.239\",\"16.4%\",\" \"],[\"<A NAME='solar'></A><b>太陽能(Solar)</b>\",\"七美\",\"0.2\",\"0.014\",\"9.3%\",\" \"],[\"<A NAME='solar'></A><b>太陽能(Solar)</b>\",\"尖山\",\"0.1\",\"0.004\",\"5.7%\",\" \"],[\"<A NAME='solar'></A><b>太陽能(Solar)</b>\",\"卓蘭\",\"0.0\",\"0.000\",\"0.0%\",\" \"],[\"<A NAME='solar'></A><b>太陽能(Solar)</b>\",\"后里\",\"0.1\",\"0.003\",\"3.3%\",\" \"],[\"<A NAME='solar'></A><b>太陽能(Solar)</b>\",\"台中龍井\",\"6.5\",\"0.330\",\"5.1%\",\" \"],[\"<A NAME='solar'></A><b>太陽能(Solar)</b>\",\"太陽能購電(註7)\",\"1392.3\",\"128.097\",\"9.2%\",\" \"],[\"<A NAME='solar'></A><b>太陽能(Solar)</b>\",\"小計\",\"1410.5(3.2%)\",\"129.8(0.5%)\",\"\",\"\"],[\"<A NAME='pumpinggen'></A><b>抽蓄發電(Pumping Gen)</b>\",\"大觀二#1\",\"250.0\",\"0.0\",\"0.0%\",\" \"],[\"<A NAME='pumpinggen'></A><b>抽蓄發電(Pumping Gen)</b>\",\"大觀二#2\",\"250.0\",\"163.8\",\"65.5%\",\" \"],[\"<A NAME='pumpinggen'></A><b>抽蓄發電(Pumping Gen)</b>\",\"大觀二#3\",\"250.0\",\"0.0\",\"0.0%\",\" \"],[\"<A NAME='pumpinggen'></A><b>抽蓄發電(Pumping Gen)</b>\",\"大觀二#4\",\"250.0\",\"0.0\",\"0.0%\",\" \"],[\"<A NAME='pumpinggen'></A><b>抽蓄發電(Pumping Gen)</b>\",\"明潭#1\",\"267.0\",\"0.0\",\"0.0%\",\"歲修\"],[\"<A NAME='pumpinggen'></A><b>抽蓄發電(Pumping Gen)</b>\",\"明潭#2\",\"267.0\",\"0.0\",\"0.0%\",\" \"],[\"<A NAME='pumpinggen'></A><b>抽蓄發電(Pumping Gen)</b>\",\"明潭#3\",\"267.0\",\"181.0\",\"67.8%\",\" \"],[\"<A NAME='pumpinggen'></A><b>抽蓄發電(Pumping Gen)</b>\",\"明潭#4\",\"267.0\",\"0.0\",\"0.0%\",\" \"],[\"<A NAME='pumpinggen'></A><b>抽蓄發電(Pumping Gen)</b>\",\"明潭#5\",\"267.0\",\"0.0\",\"0.0%\",\" \"],[\"<A NAME='pumpinggen'></A><b>抽蓄發電(Pumping Gen)</b>\",\"明潭#6\",\"267.0\",\"155.1\",\"58.1%\",\" \"],[\"<A NAME='pumpinggen'></A><b>抽蓄發電(Pumping Gen)</b>\",\"小計\",\"2602.0(6.0%)\",\"499.9(1.8%)\",\"\",\"\"],[\"<A NAME='pumpingload'></A><b>抽蓄負載(Pumping Load)</b>\",\"大觀二#1\",\"-\",\"0.0\",\"-\",\" \"],[\"<A NAME='pumpingload'></A><b>抽蓄負載(Pumping Load)</b>\",\"大觀二#2\",\"-\",\"0.0\",\"-\",\" \"],[\"<A NAME='pumpingload'></A><b>抽蓄負載(Pumping Load)</b>\",\"大觀二#3\",\"-\",\"0.0\",\"-\",\" \"],[\"<A NAME='pumpingload'></A><b>抽蓄負載(Pumping Load)</b>\",\"大觀二#4\",\"-\",\"0.0\",\"-\",\" \"],[\"<A NAME='pumpingload'></A><b>抽蓄負載(Pumping Load)</b>\",\"明潭#1\",\"-\",\"0.0\",\"-\",\"歲修\"],[\"<A NAME='pumpingload'></A><b>抽蓄負載(Pumping Load)</b>\",\"明潭#2\",\"-\",\"0.0\",\"-\",\" \"],[\"<A NAME='pumpingload'></A><b>抽蓄負載(Pumping Load)</b>\",\"明潭#3\",\"-\",\"0.0\",\"-\",\" \"],[\"<A NAME='pumpingload'></A><b>抽蓄負載(Pumping Load)</b>\",\"明潭#4\",\"-\",\"0.0\",\"-\",\" \"],[\"<A NAME='pumpingload'></A><b>抽蓄負載(Pumping Load)</b>\",\"明潭#5\",\"-\",\"0.0\",\"-\",\" \"],[\"<A NAME='pumpingload'></A><b>抽蓄負載(Pumping Load)</b>\",\"明潭#6\",\"-\",\"0.0\",\"-\",\" \"]]}"
     ]
    }
   ],
   "source": [
    "!head /tmp/taipower.json"
   ]
  },
  {
   "cell_type": "code",
   "execution_count": 242,
   "metadata": {},
   "outputs": [],
   "source": [
    "f = open('/tmp/taipower.json')"
   ]
  },
  {
   "cell_type": "code",
   "execution_count": 243,
   "metadata": {},
   "outputs": [],
   "source": [
    "data = json.load(f)"
   ]
  },
  {
   "cell_type": "code",
   "execution_count": 244,
   "metadata": {},
   "outputs": [
    {
     "data": {
      "text/plain": [
       "{'': '2018-03-20 15:30',\n",
       " 'aaData': [[\"<A NAME='nuclear'></A><b>核能(Nuclear)</b>\",\n",
       "   '核一#1',\n",
       "   '636.0',\n",
       "   '0.0',\n",
       "   '0.0%',\n",
       "   '歲修逾排程'],\n",
       "  [\"<A NAME='nuclear'></A><b>核能(Nuclear)</b>\",\n",
       "   '核一#2',\n",
       "   '636.0',\n",
       "   '0.0',\n",
       "   '0.0%',\n",
       "   '歲修'],\n",
       "  [\"<A NAME='nuclear'></A><b>核能(Nuclear)</b>\",\n",
       "   '核二#1',\n",
       "   '985.0',\n",
       "   '984.0',\n",
       "   '99.9%',\n",
       "   ' '],\n",
       "  [\"<A NAME='nuclear'></A><b>核能(Nuclear)</b>\",\n",
       "   '核二#2',\n",
       "   '985.0',\n",
       "   '0.0',\n",
       "   '0.0%',\n",
       "   '歲修逾排程'],\n",
       "  [\"<A NAME='nuclear'></A><b>核能(Nuclear)</b>\",\n",
       "   '核三#1',\n",
       "   '951.0',\n",
       "   '935.8',\n",
       "   '98.4%',\n",
       "   ' '],\n",
       "  [\"<A NAME='nuclear'></A><b>核能(Nuclear)</b>\",\n",
       "   '核三#2',\n",
       "   '951.0',\n",
       "   '942.6',\n",
       "   '99.1%',\n",
       "   ' '],\n",
       "  [\"<A NAME='nuclear'></A><b>核能(Nuclear)</b>\",\n",
       "   '小計',\n",
       "   '5144.0(11.8%)',\n",
       "   '2862.4(10.2%)',\n",
       "   '',\n",
       "   ''],\n",
       "  [\"<A NAME='coal'></A><b>燃煤(Coal)</b>\", '林口#1', '800.0', '0.0', '0.0%', '歲修'],\n",
       "  [\"<A NAME='coal'></A><b>燃煤(Coal)</b>\",\n",
       "   '林口#2',\n",
       "   '800.0',\n",
       "   '766.7',\n",
       "   '95.8%',\n",
       "   ' '],\n",
       "  [\"<A NAME='coal'></A><b>燃煤(Coal)</b>\",\n",
       "   '台中#1',\n",
       "   '550.0',\n",
       "   '498.6',\n",
       "   '90.7%',\n",
       "   ' '],\n",
       "  [\"<A NAME='coal'></A><b>燃煤(Coal)</b>\",\n",
       "   '台中#2',\n",
       "   '550.0',\n",
       "   '528.4',\n",
       "   '96.1%',\n",
       "   ' '],\n",
       "  [\"<A NAME='coal'></A><b>燃煤(Coal)</b>\",\n",
       "   '台中#3',\n",
       "   '550.0',\n",
       "   '522.5',\n",
       "   '95.0%',\n",
       "   ' '],\n",
       "  [\"<A NAME='coal'></A><b>燃煤(Coal)</b>\",\n",
       "   '台中#4',\n",
       "   '550.0',\n",
       "   '515.4',\n",
       "   '93.7%',\n",
       "   ' '],\n",
       "  [\"<A NAME='coal'></A><b>燃煤(Coal)</b>\",\n",
       "   '台中#5',\n",
       "   '550.0',\n",
       "   '542.0',\n",
       "   '98.5%',\n",
       "   ' '],\n",
       "  [\"<A NAME='coal'></A><b>燃煤(Coal)</b>\",\n",
       "   '台中#6',\n",
       "   '550.0',\n",
       "   '528.4',\n",
       "   '96.1%',\n",
       "   ' '],\n",
       "  [\"<A NAME='coal'></A><b>燃煤(Coal)</b>\", '台中#7', '550.0', '0.0', '0.0%', '歲修'],\n",
       "  [\"<A NAME='coal'></A><b>燃煤(Coal)</b>\",\n",
       "   '台中#8',\n",
       "   '550.0',\n",
       "   '524.2',\n",
       "   '95.3%',\n",
       "   ' '],\n",
       "  [\"<A NAME='coal'></A><b>燃煤(Coal)</b>\",\n",
       "   '台中#9',\n",
       "   '550.0',\n",
       "   '517.9',\n",
       "   '94.2%',\n",
       "   ' '],\n",
       "  [\"<A NAME='coal'></A><b>燃煤(Coal)</b>\",\n",
       "   '台中#10',\n",
       "   '550.0',\n",
       "   '529.4',\n",
       "   '96.3%',\n",
       "   ' '],\n",
       "  [\"<A NAME='coal'></A><b>燃煤(Coal)</b>\",\n",
       "   '興達#1',\n",
       "   '500.0',\n",
       "   '348.0',\n",
       "   '69.6%',\n",
       "   '環保限制'],\n",
       "  [\"<A NAME='coal'></A><b>燃煤(Coal)</b>\",\n",
       "   '興達#2',\n",
       "   '500.0',\n",
       "   '282.7',\n",
       "   '56.5%',\n",
       "   '環保限制'],\n",
       "  [\"<A NAME='coal'></A><b>燃煤(Coal)</b>\", '興達#3', '550.0', '0.0', '0.0%', '歲修'],\n",
       "  [\"<A NAME='coal'></A><b>燃煤(Coal)</b>\",\n",
       "   '興達#4',\n",
       "   '550.0',\n",
       "   '277.7',\n",
       "   '50.5%',\n",
       "   '環保限制'],\n",
       "  [\"<A NAME='coal'></A><b>燃煤(Coal)</b>\", '大林#1', '800.0', '0.0', '0.0%', '檢修'],\n",
       "  [\"<A NAME='coal'></A><b>燃煤(Coal)</b>\",\n",
       "   '大林#2(註10)',\n",
       "   '-',\n",
       "   '214.7',\n",
       "   '26.8%',\n",
       "   '新機組試俥'],\n",
       "  [\"<A NAME='coal'></A><b>燃煤(Coal)</b>\",\n",
       "   '小計',\n",
       "   '10000.0(22.9%)',\n",
       "   '6596.6(23.4%)',\n",
       "   '',\n",
       "   ''],\n",
       "  [\"<A NAME='cogen'></A><b>汽電共生(Co-Gen)</b>\",\n",
       "   '汽電共生',\n",
       "   '623.2',\n",
       "   '686.0',\n",
       "   '-',\n",
       "   '部分檢修'],\n",
       "  [\"<A NAME='cogen'></A><b>汽電共生(Co-Gen)</b>\",\n",
       "   '小計',\n",
       "   '623.2(1.4%)',\n",
       "   '686.0(2.4%)',\n",
       "   '',\n",
       "   ''],\n",
       "  [\"<A NAME='ippcoal'></A><b>民營電廠-燃煤(IPP-Coal)</b>\",\n",
       "   '和平#1',\n",
       "   '648.6',\n",
       "   '595.4',\n",
       "   '91.8%',\n",
       "   ' '],\n",
       "  [\"<A NAME='ippcoal'></A><b>民營電廠-燃煤(IPP-Coal)</b>\",\n",
       "   '和平#2',\n",
       "   '648.6',\n",
       "   '601.2',\n",
       "   '92.7%',\n",
       "   ' '],\n",
       "  [\"<A NAME='ippcoal'></A><b>民營電廠-燃煤(IPP-Coal)</b>\",\n",
       "   '麥寮#1',\n",
       "   '600.0',\n",
       "   '570.4',\n",
       "   '95.1%',\n",
       "   ' '],\n",
       "  [\"<A NAME='ippcoal'></A><b>民營電廠-燃煤(IPP-Coal)</b>\",\n",
       "   '麥寮#2',\n",
       "   '600.0',\n",
       "   '569.8',\n",
       "   '95.0%',\n",
       "   ' '],\n",
       "  [\"<A NAME='ippcoal'></A><b>民營電廠-燃煤(IPP-Coal)</b>\",\n",
       "   '麥寮#3',\n",
       "   '600.0',\n",
       "   '0.0',\n",
       "   '0.0%',\n",
       "   '歲修'],\n",
       "  [\"<A NAME='ippcoal'></A><b>民營電廠-燃煤(IPP-Coal)</b>\",\n",
       "   '小計',\n",
       "   '3097.1(7.1%)',\n",
       "   '2336.8(8.3%)',\n",
       "   '',\n",
       "   ''],\n",
       "  [\"<A NAME='lng'></A><b>燃氣(LNG)</b>\",\n",
       "   '大潭CC#1',\n",
       "   '742.7',\n",
       "   '692.2',\n",
       "   '93.2%',\n",
       "   ' '],\n",
       "  [\"<A NAME='lng'></A><b>燃氣(LNG)</b>\",\n",
       "   '大潭CC#2',\n",
       "   '742.7',\n",
       "   '436.0',\n",
       "   '58.7%',\n",
       "   '部分歲修'],\n",
       "  [\"<A NAME='lng'></A><b>燃氣(LNG)</b>\",\n",
       "   '大潭CC#3',\n",
       "   '724.7',\n",
       "   '665.5',\n",
       "   '91.8%',\n",
       "   ' '],\n",
       "  [\"<A NAME='lng'></A><b>燃氣(LNG)</b>\",\n",
       "   '大潭CC#4',\n",
       "   '724.7',\n",
       "   '698.3',\n",
       "   '96.4%',\n",
       "   ' '],\n",
       "  [\"<A NAME='lng'></A><b>燃氣(LNG)</b>\",\n",
       "   '大潭CC#5',\n",
       "   '724.7',\n",
       "   '679.6',\n",
       "   '93.8%',\n",
       "   ' '],\n",
       "  [\"<A NAME='lng'></A><b>燃氣(LNG)</b>\", '大潭CC#6', '724.7', '0.0', '0.0%', '歲修'],\n",
       "  [\"<A NAME='lng'></A><b>燃氣(LNG)</b>\",\n",
       "   '大潭CC#7(註10)',\n",
       "   '-',\n",
       "   '602.9',\n",
       "   '102.2%',\n",
       "   '新機組試俥'],\n",
       "  [\"<A NAME='lng'></A><b>燃氣(LNG)</b>\",\n",
       "   '通霄CC#1',\n",
       "   '892.6',\n",
       "   '927.4',\n",
       "   '103.9%',\n",
       "   ' '],\n",
       "  [\"<A NAME='lng'></A><b>燃氣(LNG)</b>\",\n",
       "   '通霄CC#4',\n",
       "   '386.0',\n",
       "   '380.0',\n",
       "   '98.4%',\n",
       "   ' '],\n",
       "  [\"<A NAME='lng'></A><b>燃氣(LNG)</b>\",\n",
       "   '通霄CC#5',\n",
       "   '386.0',\n",
       "   '388.0',\n",
       "   '100.5%',\n",
       "   ' '],\n",
       "  [\"<A NAME='lng'></A><b>燃氣(LNG)</b>\",\n",
       "   '通霄CC#6',\n",
       "   '321.2',\n",
       "   '323.2',\n",
       "   '100.6%',\n",
       "   ' '],\n",
       "  [\"<A NAME='lng'></A><b>燃氣(LNG)</b>\",\n",
       "   '興達CC#1',\n",
       "   '445.2',\n",
       "   '375.7',\n",
       "   '84.4%',\n",
       "   ' '],\n",
       "  [\"<A NAME='lng'></A><b>燃氣(LNG)</b>\", '興達CC#2', '445.2', '0.0', '0.0%', '歲修'],\n",
       "  [\"<A NAME='lng'></A><b>燃氣(LNG)</b>\",\n",
       "   '興達CC#3',\n",
       "   '445.2',\n",
       "   '322.6',\n",
       "   '72.5%',\n",
       "   ' '],\n",
       "  [\"<A NAME='lng'></A><b>燃氣(LNG)</b>\",\n",
       "   '興達CC#4',\n",
       "   '445.2',\n",
       "   '269.7',\n",
       "   '60.6%',\n",
       "   '部分檢修'],\n",
       "  [\"<A NAME='lng'></A><b>燃氣(LNG)</b>\",\n",
       "   '興達CC#5',\n",
       "   '445.2',\n",
       "   '384.0',\n",
       "   '86.3%',\n",
       "   ' '],\n",
       "  [\"<A NAME='lng'></A><b>燃氣(LNG)</b>\",\n",
       "   '南部CC#1',\n",
       "   '288.8',\n",
       "   '206.8',\n",
       "   '71.6%',\n",
       "   '部分歲修'],\n",
       "  [\"<A NAME='lng'></A><b>燃氣(LNG)</b>\",\n",
       "   '南部CC#2',\n",
       "   '288.8',\n",
       "   '280.5',\n",
       "   '97.1%',\n",
       "   ' '],\n",
       "  [\"<A NAME='lng'></A><b>燃氣(LNG)</b>\",\n",
       "   '南部CC#3',\n",
       "   '288.8',\n",
       "   '124.8',\n",
       "   '43.2%',\n",
       "   '部分檢修'],\n",
       "  [\"<A NAME='lng'></A><b>燃氣(LNG)</b>\",\n",
       "   '南部CC#4',\n",
       "   '251.4',\n",
       "   '246.5',\n",
       "   '98.1%',\n",
       "   ' '],\n",
       "  [\"<A NAME='lng'></A><b>燃氣(LNG)</b>\",\n",
       "   '大林#5',\n",
       "   '500.0',\n",
       "   '405.4',\n",
       "   '81.1%',\n",
       "   '運轉限制'],\n",
       "  [\"<A NAME='lng'></A><b>燃氣(LNG)</b>\", '大林#6', '550.0', '538.4', '97.9%', ' '],\n",
       "  [\"<A NAME='lng'></A><b>燃氣(LNG)</b>\",\n",
       "   '小計',\n",
       "   '10763.7(24.7%)',\n",
       "   '8947.5(31.8%)',\n",
       "   '',\n",
       "   ''],\n",
       "  [\"<A NAME='ipplng'></A><b>民營電廠-燃氣(IPP-LNG)</b>\",\n",
       "   '海湖#1',\n",
       "   '450.0',\n",
       "   '458.9',\n",
       "   '102.0%',\n",
       "   ' '],\n",
       "  [\"<A NAME='ipplng'></A><b>民營電廠-燃氣(IPP-LNG)</b>\",\n",
       "   '海湖#2',\n",
       "   '450.0',\n",
       "   '462.3',\n",
       "   '102.7%',\n",
       "   ' '],\n",
       "  [\"<A NAME='ipplng'></A><b>民營電廠-燃氣(IPP-LNG)</b>\",\n",
       "   '新桃#1',\n",
       "   '600.0',\n",
       "   '418.6',\n",
       "   '69.8%',\n",
       "   '部分歲修'],\n",
       "  [\"<A NAME='ipplng'></A><b>民營電廠-燃氣(IPP-LNG)</b>\",\n",
       "   '國光#1',\n",
       "   '480.0',\n",
       "   '483.0',\n",
       "   '100.6%',\n",
       "   ' '],\n",
       "  [\"<A NAME='ipplng'></A><b>民營電廠-燃氣(IPP-LNG)</b>\",\n",
       "   '星彰#1',\n",
       "   '490.0',\n",
       "   '527.2',\n",
       "   '107.6%',\n",
       "   ' '],\n",
       "  [\"<A NAME='ipplng'></A><b>民營電廠-燃氣(IPP-LNG)</b>\",\n",
       "   '星元#1',\n",
       "   '490.0',\n",
       "   '547.1',\n",
       "   '111.7%',\n",
       "   ' '],\n",
       "  [\"<A NAME='ipplng'></A><b>民營電廠-燃氣(IPP-LNG)</b>\",\n",
       "   '嘉惠#1',\n",
       "   '670.0',\n",
       "   '663.7',\n",
       "   '99.1%',\n",
       "   ' '],\n",
       "  [\"<A NAME='ipplng'></A><b>民營電廠-燃氣(IPP-LNG)</b>\",\n",
       "   '豐德#1',\n",
       "   '490.0',\n",
       "   '513.4',\n",
       "   '104.8%',\n",
       "   ' '],\n",
       "  [\"<A NAME='ipplng'></A><b>民營電廠-燃氣(IPP-LNG)</b>\",\n",
       "   '豐德#2',\n",
       "   '490.0',\n",
       "   '506.2',\n",
       "   '103.3%',\n",
       "   ' '],\n",
       "  [\"<A NAME='ipplng'></A><b>民營電廠-燃氣(IPP-LNG)</b>\",\n",
       "   '小計',\n",
       "   '4610.0(10.6%)',\n",
       "   '4580.4(16.3%)',\n",
       "   '',\n",
       "   ''],\n",
       "  [\"<A NAME='oil'></A><b>燃油(Oil)</b>\",\n",
       "   '協和#1',\n",
       "   '500.0',\n",
       "   '372.0',\n",
       "   '74.4%',\n",
       "   '運轉限制'],\n",
       "  [\"<A NAME='oil'></A><b>燃油(Oil)</b>\",\n",
       "   '協和#2',\n",
       "   '500.0',\n",
       "   '346.4',\n",
       "   '69.3%',\n",
       "   '運轉限制'],\n",
       "  [\"<A NAME='oil'></A><b>燃油(Oil)</b>\", '協和#3', '500.0', '0.0', '0.0%', '歲修'],\n",
       "  [\"<A NAME='oil'></A><b>燃油(Oil)</b>\",\n",
       "   '協和#4',\n",
       "   '500.0',\n",
       "   '128.9',\n",
       "   '25.8%',\n",
       "   '環保限制'],\n",
       "  [\"<A NAME='oil'></A><b>燃油(Oil)</b>\",\n",
       "   '小計',\n",
       "   '2000.0(4.6%)',\n",
       "   '847.3(3.0%)',\n",
       "   '',\n",
       "   ''],\n",
       "  [\"<A NAME='diesel'></A><b>輕油(Diesel)</b>\",\n",
       "   '核一Gas1',\n",
       "   '-',\n",
       "   '0.0',\n",
       "   '0.0%',\n",
       "   ' '],\n",
       "  [\"<A NAME='diesel'></A><b>輕油(Diesel)</b>\",\n",
       "   '核一Gas2',\n",
       "   '-',\n",
       "   '0.0',\n",
       "   '0.0%',\n",
       "   '歲修'],\n",
       "  [\"<A NAME='diesel'></A><b>輕油(Diesel)</b>\",\n",
       "   '核二Gas1',\n",
       "   '-',\n",
       "   '0.0',\n",
       "   '0.0%',\n",
       "   ' '],\n",
       "  [\"<A NAME='diesel'></A><b>輕油(Diesel)</b>\",\n",
       "   '核二Gas2',\n",
       "   '-',\n",
       "   '0.0',\n",
       "   '0.0%',\n",
       "   '檢修'],\n",
       "  [\"<A NAME='diesel'></A><b>輕油(Diesel)</b>\",\n",
       "   '核三Gas1',\n",
       "   '-',\n",
       "   '0.0',\n",
       "   '0.0%',\n",
       "   ' '],\n",
       "  [\"<A NAME='diesel'></A><b>輕油(Diesel)</b>\",\n",
       "   '核三Gas2',\n",
       "   '-',\n",
       "   '0.0',\n",
       "   '0.0%',\n",
       "   ' '],\n",
       "  [\"<A NAME='diesel'></A><b>輕油(Diesel)</b>\",\n",
       "   '台中Gas1&amp;2',\n",
       "   '140.0',\n",
       "   '0.0',\n",
       "   '0.0%',\n",
       "   '檢修'],\n",
       "  [\"<A NAME='diesel'></A><b>輕油(Diesel)</b>\",\n",
       "   '台中Gas3&amp;4',\n",
       "   '140.0',\n",
       "   '0.0',\n",
       "   '0.0%',\n",
       "   '部分歲修'],\n",
       "  [\"<A NAME='diesel'></A><b>輕油(Diesel)</b>\",\n",
       "   '澎湖尖山(註4)',\n",
       "   '129.8',\n",
       "   '41.4',\n",
       "   '31.9%',\n",
       "   ' '],\n",
       "  [\"<A NAME='diesel'></A><b>輕油(Diesel)</b>\",\n",
       "   '金門塔山(註4)',\n",
       "   '91.0',\n",
       "   '27.4',\n",
       "   '30.1%',\n",
       "   ' '],\n",
       "  [\"<A NAME='diesel'></A><b>輕油(Diesel)</b>\",\n",
       "   '馬祖珠山(註4)',\n",
       "   '29.7',\n",
       "   '6.1',\n",
       "   '20.5%',\n",
       "   ' '],\n",
       "  [\"<A NAME='diesel'></A><b>輕油(Diesel)</b>\",\n",
       "   '離島其他(註4)',\n",
       "   '42.7',\n",
       "   'N/A',\n",
       "   'N/A',\n",
       "   ' '],\n",
       "  [\"<A NAME='diesel'></A><b>輕油(Diesel)</b>\",\n",
       "   '小計(註5)',\n",
       "   '573.2(1.3%)',\n",
       "   '74.9(0.3%)',\n",
       "   '',\n",
       "   ''],\n",
       "  [\"<A NAME='hydro'></A><b>水力(Hydro)</b>\", '德基#1', '78.0', '0.0', '0.0%', ' '],\n",
       "  [\"<A NAME='hydro'></A><b>水力(Hydro)</b>\",\n",
       "   '德基#2',\n",
       "   '78.0',\n",
       "   '0.0',\n",
       "   '0.0%',\n",
       "   '歲修'],\n",
       "  [\"<A NAME='hydro'></A><b>水力(Hydro)</b>\", '德基#3', '78.0', '0.0', '0.0%', ' '],\n",
       "  [\"<A NAME='hydro'></A><b>水力(Hydro)</b>\",\n",
       "   '青山#1',\n",
       "   '92.0',\n",
       "   '11.9',\n",
       "   '12.9%',\n",
       "   ' '],\n",
       "  [\"<A NAME='hydro'></A><b>水力(Hydro)</b>\",\n",
       "   '青山#2',\n",
       "   '92.0',\n",
       "   '11.9',\n",
       "   '12.9%',\n",
       "   ' '],\n",
       "  [\"<A NAME='hydro'></A><b>水力(Hydro)</b>\",\n",
       "   '青山#3',\n",
       "   '92.0',\n",
       "   '9.2',\n",
       "   '10.0%',\n",
       "   ' '],\n",
       "  [\"<A NAME='hydro'></A><b>水力(Hydro)</b>\", '青山#4', '92.0', '0.0', '0.0%', ' '],\n",
       "  [\"<A NAME='hydro'></A><b>水力(Hydro)</b>\", '谷關#1', '54.4', '0.0', '0.0%', ' '],\n",
       "  [\"<A NAME='hydro'></A><b>水力(Hydro)</b>\",\n",
       "   '谷關#2',\n",
       "   '54.4',\n",
       "   '44.8',\n",
       "   '82.3%',\n",
       "   ' '],\n",
       "  [\"<A NAME='hydro'></A><b>水力(Hydro)</b>\", '谷關#3', '54.4', '0.0', '0.0%', ' '],\n",
       "  [\"<A NAME='hydro'></A><b>水力(Hydro)</b>\", '谷關#4', '54.4', '0.0', '0.0%', ' '],\n",
       "  [\"<A NAME='hydro'></A><b>水力(Hydro)</b>\", '天輪#1', '22.5', '0.0', '0.0%', ' '],\n",
       "  [\"<A NAME='hydro'></A><b>水力(Hydro)</b>\",\n",
       "   '天輪#2',\n",
       "   '22.5',\n",
       "   '8.4',\n",
       "   '37.3%',\n",
       "   ' '],\n",
       "  [\"<A NAME='hydro'></A><b>水力(Hydro)</b>\",\n",
       "   '天輪#3',\n",
       "   '22.5',\n",
       "   '9.2',\n",
       "   '40.9%',\n",
       "   ' '],\n",
       "  [\"<A NAME='hydro'></A><b>水力(Hydro)</b>\",\n",
       "   '天輪#4',\n",
       "   '22.5',\n",
       "   '8.2',\n",
       "   '36.4%',\n",
       "   ' '],\n",
       "  [\"<A NAME='hydro'></A><b>水力(Hydro)</b>\",\n",
       "   '天輪#5',\n",
       "   '105.0',\n",
       "   '0.0',\n",
       "   '0.0%',\n",
       "   '檢修'],\n",
       "  [\"<A NAME='hydro'></A><b>水力(Hydro)</b>\", '馬鞍#1', '66.7', '0.0', '0.0%', ' '],\n",
       "  [\"<A NAME='hydro'></A><b>水力(Hydro)</b>\",\n",
       "   '馬鞍#2',\n",
       "   '66.7',\n",
       "   '28.8',\n",
       "   '43.2%',\n",
       "   ' '],\n",
       "  [\"<A NAME='hydro'></A><b>水力(Hydro)</b>\", '卓蘭#1', '40.0', '0.0', '0.0%', ' '],\n",
       "  [\"<A NAME='hydro'></A><b>水力(Hydro)</b>\", '卓蘭#2', '40.0', '0.0', '0.0%', ' '],\n",
       "  [\"<A NAME='hydro'></A><b>水力(Hydro)</b>\", '萬大#1', '10.4', '0.0', '0.0%', ' '],\n",
       "  [\"<A NAME='hydro'></A><b>水力(Hydro)</b>\", '萬大#2', '10.4', '0.0', '0.0%', ' '],\n",
       "  [\"<A NAME='hydro'></A><b>水力(Hydro)</b>\",\n",
       "   '萬大#3',\n",
       "   '15.3',\n",
       "   '0.0',\n",
       "   '0.0%',\n",
       "   '檢修'],\n",
       "  [\"<A NAME='hydro'></A><b>水力(Hydro)</b>\",\n",
       "   '萬大#4',\n",
       "   '19.7',\n",
       "   '20.2',\n",
       "   '102.5%',\n",
       "   ' '],\n",
       "  [\"<A NAME='hydro'></A><b>水力(Hydro)</b>\",\n",
       "   '松林#1&amp;2',\n",
       "   '20.9',\n",
       "   '6.6',\n",
       "   '31.6%',\n",
       "   ' '],\n",
       "  [\"<A NAME='hydro'></A><b>水力(Hydro)</b>\",\n",
       "   '大觀一#1',\n",
       "   '22.0',\n",
       "   '15.0',\n",
       "   '68.2%',\n",
       "   ' '],\n",
       "  [\"<A NAME='hydro'></A><b>水力(Hydro)</b>\",\n",
       "   '大觀一#2',\n",
       "   '22.0',\n",
       "   '0.0',\n",
       "   '0.0%',\n",
       "   '檢修'],\n",
       "  [\"<A NAME='hydro'></A><b>水力(Hydro)</b>\",\n",
       "   '大觀一#3',\n",
       "   '22.0',\n",
       "   '14.7',\n",
       "   '66.8%',\n",
       "   ' '],\n",
       "  [\"<A NAME='hydro'></A><b>水力(Hydro)</b>\",\n",
       "   '大觀一#4',\n",
       "   '22.0',\n",
       "   '13.8',\n",
       "   '62.7%',\n",
       "   ' '],\n",
       "  [\"<A NAME='hydro'></A><b>水力(Hydro)</b>\",\n",
       "   '大觀一#5',\n",
       "   '22.0',\n",
       "   '14.1',\n",
       "   '64.1%',\n",
       "   ' '],\n",
       "  [\"<A NAME='hydro'></A><b>水力(Hydro)</b>\",\n",
       "   '鉅工#1',\n",
       "   '21.8',\n",
       "   '10.8',\n",
       "   '49.7%',\n",
       "   ' '],\n",
       "  [\"<A NAME='hydro'></A><b>水力(Hydro)</b>\",\n",
       "   '鉅工#2',\n",
       "   '21.8',\n",
       "   '10.8',\n",
       "   '49.7%',\n",
       "   ' '],\n",
       "  [\"<A NAME='hydro'></A><b>水力(Hydro)</b>\", '水里#1', '12.8', '0.0', '0.0%', ' '],\n",
       "  [\"<A NAME='hydro'></A><b>水力(Hydro)</b>\",\n",
       "   '立霧#1&amp;#2',\n",
       "   '32.0',\n",
       "   '0.0',\n",
       "   '0.0%',\n",
       "   '檢修'],\n",
       "  [\"<A NAME='hydro'></A><b>水力(Hydro)</b>\", '龍澗#1', '48.6', '0.0', '0.0%', ' '],\n",
       "  [\"<A NAME='hydro'></A><b>水力(Hydro)</b>\",\n",
       "   '龍澗#2',\n",
       "   '48.6',\n",
       "   '14.2',\n",
       "   '29.2%',\n",
       "   ' '],\n",
       "  [\"<A NAME='hydro'></A><b>水力(Hydro)</b>\", '碧海', '61.2', '13.7', '22.4%', ' '],\n",
       "  [\"<A NAME='hydro'></A><b>水力(Hydro)</b>\",\n",
       "   '烏來&amp;桂山&amp;粗坑',\n",
       "   '40.5',\n",
       "   '11.7',\n",
       "   '28.9%',\n",
       "   ' '],\n",
       "  [\"<A NAME='hydro'></A><b>水力(Hydro)</b>\",\n",
       "   '北部小水力(註6)',\n",
       "   '26.6',\n",
       "   'N/A',\n",
       "   'N/A',\n",
       "   ' '],\n",
       "  [\"<A NAME='hydro'></A><b>水力(Hydro)</b>\",\n",
       "   '中部小水力(註6)',\n",
       "   '9.8',\n",
       "   'N/A',\n",
       "   'N/A',\n",
       "   ' '],\n",
       "  [\"<A NAME='hydro'></A><b>水力(Hydro)</b>\",\n",
       "   '南部小水力(註6)',\n",
       "   '7.2',\n",
       "   'N/A',\n",
       "   'N/A',\n",
       "   ' '],\n",
       "  [\"<A NAME='hydro'></A><b>水力(Hydro)</b>\",\n",
       "   '東部小水力(註6)',\n",
       "   '54.6',\n",
       "   '30.0',\n",
       "   '54.9%',\n",
       "   ' '],\n",
       "  [\"<A NAME='hydro'></A><b>水力(Hydro)</b>\", '翡翠#1', '70.0', '0.0', '0.0%', ' '],\n",
       "  [\"<A NAME='hydro'></A><b>水力(Hydro)</b>\", '石門#1', '45.0', '0.0', '0.0%', ' '],\n",
       "  [\"<A NAME='hydro'></A><b>水力(Hydro)</b>\", '石門#2', '45.0', '0.0', '0.0%', ' '],\n",
       "  [\"<A NAME='hydro'></A><b>水力(Hydro)</b>\", '曾文#1', '50.0', '0.0', '0.0%', ' '],\n",
       "  [\"<A NAME='hydro'></A><b>水力(Hydro)</b>\",\n",
       "   '義興#1',\n",
       "   '40.0',\n",
       "   '18.1',\n",
       "   '45.3%',\n",
       "   ' '],\n",
       "  [\"<A NAME='hydro'></A><b>水力(Hydro)</b>\", '名間', '16.7', '7.6', '45.5%', ' '],\n",
       "  [\"<A NAME='hydro'></A><b>水力(Hydro)</b>\",\n",
       "   '嘉南西口&amp;嘉南烏山頭',\n",
       "   '20.3',\n",
       "   '0.2',\n",
       "   '1.0%',\n",
       "   ' '],\n",
       "  [\"<A NAME='hydro'></A><b>水力(Hydro)</b>\", '后里示範', '0.1', 'N/A', 'N/A', ' '],\n",
       "  [\"<A NAME='hydro'></A><b>水力(Hydro)</b>\", '卑南', '2.0', '1.4', '70.7%', ' '],\n",
       "  [\"<A NAME='hydro'></A><b>水力(Hydro)</b>\",\n",
       "   '小計',\n",
       "   '2089.3(4.8%)',\n",
       "   '355.3(1.3%)',\n",
       "   '',\n",
       "   ''],\n",
       "  [\"<A NAME='wind'></A><b>風力(Wind)</b>\", '石門', '4.0', '1.1', '26.9%', ' '],\n",
       "  [\"<A NAME='wind'></A><b>風力(Wind)</b>\", '林口', '6.0', '1.9', '32.0%', ' '],\n",
       "  [\"<A NAME='wind'></A><b>風力(Wind)</b>\", '蘆竹', '7.2', '1.7', '23.6%', ' '],\n",
       "  [\"<A NAME='wind'></A><b>風力(Wind)</b>\", '大潭', '15.1', '1.8', '11.8%', ' '],\n",
       "  [\"<A NAME='wind'></A><b>風力(Wind)</b>\", '觀園', '30.0', '8.7', '29.1%', ' '],\n",
       "  [\"<A NAME='wind'></A><b>風力(Wind)</b>\", '香山', '12.0', '0.0', '0.0%', ' '],\n",
       "  [\"<A NAME='wind'></A><b>風力(Wind)</b>\", '台中', '6.0', '1.2', '19.6%', ' '],\n",
       "  [\"<A NAME='wind'></A><b>風力(Wind)</b>\", '台中港', '36.0', '9.9', '27.6%', ' '],\n",
       "  [\"<A NAME='wind'></A><b>風力(Wind)</b>\", '王功', '23.0', '14.2', '61.9%', ' '],\n",
       "  [\"<A NAME='wind'></A><b>風力(Wind)</b>\", '彰工', '62.0', '54.7', '88.3%', ' '],\n",
       "  [\"<A NAME='wind'></A><b>風力(Wind)</b>\", '雲麥', '46.0', '16.7', '36.3%', ' '],\n",
       "  [\"<A NAME='wind'></A><b>風力(Wind)</b>\", '四湖', '28.0', '16.8', '60.0%', ' '],\n",
       "  [\"<A NAME='wind'></A><b>風力(Wind)</b>\", '恆春', '4.5', '3.3', '73.4%', ' '],\n",
       "  [\"<A NAME='wind'></A><b>風力(Wind)</b>\", '澎湖中屯', '4.8', '2.8', '57.4%', ' '],\n",
       "  [\"<A NAME='wind'></A><b>風力(Wind)</b>\", '金門金沙', '4.0', '1.1', '28.2%', ' '],\n",
       "  [\"<A NAME='wind'></A><b>風力(Wind)</b>\", '澎湖湖西', '5.4', '2.2', '41.3%', ' '],\n",
       "  [\"<A NAME='wind'></A><b>風力(Wind)</b>\", '苗栗竹南', '7.8', '0.4', '5.1%', ' '],\n",
       "  [\"<A NAME='wind'></A><b>風力(Wind)</b>\", '苗栗大鵬', '42.0', 'N/A', 'N/A', ' '],\n",
       "  [\"<A NAME='wind'></A><b>風力(Wind)</b>\", '鹿威彰濱', '55.2', '33.0', '59.8%', ' '],\n",
       "  [\"<A NAME='wind'></A><b>風力(Wind)</b>\", '鹿威鹿港', '41.4', '20.7', '50.0%', ' '],\n",
       "  [\"<A NAME='wind'></A><b>風力(Wind)</b>\",\n",
       "   '觀威觀音&amp;桃威觀屋',\n",
       "   '48.3',\n",
       "   '11.4',\n",
       "   '23.6%',\n",
       "   ' '],\n",
       "  [\"<A NAME='wind'></A><b>風力(Wind)</b>\", '中威大安', '82.8', '11.4', '13.8%', ' '],\n",
       "  [\"<A NAME='wind'></A><b>風力(Wind)</b>\", '崎威崎頂', '6.9', '0.2', '2.9%', ' '],\n",
       "  [\"<A NAME='wind'></A><b>風力(Wind)</b>\", '豐威', '11.5', '0.8', '7.0%', ' '],\n",
       "  [\"<A NAME='wind'></A><b>風力(Wind)</b>\", '龍威後龍', '44.1', '2.3', '5.2%', ' '],\n",
       "  [\"<A NAME='wind'></A><b>風力(Wind)</b>\", '苗栗通苑', '27.6', '2.0', '7.2%', ' '],\n",
       "  [\"<A NAME='wind'></A><b>風力(Wind)</b>\", '安威', '6.9', '0.5', '7.2%', ' '],\n",
       "  [\"<A NAME='wind'></A><b>風力(Wind)</b>\", '清風清水', '2.3', '1.1', '47.8%', ' '],\n",
       "  [\"<A NAME='wind'></A><b>風力(Wind)</b>\", '東鋼龍港', '11.5', '1.2', '10.4%', ' '],\n",
       "  [\"<A NAME='wind'></A><b>風力(Wind)</b>\", '海洋竹南', '8.0', '1.4', '17.5%', ' '],\n",
       "  [\"<A NAME='wind'></A><b>風力(Wind)</b>\",\n",
       "   '小計',\n",
       "   '690.3(1.6%)',\n",
       "   '224.6(0.8%)',\n",
       "   '',\n",
       "   ''],\n",
       "  [\"<A NAME='solar'></A><b>太陽能(Solar)</b>\",\n",
       "   '金門金沙',\n",
       "   '0.5',\n",
       "   '0.097',\n",
       "   '18.3%',\n",
       "   ' '],\n",
       "  [\"<A NAME='solar'></A><b>太陽能(Solar)</b>\",\n",
       "   '台中生水池',\n",
       "   '2.1',\n",
       "   '0.090',\n",
       "   '4.2%',\n",
       "   ' '],\n",
       "  [\"<A NAME='solar'></A><b>太陽能(Solar)</b>\",\n",
       "   '興達生水池',\n",
       "   '1.6',\n",
       "   '0.210',\n",
       "   '12.9%',\n",
       "   ' '],\n",
       "  [\"<A NAME='solar'></A><b>太陽能(Solar)</b>\",\n",
       "   '嘉義民雄',\n",
       "   '0.1',\n",
       "   '0.001',\n",
       "   '1.7%',\n",
       "   ' '],\n",
       "  [\"<A NAME='solar'></A><b>太陽能(Solar)</b>\",\n",
       "   '中部儲運',\n",
       "   '0.1',\n",
       "   '0.003',\n",
       "   '3.3%',\n",
       "   ' '],\n",
       "  [\"<A NAME='solar'></A><b>太陽能(Solar)</b>\",\n",
       "   '東勢新伯公',\n",
       "   '0.1',\n",
       "   '0.000',\n",
       "   '0.0%',\n",
       "   ' '],\n",
       "  [\"<A NAME='solar'></A><b>太陽能(Solar)</b>\",\n",
       "   '永安鹽灘地',\n",
       "   '4.6',\n",
       "   '0.678',\n",
       "   '14.6%',\n",
       "   ' '],\n",
       "  [\"<A NAME='solar'></A><b>太陽能(Solar)</b>\",\n",
       "   '路北',\n",
       "   '0.1',\n",
       "   '0.006',\n",
       "   '10.0%',\n",
       "   ' '],\n",
       "  [\"<A NAME='solar'></A><b>太陽能(Solar)</b>\",\n",
       "   '中原大學',\n",
       "   '0.0',\n",
       "   '0.001',\n",
       "   '2.5%',\n",
       "   ' '],\n",
       "  [\"<A NAME='solar'></A><b>太陽能(Solar)</b>\",\n",
       "   '大潭生水池',\n",
       "   '0.6',\n",
       "   '0.013',\n",
       "   '2.0%',\n",
       "   ' '],\n",
       "  [\"<A NAME='solar'></A><b>太陽能(Solar)</b>\",\n",
       "   '核三生水池',\n",
       "   '1.5',\n",
       "   '0.239',\n",
       "   '16.4%',\n",
       "   ' '],\n",
       "  [\"<A NAME='solar'></A><b>太陽能(Solar)</b>\", '七美', '0.2', '0.014', '9.3%', ' '],\n",
       "  [\"<A NAME='solar'></A><b>太陽能(Solar)</b>\", '尖山', '0.1', '0.004', '5.7%', ' '],\n",
       "  [\"<A NAME='solar'></A><b>太陽能(Solar)</b>\", '卓蘭', '0.0', '0.000', '0.0%', ' '],\n",
       "  [\"<A NAME='solar'></A><b>太陽能(Solar)</b>\", '后里', '0.1', '0.003', '3.3%', ' '],\n",
       "  [\"<A NAME='solar'></A><b>太陽能(Solar)</b>\",\n",
       "   '台中龍井',\n",
       "   '6.5',\n",
       "   '0.330',\n",
       "   '5.1%',\n",
       "   ' '],\n",
       "  [\"<A NAME='solar'></A><b>太陽能(Solar)</b>\",\n",
       "   '太陽能購電(註7)',\n",
       "   '1392.3',\n",
       "   '128.097',\n",
       "   '9.2%',\n",
       "   ' '],\n",
       "  [\"<A NAME='solar'></A><b>太陽能(Solar)</b>\",\n",
       "   '小計',\n",
       "   '1410.5(3.2%)',\n",
       "   '129.8(0.5%)',\n",
       "   '',\n",
       "   ''],\n",
       "  [\"<A NAME='pumpinggen'></A><b>抽蓄發電(Pumping Gen)</b>\",\n",
       "   '大觀二#1',\n",
       "   '250.0',\n",
       "   '0.0',\n",
       "   '0.0%',\n",
       "   ' '],\n",
       "  [\"<A NAME='pumpinggen'></A><b>抽蓄發電(Pumping Gen)</b>\",\n",
       "   '大觀二#2',\n",
       "   '250.0',\n",
       "   '163.8',\n",
       "   '65.5%',\n",
       "   ' '],\n",
       "  [\"<A NAME='pumpinggen'></A><b>抽蓄發電(Pumping Gen)</b>\",\n",
       "   '大觀二#3',\n",
       "   '250.0',\n",
       "   '0.0',\n",
       "   '0.0%',\n",
       "   ' '],\n",
       "  [\"<A NAME='pumpinggen'></A><b>抽蓄發電(Pumping Gen)</b>\",\n",
       "   '大觀二#4',\n",
       "   '250.0',\n",
       "   '0.0',\n",
       "   '0.0%',\n",
       "   ' '],\n",
       "  [\"<A NAME='pumpinggen'></A><b>抽蓄發電(Pumping Gen)</b>\",\n",
       "   '明潭#1',\n",
       "   '267.0',\n",
       "   '0.0',\n",
       "   '0.0%',\n",
       "   '歲修'],\n",
       "  [\"<A NAME='pumpinggen'></A><b>抽蓄發電(Pumping Gen)</b>\",\n",
       "   '明潭#2',\n",
       "   '267.0',\n",
       "   '0.0',\n",
       "   '0.0%',\n",
       "   ' '],\n",
       "  [\"<A NAME='pumpinggen'></A><b>抽蓄發電(Pumping Gen)</b>\",\n",
       "   '明潭#3',\n",
       "   '267.0',\n",
       "   '181.0',\n",
       "   '67.8%',\n",
       "   ' '],\n",
       "  [\"<A NAME='pumpinggen'></A><b>抽蓄發電(Pumping Gen)</b>\",\n",
       "   '明潭#4',\n",
       "   '267.0',\n",
       "   '0.0',\n",
       "   '0.0%',\n",
       "   ' '],\n",
       "  [\"<A NAME='pumpinggen'></A><b>抽蓄發電(Pumping Gen)</b>\",\n",
       "   '明潭#5',\n",
       "   '267.0',\n",
       "   '0.0',\n",
       "   '0.0%',\n",
       "   ' '],\n",
       "  [\"<A NAME='pumpinggen'></A><b>抽蓄發電(Pumping Gen)</b>\",\n",
       "   '明潭#6',\n",
       "   '267.0',\n",
       "   '155.1',\n",
       "   '58.1%',\n",
       "   ' '],\n",
       "  [\"<A NAME='pumpinggen'></A><b>抽蓄發電(Pumping Gen)</b>\",\n",
       "   '小計',\n",
       "   '2602.0(6.0%)',\n",
       "   '499.9(1.8%)',\n",
       "   '',\n",
       "   ''],\n",
       "  [\"<A NAME='pumpingload'></A><b>抽蓄負載(Pumping Load)</b>\",\n",
       "   '大觀二#1',\n",
       "   '-',\n",
       "   '0.0',\n",
       "   '-',\n",
       "   ' '],\n",
       "  [\"<A NAME='pumpingload'></A><b>抽蓄負載(Pumping Load)</b>\",\n",
       "   '大觀二#2',\n",
       "   '-',\n",
       "   '0.0',\n",
       "   '-',\n",
       "   ' '],\n",
       "  [\"<A NAME='pumpingload'></A><b>抽蓄負載(Pumping Load)</b>\",\n",
       "   '大觀二#3',\n",
       "   '-',\n",
       "   '0.0',\n",
       "   '-',\n",
       "   ' '],\n",
       "  [\"<A NAME='pumpingload'></A><b>抽蓄負載(Pumping Load)</b>\",\n",
       "   '大觀二#4',\n",
       "   '-',\n",
       "   '0.0',\n",
       "   '-',\n",
       "   ' '],\n",
       "  [\"<A NAME='pumpingload'></A><b>抽蓄負載(Pumping Load)</b>\",\n",
       "   '明潭#1',\n",
       "   '-',\n",
       "   '0.0',\n",
       "   '-',\n",
       "   '歲修'],\n",
       "  [\"<A NAME='pumpingload'></A><b>抽蓄負載(Pumping Load)</b>\",\n",
       "   '明潭#2',\n",
       "   '-',\n",
       "   '0.0',\n",
       "   '-',\n",
       "   ' '],\n",
       "  [\"<A NAME='pumpingload'></A><b>抽蓄負載(Pumping Load)</b>\",\n",
       "   '明潭#3',\n",
       "   '-',\n",
       "   '0.0',\n",
       "   '-',\n",
       "   ' '],\n",
       "  [\"<A NAME='pumpingload'></A><b>抽蓄負載(Pumping Load)</b>\",\n",
       "   '明潭#4',\n",
       "   '-',\n",
       "   '0.0',\n",
       "   '-',\n",
       "   ' '],\n",
       "  [\"<A NAME='pumpingload'></A><b>抽蓄負載(Pumping Load)</b>\",\n",
       "   '明潭#5',\n",
       "   '-',\n",
       "   '0.0',\n",
       "   '-',\n",
       "   ' '],\n",
       "  [\"<A NAME='pumpingload'></A><b>抽蓄負載(Pumping Load)</b>\",\n",
       "   '明潭#6',\n",
       "   '-',\n",
       "   '0.0',\n",
       "   '-',\n",
       "   ' ']]}"
      ]
     },
     "execution_count": 244,
     "metadata": {},
     "output_type": "execute_result"
    }
   ],
   "source": [
    "data"
   ]
  },
  {
   "cell_type": "code",
   "execution_count": 245,
   "metadata": {},
   "outputs": [
    {
     "data": {
      "text/plain": [
       "dict_keys(['', 'aaData'])"
      ]
     },
     "execution_count": 245,
     "metadata": {},
     "output_type": "execute_result"
    }
   ],
   "source": [
    "data.keys()"
   ]
  },
  {
   "cell_type": "code",
   "execution_count": 246,
   "metadata": {},
   "outputs": [
    {
     "data": {
      "text/plain": [
       "'2018-03-20 15:30'"
      ]
     },
     "execution_count": 246,
     "metadata": {},
     "output_type": "execute_result"
    }
   ],
   "source": [
    "data['']"
   ]
  },
  {
   "cell_type": "code",
   "execution_count": 247,
   "metadata": {},
   "outputs": [
    {
     "data": {
      "text/plain": [
       "[[\"<A NAME='nuclear'></A><b>核能(Nuclear)</b>\",\n",
       "  '核一#1',\n",
       "  '636.0',\n",
       "  '0.0',\n",
       "  '0.0%',\n",
       "  '歲修逾排程'],\n",
       " [\"<A NAME='nuclear'></A><b>核能(Nuclear)</b>\",\n",
       "  '核一#2',\n",
       "  '636.0',\n",
       "  '0.0',\n",
       "  '0.0%',\n",
       "  '歲修'],\n",
       " [\"<A NAME='nuclear'></A><b>核能(Nuclear)</b>\",\n",
       "  '核二#1',\n",
       "  '985.0',\n",
       "  '984.0',\n",
       "  '99.9%',\n",
       "  ' '],\n",
       " [\"<A NAME='nuclear'></A><b>核能(Nuclear)</b>\",\n",
       "  '核二#2',\n",
       "  '985.0',\n",
       "  '0.0',\n",
       "  '0.0%',\n",
       "  '歲修逾排程'],\n",
       " [\"<A NAME='nuclear'></A><b>核能(Nuclear)</b>\",\n",
       "  '核三#1',\n",
       "  '951.0',\n",
       "  '935.8',\n",
       "  '98.4%',\n",
       "  ' '],\n",
       " [\"<A NAME='nuclear'></A><b>核能(Nuclear)</b>\",\n",
       "  '核三#2',\n",
       "  '951.0',\n",
       "  '942.6',\n",
       "  '99.1%',\n",
       "  ' '],\n",
       " [\"<A NAME='nuclear'></A><b>核能(Nuclear)</b>\",\n",
       "  '小計',\n",
       "  '5144.0(11.8%)',\n",
       "  '2862.4(10.2%)',\n",
       "  '',\n",
       "  ''],\n",
       " [\"<A NAME='coal'></A><b>燃煤(Coal)</b>\", '林口#1', '800.0', '0.0', '0.0%', '歲修'],\n",
       " [\"<A NAME='coal'></A><b>燃煤(Coal)</b>\",\n",
       "  '林口#2',\n",
       "  '800.0',\n",
       "  '766.7',\n",
       "  '95.8%',\n",
       "  ' '],\n",
       " [\"<A NAME='coal'></A><b>燃煤(Coal)</b>\",\n",
       "  '台中#1',\n",
       "  '550.0',\n",
       "  '498.6',\n",
       "  '90.7%',\n",
       "  ' '],\n",
       " [\"<A NAME='coal'></A><b>燃煤(Coal)</b>\",\n",
       "  '台中#2',\n",
       "  '550.0',\n",
       "  '528.4',\n",
       "  '96.1%',\n",
       "  ' '],\n",
       " [\"<A NAME='coal'></A><b>燃煤(Coal)</b>\",\n",
       "  '台中#3',\n",
       "  '550.0',\n",
       "  '522.5',\n",
       "  '95.0%',\n",
       "  ' '],\n",
       " [\"<A NAME='coal'></A><b>燃煤(Coal)</b>\",\n",
       "  '台中#4',\n",
       "  '550.0',\n",
       "  '515.4',\n",
       "  '93.7%',\n",
       "  ' '],\n",
       " [\"<A NAME='coal'></A><b>燃煤(Coal)</b>\",\n",
       "  '台中#5',\n",
       "  '550.0',\n",
       "  '542.0',\n",
       "  '98.5%',\n",
       "  ' '],\n",
       " [\"<A NAME='coal'></A><b>燃煤(Coal)</b>\",\n",
       "  '台中#6',\n",
       "  '550.0',\n",
       "  '528.4',\n",
       "  '96.1%',\n",
       "  ' '],\n",
       " [\"<A NAME='coal'></A><b>燃煤(Coal)</b>\", '台中#7', '550.0', '0.0', '0.0%', '歲修'],\n",
       " [\"<A NAME='coal'></A><b>燃煤(Coal)</b>\",\n",
       "  '台中#8',\n",
       "  '550.0',\n",
       "  '524.2',\n",
       "  '95.3%',\n",
       "  ' '],\n",
       " [\"<A NAME='coal'></A><b>燃煤(Coal)</b>\",\n",
       "  '台中#9',\n",
       "  '550.0',\n",
       "  '517.9',\n",
       "  '94.2%',\n",
       "  ' '],\n",
       " [\"<A NAME='coal'></A><b>燃煤(Coal)</b>\",\n",
       "  '台中#10',\n",
       "  '550.0',\n",
       "  '529.4',\n",
       "  '96.3%',\n",
       "  ' '],\n",
       " [\"<A NAME='coal'></A><b>燃煤(Coal)</b>\",\n",
       "  '興達#1',\n",
       "  '500.0',\n",
       "  '348.0',\n",
       "  '69.6%',\n",
       "  '環保限制'],\n",
       " [\"<A NAME='coal'></A><b>燃煤(Coal)</b>\",\n",
       "  '興達#2',\n",
       "  '500.0',\n",
       "  '282.7',\n",
       "  '56.5%',\n",
       "  '環保限制'],\n",
       " [\"<A NAME='coal'></A><b>燃煤(Coal)</b>\", '興達#3', '550.0', '0.0', '0.0%', '歲修'],\n",
       " [\"<A NAME='coal'></A><b>燃煤(Coal)</b>\",\n",
       "  '興達#4',\n",
       "  '550.0',\n",
       "  '277.7',\n",
       "  '50.5%',\n",
       "  '環保限制'],\n",
       " [\"<A NAME='coal'></A><b>燃煤(Coal)</b>\", '大林#1', '800.0', '0.0', '0.0%', '檢修'],\n",
       " [\"<A NAME='coal'></A><b>燃煤(Coal)</b>\",\n",
       "  '大林#2(註10)',\n",
       "  '-',\n",
       "  '214.7',\n",
       "  '26.8%',\n",
       "  '新機組試俥'],\n",
       " [\"<A NAME='coal'></A><b>燃煤(Coal)</b>\",\n",
       "  '小計',\n",
       "  '10000.0(22.9%)',\n",
       "  '6596.6(23.4%)',\n",
       "  '',\n",
       "  ''],\n",
       " [\"<A NAME='cogen'></A><b>汽電共生(Co-Gen)</b>\",\n",
       "  '汽電共生',\n",
       "  '623.2',\n",
       "  '686.0',\n",
       "  '-',\n",
       "  '部分檢修'],\n",
       " [\"<A NAME='cogen'></A><b>汽電共生(Co-Gen)</b>\",\n",
       "  '小計',\n",
       "  '623.2(1.4%)',\n",
       "  '686.0(2.4%)',\n",
       "  '',\n",
       "  ''],\n",
       " [\"<A NAME='ippcoal'></A><b>民營電廠-燃煤(IPP-Coal)</b>\",\n",
       "  '和平#1',\n",
       "  '648.6',\n",
       "  '595.4',\n",
       "  '91.8%',\n",
       "  ' '],\n",
       " [\"<A NAME='ippcoal'></A><b>民營電廠-燃煤(IPP-Coal)</b>\",\n",
       "  '和平#2',\n",
       "  '648.6',\n",
       "  '601.2',\n",
       "  '92.7%',\n",
       "  ' '],\n",
       " [\"<A NAME='ippcoal'></A><b>民營電廠-燃煤(IPP-Coal)</b>\",\n",
       "  '麥寮#1',\n",
       "  '600.0',\n",
       "  '570.4',\n",
       "  '95.1%',\n",
       "  ' '],\n",
       " [\"<A NAME='ippcoal'></A><b>民營電廠-燃煤(IPP-Coal)</b>\",\n",
       "  '麥寮#2',\n",
       "  '600.0',\n",
       "  '569.8',\n",
       "  '95.0%',\n",
       "  ' '],\n",
       " [\"<A NAME='ippcoal'></A><b>民營電廠-燃煤(IPP-Coal)</b>\",\n",
       "  '麥寮#3',\n",
       "  '600.0',\n",
       "  '0.0',\n",
       "  '0.0%',\n",
       "  '歲修'],\n",
       " [\"<A NAME='ippcoal'></A><b>民營電廠-燃煤(IPP-Coal)</b>\",\n",
       "  '小計',\n",
       "  '3097.1(7.1%)',\n",
       "  '2336.8(8.3%)',\n",
       "  '',\n",
       "  ''],\n",
       " [\"<A NAME='lng'></A><b>燃氣(LNG)</b>\",\n",
       "  '大潭CC#1',\n",
       "  '742.7',\n",
       "  '692.2',\n",
       "  '93.2%',\n",
       "  ' '],\n",
       " [\"<A NAME='lng'></A><b>燃氣(LNG)</b>\",\n",
       "  '大潭CC#2',\n",
       "  '742.7',\n",
       "  '436.0',\n",
       "  '58.7%',\n",
       "  '部分歲修'],\n",
       " [\"<A NAME='lng'></A><b>燃氣(LNG)</b>\",\n",
       "  '大潭CC#3',\n",
       "  '724.7',\n",
       "  '665.5',\n",
       "  '91.8%',\n",
       "  ' '],\n",
       " [\"<A NAME='lng'></A><b>燃氣(LNG)</b>\",\n",
       "  '大潭CC#4',\n",
       "  '724.7',\n",
       "  '698.3',\n",
       "  '96.4%',\n",
       "  ' '],\n",
       " [\"<A NAME='lng'></A><b>燃氣(LNG)</b>\",\n",
       "  '大潭CC#5',\n",
       "  '724.7',\n",
       "  '679.6',\n",
       "  '93.8%',\n",
       "  ' '],\n",
       " [\"<A NAME='lng'></A><b>燃氣(LNG)</b>\", '大潭CC#6', '724.7', '0.0', '0.0%', '歲修'],\n",
       " [\"<A NAME='lng'></A><b>燃氣(LNG)</b>\",\n",
       "  '大潭CC#7(註10)',\n",
       "  '-',\n",
       "  '602.9',\n",
       "  '102.2%',\n",
       "  '新機組試俥'],\n",
       " [\"<A NAME='lng'></A><b>燃氣(LNG)</b>\",\n",
       "  '通霄CC#1',\n",
       "  '892.6',\n",
       "  '927.4',\n",
       "  '103.9%',\n",
       "  ' '],\n",
       " [\"<A NAME='lng'></A><b>燃氣(LNG)</b>\",\n",
       "  '通霄CC#4',\n",
       "  '386.0',\n",
       "  '380.0',\n",
       "  '98.4%',\n",
       "  ' '],\n",
       " [\"<A NAME='lng'></A><b>燃氣(LNG)</b>\",\n",
       "  '通霄CC#5',\n",
       "  '386.0',\n",
       "  '388.0',\n",
       "  '100.5%',\n",
       "  ' '],\n",
       " [\"<A NAME='lng'></A><b>燃氣(LNG)</b>\",\n",
       "  '通霄CC#6',\n",
       "  '321.2',\n",
       "  '323.2',\n",
       "  '100.6%',\n",
       "  ' '],\n",
       " [\"<A NAME='lng'></A><b>燃氣(LNG)</b>\",\n",
       "  '興達CC#1',\n",
       "  '445.2',\n",
       "  '375.7',\n",
       "  '84.4%',\n",
       "  ' '],\n",
       " [\"<A NAME='lng'></A><b>燃氣(LNG)</b>\", '興達CC#2', '445.2', '0.0', '0.0%', '歲修'],\n",
       " [\"<A NAME='lng'></A><b>燃氣(LNG)</b>\",\n",
       "  '興達CC#3',\n",
       "  '445.2',\n",
       "  '322.6',\n",
       "  '72.5%',\n",
       "  ' '],\n",
       " [\"<A NAME='lng'></A><b>燃氣(LNG)</b>\",\n",
       "  '興達CC#4',\n",
       "  '445.2',\n",
       "  '269.7',\n",
       "  '60.6%',\n",
       "  '部分檢修'],\n",
       " [\"<A NAME='lng'></A><b>燃氣(LNG)</b>\",\n",
       "  '興達CC#5',\n",
       "  '445.2',\n",
       "  '384.0',\n",
       "  '86.3%',\n",
       "  ' '],\n",
       " [\"<A NAME='lng'></A><b>燃氣(LNG)</b>\",\n",
       "  '南部CC#1',\n",
       "  '288.8',\n",
       "  '206.8',\n",
       "  '71.6%',\n",
       "  '部分歲修'],\n",
       " [\"<A NAME='lng'></A><b>燃氣(LNG)</b>\",\n",
       "  '南部CC#2',\n",
       "  '288.8',\n",
       "  '280.5',\n",
       "  '97.1%',\n",
       "  ' '],\n",
       " [\"<A NAME='lng'></A><b>燃氣(LNG)</b>\",\n",
       "  '南部CC#3',\n",
       "  '288.8',\n",
       "  '124.8',\n",
       "  '43.2%',\n",
       "  '部分檢修'],\n",
       " [\"<A NAME='lng'></A><b>燃氣(LNG)</b>\",\n",
       "  '南部CC#4',\n",
       "  '251.4',\n",
       "  '246.5',\n",
       "  '98.1%',\n",
       "  ' '],\n",
       " [\"<A NAME='lng'></A><b>燃氣(LNG)</b>\",\n",
       "  '大林#5',\n",
       "  '500.0',\n",
       "  '405.4',\n",
       "  '81.1%',\n",
       "  '運轉限制'],\n",
       " [\"<A NAME='lng'></A><b>燃氣(LNG)</b>\", '大林#6', '550.0', '538.4', '97.9%', ' '],\n",
       " [\"<A NAME='lng'></A><b>燃氣(LNG)</b>\",\n",
       "  '小計',\n",
       "  '10763.7(24.7%)',\n",
       "  '8947.5(31.8%)',\n",
       "  '',\n",
       "  ''],\n",
       " [\"<A NAME='ipplng'></A><b>民營電廠-燃氣(IPP-LNG)</b>\",\n",
       "  '海湖#1',\n",
       "  '450.0',\n",
       "  '458.9',\n",
       "  '102.0%',\n",
       "  ' '],\n",
       " [\"<A NAME='ipplng'></A><b>民營電廠-燃氣(IPP-LNG)</b>\",\n",
       "  '海湖#2',\n",
       "  '450.0',\n",
       "  '462.3',\n",
       "  '102.7%',\n",
       "  ' '],\n",
       " [\"<A NAME='ipplng'></A><b>民營電廠-燃氣(IPP-LNG)</b>\",\n",
       "  '新桃#1',\n",
       "  '600.0',\n",
       "  '418.6',\n",
       "  '69.8%',\n",
       "  '部分歲修'],\n",
       " [\"<A NAME='ipplng'></A><b>民營電廠-燃氣(IPP-LNG)</b>\",\n",
       "  '國光#1',\n",
       "  '480.0',\n",
       "  '483.0',\n",
       "  '100.6%',\n",
       "  ' '],\n",
       " [\"<A NAME='ipplng'></A><b>民營電廠-燃氣(IPP-LNG)</b>\",\n",
       "  '星彰#1',\n",
       "  '490.0',\n",
       "  '527.2',\n",
       "  '107.6%',\n",
       "  ' '],\n",
       " [\"<A NAME='ipplng'></A><b>民營電廠-燃氣(IPP-LNG)</b>\",\n",
       "  '星元#1',\n",
       "  '490.0',\n",
       "  '547.1',\n",
       "  '111.7%',\n",
       "  ' '],\n",
       " [\"<A NAME='ipplng'></A><b>民營電廠-燃氣(IPP-LNG)</b>\",\n",
       "  '嘉惠#1',\n",
       "  '670.0',\n",
       "  '663.7',\n",
       "  '99.1%',\n",
       "  ' '],\n",
       " [\"<A NAME='ipplng'></A><b>民營電廠-燃氣(IPP-LNG)</b>\",\n",
       "  '豐德#1',\n",
       "  '490.0',\n",
       "  '513.4',\n",
       "  '104.8%',\n",
       "  ' '],\n",
       " [\"<A NAME='ipplng'></A><b>民營電廠-燃氣(IPP-LNG)</b>\",\n",
       "  '豐德#2',\n",
       "  '490.0',\n",
       "  '506.2',\n",
       "  '103.3%',\n",
       "  ' '],\n",
       " [\"<A NAME='ipplng'></A><b>民營電廠-燃氣(IPP-LNG)</b>\",\n",
       "  '小計',\n",
       "  '4610.0(10.6%)',\n",
       "  '4580.4(16.3%)',\n",
       "  '',\n",
       "  ''],\n",
       " [\"<A NAME='oil'></A><b>燃油(Oil)</b>\",\n",
       "  '協和#1',\n",
       "  '500.0',\n",
       "  '372.0',\n",
       "  '74.4%',\n",
       "  '運轉限制'],\n",
       " [\"<A NAME='oil'></A><b>燃油(Oil)</b>\",\n",
       "  '協和#2',\n",
       "  '500.0',\n",
       "  '346.4',\n",
       "  '69.3%',\n",
       "  '運轉限制'],\n",
       " [\"<A NAME='oil'></A><b>燃油(Oil)</b>\", '協和#3', '500.0', '0.0', '0.0%', '歲修'],\n",
       " [\"<A NAME='oil'></A><b>燃油(Oil)</b>\",\n",
       "  '協和#4',\n",
       "  '500.0',\n",
       "  '128.9',\n",
       "  '25.8%',\n",
       "  '環保限制'],\n",
       " [\"<A NAME='oil'></A><b>燃油(Oil)</b>\",\n",
       "  '小計',\n",
       "  '2000.0(4.6%)',\n",
       "  '847.3(3.0%)',\n",
       "  '',\n",
       "  ''],\n",
       " [\"<A NAME='diesel'></A><b>輕油(Diesel)</b>\", '核一Gas1', '-', '0.0', '0.0%', ' '],\n",
       " [\"<A NAME='diesel'></A><b>輕油(Diesel)</b>\",\n",
       "  '核一Gas2',\n",
       "  '-',\n",
       "  '0.0',\n",
       "  '0.0%',\n",
       "  '歲修'],\n",
       " [\"<A NAME='diesel'></A><b>輕油(Diesel)</b>\", '核二Gas1', '-', '0.0', '0.0%', ' '],\n",
       " [\"<A NAME='diesel'></A><b>輕油(Diesel)</b>\",\n",
       "  '核二Gas2',\n",
       "  '-',\n",
       "  '0.0',\n",
       "  '0.0%',\n",
       "  '檢修'],\n",
       " [\"<A NAME='diesel'></A><b>輕油(Diesel)</b>\", '核三Gas1', '-', '0.0', '0.0%', ' '],\n",
       " [\"<A NAME='diesel'></A><b>輕油(Diesel)</b>\", '核三Gas2', '-', '0.0', '0.0%', ' '],\n",
       " [\"<A NAME='diesel'></A><b>輕油(Diesel)</b>\",\n",
       "  '台中Gas1&amp;2',\n",
       "  '140.0',\n",
       "  '0.0',\n",
       "  '0.0%',\n",
       "  '檢修'],\n",
       " [\"<A NAME='diesel'></A><b>輕油(Diesel)</b>\",\n",
       "  '台中Gas3&amp;4',\n",
       "  '140.0',\n",
       "  '0.0',\n",
       "  '0.0%',\n",
       "  '部分歲修'],\n",
       " [\"<A NAME='diesel'></A><b>輕油(Diesel)</b>\",\n",
       "  '澎湖尖山(註4)',\n",
       "  '129.8',\n",
       "  '41.4',\n",
       "  '31.9%',\n",
       "  ' '],\n",
       " [\"<A NAME='diesel'></A><b>輕油(Diesel)</b>\",\n",
       "  '金門塔山(註4)',\n",
       "  '91.0',\n",
       "  '27.4',\n",
       "  '30.1%',\n",
       "  ' '],\n",
       " [\"<A NAME='diesel'></A><b>輕油(Diesel)</b>\",\n",
       "  '馬祖珠山(註4)',\n",
       "  '29.7',\n",
       "  '6.1',\n",
       "  '20.5%',\n",
       "  ' '],\n",
       " [\"<A NAME='diesel'></A><b>輕油(Diesel)</b>\",\n",
       "  '離島其他(註4)',\n",
       "  '42.7',\n",
       "  'N/A',\n",
       "  'N/A',\n",
       "  ' '],\n",
       " [\"<A NAME='diesel'></A><b>輕油(Diesel)</b>\",\n",
       "  '小計(註5)',\n",
       "  '573.2(1.3%)',\n",
       "  '74.9(0.3%)',\n",
       "  '',\n",
       "  ''],\n",
       " [\"<A NAME='hydro'></A><b>水力(Hydro)</b>\", '德基#1', '78.0', '0.0', '0.0%', ' '],\n",
       " [\"<A NAME='hydro'></A><b>水力(Hydro)</b>\", '德基#2', '78.0', '0.0', '0.0%', '歲修'],\n",
       " [\"<A NAME='hydro'></A><b>水力(Hydro)</b>\", '德基#3', '78.0', '0.0', '0.0%', ' '],\n",
       " [\"<A NAME='hydro'></A><b>水力(Hydro)</b>\",\n",
       "  '青山#1',\n",
       "  '92.0',\n",
       "  '11.9',\n",
       "  '12.9%',\n",
       "  ' '],\n",
       " [\"<A NAME='hydro'></A><b>水力(Hydro)</b>\",\n",
       "  '青山#2',\n",
       "  '92.0',\n",
       "  '11.9',\n",
       "  '12.9%',\n",
       "  ' '],\n",
       " [\"<A NAME='hydro'></A><b>水力(Hydro)</b>\", '青山#3', '92.0', '9.2', '10.0%', ' '],\n",
       " [\"<A NAME='hydro'></A><b>水力(Hydro)</b>\", '青山#4', '92.0', '0.0', '0.0%', ' '],\n",
       " [\"<A NAME='hydro'></A><b>水力(Hydro)</b>\", '谷關#1', '54.4', '0.0', '0.0%', ' '],\n",
       " [\"<A NAME='hydro'></A><b>水力(Hydro)</b>\",\n",
       "  '谷關#2',\n",
       "  '54.4',\n",
       "  '44.8',\n",
       "  '82.3%',\n",
       "  ' '],\n",
       " [\"<A NAME='hydro'></A><b>水力(Hydro)</b>\", '谷關#3', '54.4', '0.0', '0.0%', ' '],\n",
       " [\"<A NAME='hydro'></A><b>水力(Hydro)</b>\", '谷關#4', '54.4', '0.0', '0.0%', ' '],\n",
       " [\"<A NAME='hydro'></A><b>水力(Hydro)</b>\", '天輪#1', '22.5', '0.0', '0.0%', ' '],\n",
       " [\"<A NAME='hydro'></A><b>水力(Hydro)</b>\", '天輪#2', '22.5', '8.4', '37.3%', ' '],\n",
       " [\"<A NAME='hydro'></A><b>水力(Hydro)</b>\", '天輪#3', '22.5', '9.2', '40.9%', ' '],\n",
       " [\"<A NAME='hydro'></A><b>水力(Hydro)</b>\", '天輪#4', '22.5', '8.2', '36.4%', ' '],\n",
       " [\"<A NAME='hydro'></A><b>水力(Hydro)</b>\",\n",
       "  '天輪#5',\n",
       "  '105.0',\n",
       "  '0.0',\n",
       "  '0.0%',\n",
       "  '檢修'],\n",
       " [\"<A NAME='hydro'></A><b>水力(Hydro)</b>\", '馬鞍#1', '66.7', '0.0', '0.0%', ' '],\n",
       " [\"<A NAME='hydro'></A><b>水力(Hydro)</b>\",\n",
       "  '馬鞍#2',\n",
       "  '66.7',\n",
       "  '28.8',\n",
       "  '43.2%',\n",
       "  ' '],\n",
       " [\"<A NAME='hydro'></A><b>水力(Hydro)</b>\", '卓蘭#1', '40.0', '0.0', '0.0%', ' '],\n",
       " [\"<A NAME='hydro'></A><b>水力(Hydro)</b>\", '卓蘭#2', '40.0', '0.0', '0.0%', ' '],\n",
       " [\"<A NAME='hydro'></A><b>水力(Hydro)</b>\", '萬大#1', '10.4', '0.0', '0.0%', ' '],\n",
       " [\"<A NAME='hydro'></A><b>水力(Hydro)</b>\", '萬大#2', '10.4', '0.0', '0.0%', ' '],\n",
       " [\"<A NAME='hydro'></A><b>水力(Hydro)</b>\", '萬大#3', '15.3', '0.0', '0.0%', '檢修'],\n",
       " [\"<A NAME='hydro'></A><b>水力(Hydro)</b>\",\n",
       "  '萬大#4',\n",
       "  '19.7',\n",
       "  '20.2',\n",
       "  '102.5%',\n",
       "  ' '],\n",
       " [\"<A NAME='hydro'></A><b>水力(Hydro)</b>\",\n",
       "  '松林#1&amp;2',\n",
       "  '20.9',\n",
       "  '6.6',\n",
       "  '31.6%',\n",
       "  ' '],\n",
       " [\"<A NAME='hydro'></A><b>水力(Hydro)</b>\",\n",
       "  '大觀一#1',\n",
       "  '22.0',\n",
       "  '15.0',\n",
       "  '68.2%',\n",
       "  ' '],\n",
       " [\"<A NAME='hydro'></A><b>水力(Hydro)</b>\",\n",
       "  '大觀一#2',\n",
       "  '22.0',\n",
       "  '0.0',\n",
       "  '0.0%',\n",
       "  '檢修'],\n",
       " [\"<A NAME='hydro'></A><b>水力(Hydro)</b>\",\n",
       "  '大觀一#3',\n",
       "  '22.0',\n",
       "  '14.7',\n",
       "  '66.8%',\n",
       "  ' '],\n",
       " [\"<A NAME='hydro'></A><b>水力(Hydro)</b>\",\n",
       "  '大觀一#4',\n",
       "  '22.0',\n",
       "  '13.8',\n",
       "  '62.7%',\n",
       "  ' '],\n",
       " [\"<A NAME='hydro'></A><b>水力(Hydro)</b>\",\n",
       "  '大觀一#5',\n",
       "  '22.0',\n",
       "  '14.1',\n",
       "  '64.1%',\n",
       "  ' '],\n",
       " [\"<A NAME='hydro'></A><b>水力(Hydro)</b>\",\n",
       "  '鉅工#1',\n",
       "  '21.8',\n",
       "  '10.8',\n",
       "  '49.7%',\n",
       "  ' '],\n",
       " [\"<A NAME='hydro'></A><b>水力(Hydro)</b>\",\n",
       "  '鉅工#2',\n",
       "  '21.8',\n",
       "  '10.8',\n",
       "  '49.7%',\n",
       "  ' '],\n",
       " [\"<A NAME='hydro'></A><b>水力(Hydro)</b>\", '水里#1', '12.8', '0.0', '0.0%', ' '],\n",
       " [\"<A NAME='hydro'></A><b>水力(Hydro)</b>\",\n",
       "  '立霧#1&amp;#2',\n",
       "  '32.0',\n",
       "  '0.0',\n",
       "  '0.0%',\n",
       "  '檢修'],\n",
       " [\"<A NAME='hydro'></A><b>水力(Hydro)</b>\", '龍澗#1', '48.6', '0.0', '0.0%', ' '],\n",
       " [\"<A NAME='hydro'></A><b>水力(Hydro)</b>\",\n",
       "  '龍澗#2',\n",
       "  '48.6',\n",
       "  '14.2',\n",
       "  '29.2%',\n",
       "  ' '],\n",
       " [\"<A NAME='hydro'></A><b>水力(Hydro)</b>\", '碧海', '61.2', '13.7', '22.4%', ' '],\n",
       " [\"<A NAME='hydro'></A><b>水力(Hydro)</b>\",\n",
       "  '烏來&amp;桂山&amp;粗坑',\n",
       "  '40.5',\n",
       "  '11.7',\n",
       "  '28.9%',\n",
       "  ' '],\n",
       " [\"<A NAME='hydro'></A><b>水力(Hydro)</b>\",\n",
       "  '北部小水力(註6)',\n",
       "  '26.6',\n",
       "  'N/A',\n",
       "  'N/A',\n",
       "  ' '],\n",
       " [\"<A NAME='hydro'></A><b>水力(Hydro)</b>\",\n",
       "  '中部小水力(註6)',\n",
       "  '9.8',\n",
       "  'N/A',\n",
       "  'N/A',\n",
       "  ' '],\n",
       " [\"<A NAME='hydro'></A><b>水力(Hydro)</b>\",\n",
       "  '南部小水力(註6)',\n",
       "  '7.2',\n",
       "  'N/A',\n",
       "  'N/A',\n",
       "  ' '],\n",
       " [\"<A NAME='hydro'></A><b>水力(Hydro)</b>\",\n",
       "  '東部小水力(註6)',\n",
       "  '54.6',\n",
       "  '30.0',\n",
       "  '54.9%',\n",
       "  ' '],\n",
       " [\"<A NAME='hydro'></A><b>水力(Hydro)</b>\", '翡翠#1', '70.0', '0.0', '0.0%', ' '],\n",
       " [\"<A NAME='hydro'></A><b>水力(Hydro)</b>\", '石門#1', '45.0', '0.0', '0.0%', ' '],\n",
       " [\"<A NAME='hydro'></A><b>水力(Hydro)</b>\", '石門#2', '45.0', '0.0', '0.0%', ' '],\n",
       " [\"<A NAME='hydro'></A><b>水力(Hydro)</b>\", '曾文#1', '50.0', '0.0', '0.0%', ' '],\n",
       " [\"<A NAME='hydro'></A><b>水力(Hydro)</b>\",\n",
       "  '義興#1',\n",
       "  '40.0',\n",
       "  '18.1',\n",
       "  '45.3%',\n",
       "  ' '],\n",
       " [\"<A NAME='hydro'></A><b>水力(Hydro)</b>\", '名間', '16.7', '7.6', '45.5%', ' '],\n",
       " [\"<A NAME='hydro'></A><b>水力(Hydro)</b>\",\n",
       "  '嘉南西口&amp;嘉南烏山頭',\n",
       "  '20.3',\n",
       "  '0.2',\n",
       "  '1.0%',\n",
       "  ' '],\n",
       " [\"<A NAME='hydro'></A><b>水力(Hydro)</b>\", '后里示範', '0.1', 'N/A', 'N/A', ' '],\n",
       " [\"<A NAME='hydro'></A><b>水力(Hydro)</b>\", '卑南', '2.0', '1.4', '70.7%', ' '],\n",
       " [\"<A NAME='hydro'></A><b>水力(Hydro)</b>\",\n",
       "  '小計',\n",
       "  '2089.3(4.8%)',\n",
       "  '355.3(1.3%)',\n",
       "  '',\n",
       "  ''],\n",
       " [\"<A NAME='wind'></A><b>風力(Wind)</b>\", '石門', '4.0', '1.1', '26.9%', ' '],\n",
       " [\"<A NAME='wind'></A><b>風力(Wind)</b>\", '林口', '6.0', '1.9', '32.0%', ' '],\n",
       " [\"<A NAME='wind'></A><b>風力(Wind)</b>\", '蘆竹', '7.2', '1.7', '23.6%', ' '],\n",
       " [\"<A NAME='wind'></A><b>風力(Wind)</b>\", '大潭', '15.1', '1.8', '11.8%', ' '],\n",
       " [\"<A NAME='wind'></A><b>風力(Wind)</b>\", '觀園', '30.0', '8.7', '29.1%', ' '],\n",
       " [\"<A NAME='wind'></A><b>風力(Wind)</b>\", '香山', '12.0', '0.0', '0.0%', ' '],\n",
       " [\"<A NAME='wind'></A><b>風力(Wind)</b>\", '台中', '6.0', '1.2', '19.6%', ' '],\n",
       " [\"<A NAME='wind'></A><b>風力(Wind)</b>\", '台中港', '36.0', '9.9', '27.6%', ' '],\n",
       " [\"<A NAME='wind'></A><b>風力(Wind)</b>\", '王功', '23.0', '14.2', '61.9%', ' '],\n",
       " [\"<A NAME='wind'></A><b>風力(Wind)</b>\", '彰工', '62.0', '54.7', '88.3%', ' '],\n",
       " [\"<A NAME='wind'></A><b>風力(Wind)</b>\", '雲麥', '46.0', '16.7', '36.3%', ' '],\n",
       " [\"<A NAME='wind'></A><b>風力(Wind)</b>\", '四湖', '28.0', '16.8', '60.0%', ' '],\n",
       " [\"<A NAME='wind'></A><b>風力(Wind)</b>\", '恆春', '4.5', '3.3', '73.4%', ' '],\n",
       " [\"<A NAME='wind'></A><b>風力(Wind)</b>\", '澎湖中屯', '4.8', '2.8', '57.4%', ' '],\n",
       " [\"<A NAME='wind'></A><b>風力(Wind)</b>\", '金門金沙', '4.0', '1.1', '28.2%', ' '],\n",
       " [\"<A NAME='wind'></A><b>風力(Wind)</b>\", '澎湖湖西', '5.4', '2.2', '41.3%', ' '],\n",
       " [\"<A NAME='wind'></A><b>風力(Wind)</b>\", '苗栗竹南', '7.8', '0.4', '5.1%', ' '],\n",
       " [\"<A NAME='wind'></A><b>風力(Wind)</b>\", '苗栗大鵬', '42.0', 'N/A', 'N/A', ' '],\n",
       " [\"<A NAME='wind'></A><b>風力(Wind)</b>\", '鹿威彰濱', '55.2', '33.0', '59.8%', ' '],\n",
       " [\"<A NAME='wind'></A><b>風力(Wind)</b>\", '鹿威鹿港', '41.4', '20.7', '50.0%', ' '],\n",
       " [\"<A NAME='wind'></A><b>風力(Wind)</b>\",\n",
       "  '觀威觀音&amp;桃威觀屋',\n",
       "  '48.3',\n",
       "  '11.4',\n",
       "  '23.6%',\n",
       "  ' '],\n",
       " [\"<A NAME='wind'></A><b>風力(Wind)</b>\", '中威大安', '82.8', '11.4', '13.8%', ' '],\n",
       " [\"<A NAME='wind'></A><b>風力(Wind)</b>\", '崎威崎頂', '6.9', '0.2', '2.9%', ' '],\n",
       " [\"<A NAME='wind'></A><b>風力(Wind)</b>\", '豐威', '11.5', '0.8', '7.0%', ' '],\n",
       " [\"<A NAME='wind'></A><b>風力(Wind)</b>\", '龍威後龍', '44.1', '2.3', '5.2%', ' '],\n",
       " [\"<A NAME='wind'></A><b>風力(Wind)</b>\", '苗栗通苑', '27.6', '2.0', '7.2%', ' '],\n",
       " [\"<A NAME='wind'></A><b>風力(Wind)</b>\", '安威', '6.9', '0.5', '7.2%', ' '],\n",
       " [\"<A NAME='wind'></A><b>風力(Wind)</b>\", '清風清水', '2.3', '1.1', '47.8%', ' '],\n",
       " [\"<A NAME='wind'></A><b>風力(Wind)</b>\", '東鋼龍港', '11.5', '1.2', '10.4%', ' '],\n",
       " [\"<A NAME='wind'></A><b>風力(Wind)</b>\", '海洋竹南', '8.0', '1.4', '17.5%', ' '],\n",
       " [\"<A NAME='wind'></A><b>風力(Wind)</b>\",\n",
       "  '小計',\n",
       "  '690.3(1.6%)',\n",
       "  '224.6(0.8%)',\n",
       "  '',\n",
       "  ''],\n",
       " [\"<A NAME='solar'></A><b>太陽能(Solar)</b>\",\n",
       "  '金門金沙',\n",
       "  '0.5',\n",
       "  '0.097',\n",
       "  '18.3%',\n",
       "  ' '],\n",
       " [\"<A NAME='solar'></A><b>太陽能(Solar)</b>\",\n",
       "  '台中生水池',\n",
       "  '2.1',\n",
       "  '0.090',\n",
       "  '4.2%',\n",
       "  ' '],\n",
       " [\"<A NAME='solar'></A><b>太陽能(Solar)</b>\",\n",
       "  '興達生水池',\n",
       "  '1.6',\n",
       "  '0.210',\n",
       "  '12.9%',\n",
       "  ' '],\n",
       " [\"<A NAME='solar'></A><b>太陽能(Solar)</b>\",\n",
       "  '嘉義民雄',\n",
       "  '0.1',\n",
       "  '0.001',\n",
       "  '1.7%',\n",
       "  ' '],\n",
       " [\"<A NAME='solar'></A><b>太陽能(Solar)</b>\",\n",
       "  '中部儲運',\n",
       "  '0.1',\n",
       "  '0.003',\n",
       "  '3.3%',\n",
       "  ' '],\n",
       " [\"<A NAME='solar'></A><b>太陽能(Solar)</b>\",\n",
       "  '東勢新伯公',\n",
       "  '0.1',\n",
       "  '0.000',\n",
       "  '0.0%',\n",
       "  ' '],\n",
       " [\"<A NAME='solar'></A><b>太陽能(Solar)</b>\",\n",
       "  '永安鹽灘地',\n",
       "  '4.6',\n",
       "  '0.678',\n",
       "  '14.6%',\n",
       "  ' '],\n",
       " [\"<A NAME='solar'></A><b>太陽能(Solar)</b>\", '路北', '0.1', '0.006', '10.0%', ' '],\n",
       " [\"<A NAME='solar'></A><b>太陽能(Solar)</b>\",\n",
       "  '中原大學',\n",
       "  '0.0',\n",
       "  '0.001',\n",
       "  '2.5%',\n",
       "  ' '],\n",
       " [\"<A NAME='solar'></A><b>太陽能(Solar)</b>\",\n",
       "  '大潭生水池',\n",
       "  '0.6',\n",
       "  '0.013',\n",
       "  '2.0%',\n",
       "  ' '],\n",
       " [\"<A NAME='solar'></A><b>太陽能(Solar)</b>\",\n",
       "  '核三生水池',\n",
       "  '1.5',\n",
       "  '0.239',\n",
       "  '16.4%',\n",
       "  ' '],\n",
       " [\"<A NAME='solar'></A><b>太陽能(Solar)</b>\", '七美', '0.2', '0.014', '9.3%', ' '],\n",
       " [\"<A NAME='solar'></A><b>太陽能(Solar)</b>\", '尖山', '0.1', '0.004', '5.7%', ' '],\n",
       " [\"<A NAME='solar'></A><b>太陽能(Solar)</b>\", '卓蘭', '0.0', '0.000', '0.0%', ' '],\n",
       " [\"<A NAME='solar'></A><b>太陽能(Solar)</b>\", '后里', '0.1', '0.003', '3.3%', ' '],\n",
       " [\"<A NAME='solar'></A><b>太陽能(Solar)</b>\",\n",
       "  '台中龍井',\n",
       "  '6.5',\n",
       "  '0.330',\n",
       "  '5.1%',\n",
       "  ' '],\n",
       " [\"<A NAME='solar'></A><b>太陽能(Solar)</b>\",\n",
       "  '太陽能購電(註7)',\n",
       "  '1392.3',\n",
       "  '128.097',\n",
       "  '9.2%',\n",
       "  ' '],\n",
       " [\"<A NAME='solar'></A><b>太陽能(Solar)</b>\",\n",
       "  '小計',\n",
       "  '1410.5(3.2%)',\n",
       "  '129.8(0.5%)',\n",
       "  '',\n",
       "  ''],\n",
       " [\"<A NAME='pumpinggen'></A><b>抽蓄發電(Pumping Gen)</b>\",\n",
       "  '大觀二#1',\n",
       "  '250.0',\n",
       "  '0.0',\n",
       "  '0.0%',\n",
       "  ' '],\n",
       " [\"<A NAME='pumpinggen'></A><b>抽蓄發電(Pumping Gen)</b>\",\n",
       "  '大觀二#2',\n",
       "  '250.0',\n",
       "  '163.8',\n",
       "  '65.5%',\n",
       "  ' '],\n",
       " [\"<A NAME='pumpinggen'></A><b>抽蓄發電(Pumping Gen)</b>\",\n",
       "  '大觀二#3',\n",
       "  '250.0',\n",
       "  '0.0',\n",
       "  '0.0%',\n",
       "  ' '],\n",
       " [\"<A NAME='pumpinggen'></A><b>抽蓄發電(Pumping Gen)</b>\",\n",
       "  '大觀二#4',\n",
       "  '250.0',\n",
       "  '0.0',\n",
       "  '0.0%',\n",
       "  ' '],\n",
       " [\"<A NAME='pumpinggen'></A><b>抽蓄發電(Pumping Gen)</b>\",\n",
       "  '明潭#1',\n",
       "  '267.0',\n",
       "  '0.0',\n",
       "  '0.0%',\n",
       "  '歲修'],\n",
       " [\"<A NAME='pumpinggen'></A><b>抽蓄發電(Pumping Gen)</b>\",\n",
       "  '明潭#2',\n",
       "  '267.0',\n",
       "  '0.0',\n",
       "  '0.0%',\n",
       "  ' '],\n",
       " [\"<A NAME='pumpinggen'></A><b>抽蓄發電(Pumping Gen)</b>\",\n",
       "  '明潭#3',\n",
       "  '267.0',\n",
       "  '181.0',\n",
       "  '67.8%',\n",
       "  ' '],\n",
       " [\"<A NAME='pumpinggen'></A><b>抽蓄發電(Pumping Gen)</b>\",\n",
       "  '明潭#4',\n",
       "  '267.0',\n",
       "  '0.0',\n",
       "  '0.0%',\n",
       "  ' '],\n",
       " [\"<A NAME='pumpinggen'></A><b>抽蓄發電(Pumping Gen)</b>\",\n",
       "  '明潭#5',\n",
       "  '267.0',\n",
       "  '0.0',\n",
       "  '0.0%',\n",
       "  ' '],\n",
       " [\"<A NAME='pumpinggen'></A><b>抽蓄發電(Pumping Gen)</b>\",\n",
       "  '明潭#6',\n",
       "  '267.0',\n",
       "  '155.1',\n",
       "  '58.1%',\n",
       "  ' '],\n",
       " [\"<A NAME='pumpinggen'></A><b>抽蓄發電(Pumping Gen)</b>\",\n",
       "  '小計',\n",
       "  '2602.0(6.0%)',\n",
       "  '499.9(1.8%)',\n",
       "  '',\n",
       "  ''],\n",
       " [\"<A NAME='pumpingload'></A><b>抽蓄負載(Pumping Load)</b>\",\n",
       "  '大觀二#1',\n",
       "  '-',\n",
       "  '0.0',\n",
       "  '-',\n",
       "  ' '],\n",
       " [\"<A NAME='pumpingload'></A><b>抽蓄負載(Pumping Load)</b>\",\n",
       "  '大觀二#2',\n",
       "  '-',\n",
       "  '0.0',\n",
       "  '-',\n",
       "  ' '],\n",
       " [\"<A NAME='pumpingload'></A><b>抽蓄負載(Pumping Load)</b>\",\n",
       "  '大觀二#3',\n",
       "  '-',\n",
       "  '0.0',\n",
       "  '-',\n",
       "  ' '],\n",
       " [\"<A NAME='pumpingload'></A><b>抽蓄負載(Pumping Load)</b>\",\n",
       "  '大觀二#4',\n",
       "  '-',\n",
       "  '0.0',\n",
       "  '-',\n",
       "  ' '],\n",
       " [\"<A NAME='pumpingload'></A><b>抽蓄負載(Pumping Load)</b>\",\n",
       "  '明潭#1',\n",
       "  '-',\n",
       "  '0.0',\n",
       "  '-',\n",
       "  '歲修'],\n",
       " [\"<A NAME='pumpingload'></A><b>抽蓄負載(Pumping Load)</b>\",\n",
       "  '明潭#2',\n",
       "  '-',\n",
       "  '0.0',\n",
       "  '-',\n",
       "  ' '],\n",
       " [\"<A NAME='pumpingload'></A><b>抽蓄負載(Pumping Load)</b>\",\n",
       "  '明潭#3',\n",
       "  '-',\n",
       "  '0.0',\n",
       "  '-',\n",
       "  ' '],\n",
       " [\"<A NAME='pumpingload'></A><b>抽蓄負載(Pumping Load)</b>\",\n",
       "  '明潭#4',\n",
       "  '-',\n",
       "  '0.0',\n",
       "  '-',\n",
       "  ' '],\n",
       " [\"<A NAME='pumpingload'></A><b>抽蓄負載(Pumping Load)</b>\",\n",
       "  '明潭#5',\n",
       "  '-',\n",
       "  '0.0',\n",
       "  '-',\n",
       "  ' '],\n",
       " [\"<A NAME='pumpingload'></A><b>抽蓄負載(Pumping Load)</b>\",\n",
       "  '明潭#6',\n",
       "  '-',\n",
       "  '0.0',\n",
       "  '-',\n",
       "  ' ']]"
      ]
     },
     "execution_count": 247,
     "metadata": {},
     "output_type": "execute_result"
    }
   ],
   "source": [
    "data['aaData']"
   ]
  },
  {
   "cell_type": "code",
   "execution_count": 248,
   "metadata": {},
   "outputs": [
    {
     "data": {
      "text/plain": [
       "[\"<A NAME='nuclear'></A><b>核能(Nuclear)</b>\",\n",
       " '核一#1',\n",
       " '636.0',\n",
       " '0.0',\n",
       " '0.0%',\n",
       " '歲修逾排程']"
      ]
     },
     "execution_count": 248,
     "metadata": {},
     "output_type": "execute_result"
    }
   ],
   "source": [
    "data['aaData'][0]"
   ]
  },
  {
   "cell_type": "code",
   "execution_count": 249,
   "metadata": {},
   "outputs": [
    {
     "data": {
      "text/plain": [
       "'核能(Nuclear)'"
      ]
     },
     "execution_count": 249,
     "metadata": {},
     "output_type": "execute_result"
    }
   ],
   "source": [
    "data['aaData'][0][0].split(\"b>\")[1].split(\"</\")[0]"
   ]
  },
  {
   "cell_type": "code",
   "execution_count": 251,
   "metadata": {},
   "outputs": [],
   "source": [
    "for row in data['aaData']:\n",
    "    row[0] = row[0].split(\"b>\")[1].split(\"</\")[0]"
   ]
  },
  {
   "cell_type": "code",
   "execution_count": 252,
   "metadata": {},
   "outputs": [
    {
     "data": {
      "text/plain": [
       "[['核能(Nuclear)', '核一#1', '636.0', '0.0', '0.0%', '歲修逾排程'],\n",
       " ['核能(Nuclear)', '核一#2', '636.0', '0.0', '0.0%', '歲修'],\n",
       " ['核能(Nuclear)', '核二#1', '985.0', '984.0', '99.9%', ' '],\n",
       " ['核能(Nuclear)', '核二#2', '985.0', '0.0', '0.0%', '歲修逾排程'],\n",
       " ['核能(Nuclear)', '核三#1', '951.0', '935.8', '98.4%', ' '],\n",
       " ['核能(Nuclear)', '核三#2', '951.0', '942.6', '99.1%', ' '],\n",
       " ['核能(Nuclear)', '小計', '5144.0(11.8%)', '2862.4(10.2%)', '', ''],\n",
       " ['燃煤(Coal)', '林口#1', '800.0', '0.0', '0.0%', '歲修'],\n",
       " ['燃煤(Coal)', '林口#2', '800.0', '766.7', '95.8%', ' '],\n",
       " ['燃煤(Coal)', '台中#1', '550.0', '498.6', '90.7%', ' '],\n",
       " ['燃煤(Coal)', '台中#2', '550.0', '528.4', '96.1%', ' '],\n",
       " ['燃煤(Coal)', '台中#3', '550.0', '522.5', '95.0%', ' '],\n",
       " ['燃煤(Coal)', '台中#4', '550.0', '515.4', '93.7%', ' '],\n",
       " ['燃煤(Coal)', '台中#5', '550.0', '542.0', '98.5%', ' '],\n",
       " ['燃煤(Coal)', '台中#6', '550.0', '528.4', '96.1%', ' '],\n",
       " ['燃煤(Coal)', '台中#7', '550.0', '0.0', '0.0%', '歲修'],\n",
       " ['燃煤(Coal)', '台中#8', '550.0', '524.2', '95.3%', ' '],\n",
       " ['燃煤(Coal)', '台中#9', '550.0', '517.9', '94.2%', ' '],\n",
       " ['燃煤(Coal)', '台中#10', '550.0', '529.4', '96.3%', ' '],\n",
       " ['燃煤(Coal)', '興達#1', '500.0', '348.0', '69.6%', '環保限制'],\n",
       " ['燃煤(Coal)', '興達#2', '500.0', '282.7', '56.5%', '環保限制'],\n",
       " ['燃煤(Coal)', '興達#3', '550.0', '0.0', '0.0%', '歲修'],\n",
       " ['燃煤(Coal)', '興達#4', '550.0', '277.7', '50.5%', '環保限制'],\n",
       " ['燃煤(Coal)', '大林#1', '800.0', '0.0', '0.0%', '檢修'],\n",
       " ['燃煤(Coal)', '大林#2(註10)', '-', '214.7', '26.8%', '新機組試俥'],\n",
       " ['燃煤(Coal)', '小計', '10000.0(22.9%)', '6596.6(23.4%)', '', ''],\n",
       " ['汽電共生(Co-Gen)', '汽電共生', '623.2', '686.0', '-', '部分檢修'],\n",
       " ['汽電共生(Co-Gen)', '小計', '623.2(1.4%)', '686.0(2.4%)', '', ''],\n",
       " ['民營電廠-燃煤(IPP-Coal)', '和平#1', '648.6', '595.4', '91.8%', ' '],\n",
       " ['民營電廠-燃煤(IPP-Coal)', '和平#2', '648.6', '601.2', '92.7%', ' '],\n",
       " ['民營電廠-燃煤(IPP-Coal)', '麥寮#1', '600.0', '570.4', '95.1%', ' '],\n",
       " ['民營電廠-燃煤(IPP-Coal)', '麥寮#2', '600.0', '569.8', '95.0%', ' '],\n",
       " ['民營電廠-燃煤(IPP-Coal)', '麥寮#3', '600.0', '0.0', '0.0%', '歲修'],\n",
       " ['民營電廠-燃煤(IPP-Coal)', '小計', '3097.1(7.1%)', '2336.8(8.3%)', '', ''],\n",
       " ['燃氣(LNG)', '大潭CC#1', '742.7', '692.2', '93.2%', ' '],\n",
       " ['燃氣(LNG)', '大潭CC#2', '742.7', '436.0', '58.7%', '部分歲修'],\n",
       " ['燃氣(LNG)', '大潭CC#3', '724.7', '665.5', '91.8%', ' '],\n",
       " ['燃氣(LNG)', '大潭CC#4', '724.7', '698.3', '96.4%', ' '],\n",
       " ['燃氣(LNG)', '大潭CC#5', '724.7', '679.6', '93.8%', ' '],\n",
       " ['燃氣(LNG)', '大潭CC#6', '724.7', '0.0', '0.0%', '歲修'],\n",
       " ['燃氣(LNG)', '大潭CC#7(註10)', '-', '602.9', '102.2%', '新機組試俥'],\n",
       " ['燃氣(LNG)', '通霄CC#1', '892.6', '927.4', '103.9%', ' '],\n",
       " ['燃氣(LNG)', '通霄CC#4', '386.0', '380.0', '98.4%', ' '],\n",
       " ['燃氣(LNG)', '通霄CC#5', '386.0', '388.0', '100.5%', ' '],\n",
       " ['燃氣(LNG)', '通霄CC#6', '321.2', '323.2', '100.6%', ' '],\n",
       " ['燃氣(LNG)', '興達CC#1', '445.2', '375.7', '84.4%', ' '],\n",
       " ['燃氣(LNG)', '興達CC#2', '445.2', '0.0', '0.0%', '歲修'],\n",
       " ['燃氣(LNG)', '興達CC#3', '445.2', '322.6', '72.5%', ' '],\n",
       " ['燃氣(LNG)', '興達CC#4', '445.2', '269.7', '60.6%', '部分檢修'],\n",
       " ['燃氣(LNG)', '興達CC#5', '445.2', '384.0', '86.3%', ' '],\n",
       " ['燃氣(LNG)', '南部CC#1', '288.8', '206.8', '71.6%', '部分歲修'],\n",
       " ['燃氣(LNG)', '南部CC#2', '288.8', '280.5', '97.1%', ' '],\n",
       " ['燃氣(LNG)', '南部CC#3', '288.8', '124.8', '43.2%', '部分檢修'],\n",
       " ['燃氣(LNG)', '南部CC#4', '251.4', '246.5', '98.1%', ' '],\n",
       " ['燃氣(LNG)', '大林#5', '500.0', '405.4', '81.1%', '運轉限制'],\n",
       " ['燃氣(LNG)', '大林#6', '550.0', '538.4', '97.9%', ' '],\n",
       " ['燃氣(LNG)', '小計', '10763.7(24.7%)', '8947.5(31.8%)', '', ''],\n",
       " ['民營電廠-燃氣(IPP-LNG)', '海湖#1', '450.0', '458.9', '102.0%', ' '],\n",
       " ['民營電廠-燃氣(IPP-LNG)', '海湖#2', '450.0', '462.3', '102.7%', ' '],\n",
       " ['民營電廠-燃氣(IPP-LNG)', '新桃#1', '600.0', '418.6', '69.8%', '部分歲修'],\n",
       " ['民營電廠-燃氣(IPP-LNG)', '國光#1', '480.0', '483.0', '100.6%', ' '],\n",
       " ['民營電廠-燃氣(IPP-LNG)', '星彰#1', '490.0', '527.2', '107.6%', ' '],\n",
       " ['民營電廠-燃氣(IPP-LNG)', '星元#1', '490.0', '547.1', '111.7%', ' '],\n",
       " ['民營電廠-燃氣(IPP-LNG)', '嘉惠#1', '670.0', '663.7', '99.1%', ' '],\n",
       " ['民營電廠-燃氣(IPP-LNG)', '豐德#1', '490.0', '513.4', '104.8%', ' '],\n",
       " ['民營電廠-燃氣(IPP-LNG)', '豐德#2', '490.0', '506.2', '103.3%', ' '],\n",
       " ['民營電廠-燃氣(IPP-LNG)', '小計', '4610.0(10.6%)', '4580.4(16.3%)', '', ''],\n",
       " ['燃油(Oil)', '協和#1', '500.0', '372.0', '74.4%', '運轉限制'],\n",
       " ['燃油(Oil)', '協和#2', '500.0', '346.4', '69.3%', '運轉限制'],\n",
       " ['燃油(Oil)', '協和#3', '500.0', '0.0', '0.0%', '歲修'],\n",
       " ['燃油(Oil)', '協和#4', '500.0', '128.9', '25.8%', '環保限制'],\n",
       " ['燃油(Oil)', '小計', '2000.0(4.6%)', '847.3(3.0%)', '', ''],\n",
       " ['輕油(Diesel)', '核一Gas1', '-', '0.0', '0.0%', ' '],\n",
       " ['輕油(Diesel)', '核一Gas2', '-', '0.0', '0.0%', '歲修'],\n",
       " ['輕油(Diesel)', '核二Gas1', '-', '0.0', '0.0%', ' '],\n",
       " ['輕油(Diesel)', '核二Gas2', '-', '0.0', '0.0%', '檢修'],\n",
       " ['輕油(Diesel)', '核三Gas1', '-', '0.0', '0.0%', ' '],\n",
       " ['輕油(Diesel)', '核三Gas2', '-', '0.0', '0.0%', ' '],\n",
       " ['輕油(Diesel)', '台中Gas1&amp;2', '140.0', '0.0', '0.0%', '檢修'],\n",
       " ['輕油(Diesel)', '台中Gas3&amp;4', '140.0', '0.0', '0.0%', '部分歲修'],\n",
       " ['輕油(Diesel)', '澎湖尖山(註4)', '129.8', '41.4', '31.9%', ' '],\n",
       " ['輕油(Diesel)', '金門塔山(註4)', '91.0', '27.4', '30.1%', ' '],\n",
       " ['輕油(Diesel)', '馬祖珠山(註4)', '29.7', '6.1', '20.5%', ' '],\n",
       " ['輕油(Diesel)', '離島其他(註4)', '42.7', 'N/A', 'N/A', ' '],\n",
       " ['輕油(Diesel)', '小計(註5)', '573.2(1.3%)', '74.9(0.3%)', '', ''],\n",
       " ['水力(Hydro)', '德基#1', '78.0', '0.0', '0.0%', ' '],\n",
       " ['水力(Hydro)', '德基#2', '78.0', '0.0', '0.0%', '歲修'],\n",
       " ['水力(Hydro)', '德基#3', '78.0', '0.0', '0.0%', ' '],\n",
       " ['水力(Hydro)', '青山#1', '92.0', '11.9', '12.9%', ' '],\n",
       " ['水力(Hydro)', '青山#2', '92.0', '11.9', '12.9%', ' '],\n",
       " ['水力(Hydro)', '青山#3', '92.0', '9.2', '10.0%', ' '],\n",
       " ['水力(Hydro)', '青山#4', '92.0', '0.0', '0.0%', ' '],\n",
       " ['水力(Hydro)', '谷關#1', '54.4', '0.0', '0.0%', ' '],\n",
       " ['水力(Hydro)', '谷關#2', '54.4', '44.8', '82.3%', ' '],\n",
       " ['水力(Hydro)', '谷關#3', '54.4', '0.0', '0.0%', ' '],\n",
       " ['水力(Hydro)', '谷關#4', '54.4', '0.0', '0.0%', ' '],\n",
       " ['水力(Hydro)', '天輪#1', '22.5', '0.0', '0.0%', ' '],\n",
       " ['水力(Hydro)', '天輪#2', '22.5', '8.4', '37.3%', ' '],\n",
       " ['水力(Hydro)', '天輪#3', '22.5', '9.2', '40.9%', ' '],\n",
       " ['水力(Hydro)', '天輪#4', '22.5', '8.2', '36.4%', ' '],\n",
       " ['水力(Hydro)', '天輪#5', '105.0', '0.0', '0.0%', '檢修'],\n",
       " ['水力(Hydro)', '馬鞍#1', '66.7', '0.0', '0.0%', ' '],\n",
       " ['水力(Hydro)', '馬鞍#2', '66.7', '28.8', '43.2%', ' '],\n",
       " ['水力(Hydro)', '卓蘭#1', '40.0', '0.0', '0.0%', ' '],\n",
       " ['水力(Hydro)', '卓蘭#2', '40.0', '0.0', '0.0%', ' '],\n",
       " ['水力(Hydro)', '萬大#1', '10.4', '0.0', '0.0%', ' '],\n",
       " ['水力(Hydro)', '萬大#2', '10.4', '0.0', '0.0%', ' '],\n",
       " ['水力(Hydro)', '萬大#3', '15.3', '0.0', '0.0%', '檢修'],\n",
       " ['水力(Hydro)', '萬大#4', '19.7', '20.2', '102.5%', ' '],\n",
       " ['水力(Hydro)', '松林#1&amp;2', '20.9', '6.6', '31.6%', ' '],\n",
       " ['水力(Hydro)', '大觀一#1', '22.0', '15.0', '68.2%', ' '],\n",
       " ['水力(Hydro)', '大觀一#2', '22.0', '0.0', '0.0%', '檢修'],\n",
       " ['水力(Hydro)', '大觀一#3', '22.0', '14.7', '66.8%', ' '],\n",
       " ['水力(Hydro)', '大觀一#4', '22.0', '13.8', '62.7%', ' '],\n",
       " ['水力(Hydro)', '大觀一#5', '22.0', '14.1', '64.1%', ' '],\n",
       " ['水力(Hydro)', '鉅工#1', '21.8', '10.8', '49.7%', ' '],\n",
       " ['水力(Hydro)', '鉅工#2', '21.8', '10.8', '49.7%', ' '],\n",
       " ['水力(Hydro)', '水里#1', '12.8', '0.0', '0.0%', ' '],\n",
       " ['水力(Hydro)', '立霧#1&amp;#2', '32.0', '0.0', '0.0%', '檢修'],\n",
       " ['水力(Hydro)', '龍澗#1', '48.6', '0.0', '0.0%', ' '],\n",
       " ['水力(Hydro)', '龍澗#2', '48.6', '14.2', '29.2%', ' '],\n",
       " ['水力(Hydro)', '碧海', '61.2', '13.7', '22.4%', ' '],\n",
       " ['水力(Hydro)', '烏來&amp;桂山&amp;粗坑', '40.5', '11.7', '28.9%', ' '],\n",
       " ['水力(Hydro)', '北部小水力(註6)', '26.6', 'N/A', 'N/A', ' '],\n",
       " ['水力(Hydro)', '中部小水力(註6)', '9.8', 'N/A', 'N/A', ' '],\n",
       " ['水力(Hydro)', '南部小水力(註6)', '7.2', 'N/A', 'N/A', ' '],\n",
       " ['水力(Hydro)', '東部小水力(註6)', '54.6', '30.0', '54.9%', ' '],\n",
       " ['水力(Hydro)', '翡翠#1', '70.0', '0.0', '0.0%', ' '],\n",
       " ['水力(Hydro)', '石門#1', '45.0', '0.0', '0.0%', ' '],\n",
       " ['水力(Hydro)', '石門#2', '45.0', '0.0', '0.0%', ' '],\n",
       " ['水力(Hydro)', '曾文#1', '50.0', '0.0', '0.0%', ' '],\n",
       " ['水力(Hydro)', '義興#1', '40.0', '18.1', '45.3%', ' '],\n",
       " ['水力(Hydro)', '名間', '16.7', '7.6', '45.5%', ' '],\n",
       " ['水力(Hydro)', '嘉南西口&amp;嘉南烏山頭', '20.3', '0.2', '1.0%', ' '],\n",
       " ['水力(Hydro)', '后里示範', '0.1', 'N/A', 'N/A', ' '],\n",
       " ['水力(Hydro)', '卑南', '2.0', '1.4', '70.7%', ' '],\n",
       " ['水力(Hydro)', '小計', '2089.3(4.8%)', '355.3(1.3%)', '', ''],\n",
       " ['風力(Wind)', '石門', '4.0', '1.1', '26.9%', ' '],\n",
       " ['風力(Wind)', '林口', '6.0', '1.9', '32.0%', ' '],\n",
       " ['風力(Wind)', '蘆竹', '7.2', '1.7', '23.6%', ' '],\n",
       " ['風力(Wind)', '大潭', '15.1', '1.8', '11.8%', ' '],\n",
       " ['風力(Wind)', '觀園', '30.0', '8.7', '29.1%', ' '],\n",
       " ['風力(Wind)', '香山', '12.0', '0.0', '0.0%', ' '],\n",
       " ['風力(Wind)', '台中', '6.0', '1.2', '19.6%', ' '],\n",
       " ['風力(Wind)', '台中港', '36.0', '9.9', '27.6%', ' '],\n",
       " ['風力(Wind)', '王功', '23.0', '14.2', '61.9%', ' '],\n",
       " ['風力(Wind)', '彰工', '62.0', '54.7', '88.3%', ' '],\n",
       " ['風力(Wind)', '雲麥', '46.0', '16.7', '36.3%', ' '],\n",
       " ['風力(Wind)', '四湖', '28.0', '16.8', '60.0%', ' '],\n",
       " ['風力(Wind)', '恆春', '4.5', '3.3', '73.4%', ' '],\n",
       " ['風力(Wind)', '澎湖中屯', '4.8', '2.8', '57.4%', ' '],\n",
       " ['風力(Wind)', '金門金沙', '4.0', '1.1', '28.2%', ' '],\n",
       " ['風力(Wind)', '澎湖湖西', '5.4', '2.2', '41.3%', ' '],\n",
       " ['風力(Wind)', '苗栗竹南', '7.8', '0.4', '5.1%', ' '],\n",
       " ['風力(Wind)', '苗栗大鵬', '42.0', 'N/A', 'N/A', ' '],\n",
       " ['風力(Wind)', '鹿威彰濱', '55.2', '33.0', '59.8%', ' '],\n",
       " ['風力(Wind)', '鹿威鹿港', '41.4', '20.7', '50.0%', ' '],\n",
       " ['風力(Wind)', '觀威觀音&amp;桃威觀屋', '48.3', '11.4', '23.6%', ' '],\n",
       " ['風力(Wind)', '中威大安', '82.8', '11.4', '13.8%', ' '],\n",
       " ['風力(Wind)', '崎威崎頂', '6.9', '0.2', '2.9%', ' '],\n",
       " ['風力(Wind)', '豐威', '11.5', '0.8', '7.0%', ' '],\n",
       " ['風力(Wind)', '龍威後龍', '44.1', '2.3', '5.2%', ' '],\n",
       " ['風力(Wind)', '苗栗通苑', '27.6', '2.0', '7.2%', ' '],\n",
       " ['風力(Wind)', '安威', '6.9', '0.5', '7.2%', ' '],\n",
       " ['風力(Wind)', '清風清水', '2.3', '1.1', '47.8%', ' '],\n",
       " ['風力(Wind)', '東鋼龍港', '11.5', '1.2', '10.4%', ' '],\n",
       " ['風力(Wind)', '海洋竹南', '8.0', '1.4', '17.5%', ' '],\n",
       " ['風力(Wind)', '小計', '690.3(1.6%)', '224.6(0.8%)', '', ''],\n",
       " ['太陽能(Solar)', '金門金沙', '0.5', '0.097', '18.3%', ' '],\n",
       " ['太陽能(Solar)', '台中生水池', '2.1', '0.090', '4.2%', ' '],\n",
       " ['太陽能(Solar)', '興達生水池', '1.6', '0.210', '12.9%', ' '],\n",
       " ['太陽能(Solar)', '嘉義民雄', '0.1', '0.001', '1.7%', ' '],\n",
       " ['太陽能(Solar)', '中部儲運', '0.1', '0.003', '3.3%', ' '],\n",
       " ['太陽能(Solar)', '東勢新伯公', '0.1', '0.000', '0.0%', ' '],\n",
       " ['太陽能(Solar)', '永安鹽灘地', '4.6', '0.678', '14.6%', ' '],\n",
       " ['太陽能(Solar)', '路北', '0.1', '0.006', '10.0%', ' '],\n",
       " ['太陽能(Solar)', '中原大學', '0.0', '0.001', '2.5%', ' '],\n",
       " ['太陽能(Solar)', '大潭生水池', '0.6', '0.013', '2.0%', ' '],\n",
       " ['太陽能(Solar)', '核三生水池', '1.5', '0.239', '16.4%', ' '],\n",
       " ['太陽能(Solar)', '七美', '0.2', '0.014', '9.3%', ' '],\n",
       " ['太陽能(Solar)', '尖山', '0.1', '0.004', '5.7%', ' '],\n",
       " ['太陽能(Solar)', '卓蘭', '0.0', '0.000', '0.0%', ' '],\n",
       " ['太陽能(Solar)', '后里', '0.1', '0.003', '3.3%', ' '],\n",
       " ['太陽能(Solar)', '台中龍井', '6.5', '0.330', '5.1%', ' '],\n",
       " ['太陽能(Solar)', '太陽能購電(註7)', '1392.3', '128.097', '9.2%', ' '],\n",
       " ['太陽能(Solar)', '小計', '1410.5(3.2%)', '129.8(0.5%)', '', ''],\n",
       " ['抽蓄發電(Pumping Gen)', '大觀二#1', '250.0', '0.0', '0.0%', ' '],\n",
       " ['抽蓄發電(Pumping Gen)', '大觀二#2', '250.0', '163.8', '65.5%', ' '],\n",
       " ['抽蓄發電(Pumping Gen)', '大觀二#3', '250.0', '0.0', '0.0%', ' '],\n",
       " ['抽蓄發電(Pumping Gen)', '大觀二#4', '250.0', '0.0', '0.0%', ' '],\n",
       " ['抽蓄發電(Pumping Gen)', '明潭#1', '267.0', '0.0', '0.0%', '歲修'],\n",
       " ['抽蓄發電(Pumping Gen)', '明潭#2', '267.0', '0.0', '0.0%', ' '],\n",
       " ['抽蓄發電(Pumping Gen)', '明潭#3', '267.0', '181.0', '67.8%', ' '],\n",
       " ['抽蓄發電(Pumping Gen)', '明潭#4', '267.0', '0.0', '0.0%', ' '],\n",
       " ['抽蓄發電(Pumping Gen)', '明潭#5', '267.0', '0.0', '0.0%', ' '],\n",
       " ['抽蓄發電(Pumping Gen)', '明潭#6', '267.0', '155.1', '58.1%', ' '],\n",
       " ['抽蓄發電(Pumping Gen)', '小計', '2602.0(6.0%)', '499.9(1.8%)', '', ''],\n",
       " ['抽蓄負載(Pumping Load)', '大觀二#1', '-', '0.0', '-', ' '],\n",
       " ['抽蓄負載(Pumping Load)', '大觀二#2', '-', '0.0', '-', ' '],\n",
       " ['抽蓄負載(Pumping Load)', '大觀二#3', '-', '0.0', '-', ' '],\n",
       " ['抽蓄負載(Pumping Load)', '大觀二#4', '-', '0.0', '-', ' '],\n",
       " ['抽蓄負載(Pumping Load)', '明潭#1', '-', '0.0', '-', '歲修'],\n",
       " ['抽蓄負載(Pumping Load)', '明潭#2', '-', '0.0', '-', ' '],\n",
       " ['抽蓄負載(Pumping Load)', '明潭#3', '-', '0.0', '-', ' '],\n",
       " ['抽蓄負載(Pumping Load)', '明潭#4', '-', '0.0', '-', ' '],\n",
       " ['抽蓄負載(Pumping Load)', '明潭#5', '-', '0.0', '-', ' '],\n",
       " ['抽蓄負載(Pumping Load)', '明潭#6', '-', '0.0', '-', ' ']]"
      ]
     },
     "execution_count": 252,
     "metadata": {},
     "output_type": "execute_result"
    }
   ],
   "source": [
    "data['aaData']"
   ]
  },
  {
   "cell_type": "code",
   "execution_count": 254,
   "metadata": {},
   "outputs": [
    {
     "data": {
      "text/plain": [
       "['核能(Nuclear)', '核一#1', '636.0', '0.0', '0.0%', '歲修逾排程']"
      ]
     },
     "execution_count": 254,
     "metadata": {},
     "output_type": "execute_result"
    }
   ],
   "source": [
    "data['aaData'][0]"
   ]
  },
  {
   "cell_type": "code",
   "execution_count": 255,
   "metadata": {},
   "outputs": [
    {
     "data": {
      "text/plain": [
       "'核能(Nuclear),核一#1,636.0,0.0,0.0%,歲修逾排程'"
      ]
     },
     "execution_count": 255,
     "metadata": {},
     "output_type": "execute_result"
    }
   ],
   "source": [
    "','.join(data['aaData'][0])"
   ]
  },
  {
   "cell_type": "code",
   "execution_count": 259,
   "metadata": {},
   "outputs": [
    {
     "name": "stdout",
     "output_type": "stream",
     "text": [
      "核能(Nuclear),核一#1,636.0,0.0,0.0%,歲修逾排程\n",
      "核能(Nuclear),核一#2,636.0,0.0,0.0%,歲修\n",
      "核能(Nuclear),核二#1,985.0,984.0,99.9%, \n",
      "核能(Nuclear),核二#2,985.0,0.0,0.0%,歲修逾排程\n",
      "核能(Nuclear),核三#1,951.0,935.8,98.4%, \n",
      "核能(Nuclear),核三#2,951.0,942.6,99.1%, \n",
      "核能(Nuclear),小計,5144.0(11.8%),2862.4(10.2%),,\n",
      "燃煤(Coal),林口#1,800.0,0.0,0.0%,歲修\n",
      "燃煤(Coal),林口#2,800.0,766.7,95.8%, \n",
      "燃煤(Coal),台中#1,550.0,498.6,90.7%, \n",
      "燃煤(Coal),台中#2,550.0,528.4,96.1%, \n",
      "燃煤(Coal),台中#3,550.0,522.5,95.0%, \n",
      "燃煤(Coal),台中#4,550.0,515.4,93.7%, \n",
      "燃煤(Coal),台中#5,550.0,542.0,98.5%, \n",
      "燃煤(Coal),台中#6,550.0,528.4,96.1%, \n",
      "燃煤(Coal),台中#7,550.0,0.0,0.0%,歲修\n",
      "燃煤(Coal),台中#8,550.0,524.2,95.3%, \n",
      "燃煤(Coal),台中#9,550.0,517.9,94.2%, \n",
      "燃煤(Coal),台中#10,550.0,529.4,96.3%, \n",
      "燃煤(Coal),興達#1,500.0,348.0,69.6%,環保限制\n",
      "燃煤(Coal),興達#2,500.0,282.7,56.5%,環保限制\n",
      "燃煤(Coal),興達#3,550.0,0.0,0.0%,歲修\n",
      "燃煤(Coal),興達#4,550.0,277.7,50.5%,環保限制\n",
      "燃煤(Coal),大林#1,800.0,0.0,0.0%,檢修\n",
      "燃煤(Coal),大林#2(註10),-,214.7,26.8%,新機組試俥\n",
      "燃煤(Coal),小計,10000.0(22.9%),6596.6(23.4%),,\n",
      "汽電共生(Co-Gen),汽電共生,623.2,686.0,-,部分檢修\n",
      "汽電共生(Co-Gen),小計,623.2(1.4%),686.0(2.4%),,\n",
      "民營電廠-燃煤(IPP-Coal),和平#1,648.6,595.4,91.8%, \n",
      "民營電廠-燃煤(IPP-Coal),和平#2,648.6,601.2,92.7%, \n",
      "民營電廠-燃煤(IPP-Coal),麥寮#1,600.0,570.4,95.1%, \n",
      "民營電廠-燃煤(IPP-Coal),麥寮#2,600.0,569.8,95.0%, \n",
      "民營電廠-燃煤(IPP-Coal),麥寮#3,600.0,0.0,0.0%,歲修\n",
      "民營電廠-燃煤(IPP-Coal),小計,3097.1(7.1%),2336.8(8.3%),,\n",
      "燃氣(LNG),大潭CC#1,742.7,692.2,93.2%, \n",
      "燃氣(LNG),大潭CC#2,742.7,436.0,58.7%,部分歲修\n",
      "燃氣(LNG),大潭CC#3,724.7,665.5,91.8%, \n",
      "燃氣(LNG),大潭CC#4,724.7,698.3,96.4%, \n",
      "燃氣(LNG),大潭CC#5,724.7,679.6,93.8%, \n",
      "燃氣(LNG),大潭CC#6,724.7,0.0,0.0%,歲修\n",
      "燃氣(LNG),大潭CC#7(註10),-,602.9,102.2%,新機組試俥\n",
      "燃氣(LNG),通霄CC#1,892.6,927.4,103.9%, \n",
      "燃氣(LNG),通霄CC#4,386.0,380.0,98.4%, \n",
      "燃氣(LNG),通霄CC#5,386.0,388.0,100.5%, \n",
      "燃氣(LNG),通霄CC#6,321.2,323.2,100.6%, \n",
      "燃氣(LNG),興達CC#1,445.2,375.7,84.4%, \n",
      "燃氣(LNG),興達CC#2,445.2,0.0,0.0%,歲修\n",
      "燃氣(LNG),興達CC#3,445.2,322.6,72.5%, \n",
      "燃氣(LNG),興達CC#4,445.2,269.7,60.6%,部分檢修\n",
      "燃氣(LNG),興達CC#5,445.2,384.0,86.3%, \n",
      "燃氣(LNG),南部CC#1,288.8,206.8,71.6%,部分歲修\n",
      "燃氣(LNG),南部CC#2,288.8,280.5,97.1%, \n",
      "燃氣(LNG),南部CC#3,288.8,124.8,43.2%,部分檢修\n",
      "燃氣(LNG),南部CC#4,251.4,246.5,98.1%, \n",
      "燃氣(LNG),大林#5,500.0,405.4,81.1%,運轉限制\n",
      "燃氣(LNG),大林#6,550.0,538.4,97.9%, \n",
      "燃氣(LNG),小計,10763.7(24.7%),8947.5(31.8%),,\n",
      "民營電廠-燃氣(IPP-LNG),海湖#1,450.0,458.9,102.0%, \n",
      "民營電廠-燃氣(IPP-LNG),海湖#2,450.0,462.3,102.7%, \n",
      "民營電廠-燃氣(IPP-LNG),新桃#1,600.0,418.6,69.8%,部分歲修\n",
      "民營電廠-燃氣(IPP-LNG),國光#1,480.0,483.0,100.6%, \n",
      "民營電廠-燃氣(IPP-LNG),星彰#1,490.0,527.2,107.6%, \n",
      "民營電廠-燃氣(IPP-LNG),星元#1,490.0,547.1,111.7%, \n",
      "民營電廠-燃氣(IPP-LNG),嘉惠#1,670.0,663.7,99.1%, \n",
      "民營電廠-燃氣(IPP-LNG),豐德#1,490.0,513.4,104.8%, \n",
      "民營電廠-燃氣(IPP-LNG),豐德#2,490.0,506.2,103.3%, \n",
      "民營電廠-燃氣(IPP-LNG),小計,4610.0(10.6%),4580.4(16.3%),,\n",
      "燃油(Oil),協和#1,500.0,372.0,74.4%,運轉限制\n",
      "燃油(Oil),協和#2,500.0,346.4,69.3%,運轉限制\n",
      "燃油(Oil),協和#3,500.0,0.0,0.0%,歲修\n",
      "燃油(Oil),協和#4,500.0,128.9,25.8%,環保限制\n",
      "燃油(Oil),小計,2000.0(4.6%),847.3(3.0%),,\n",
      "輕油(Diesel),核一Gas1,-,0.0,0.0%, \n",
      "輕油(Diesel),核一Gas2,-,0.0,0.0%,歲修\n",
      "輕油(Diesel),核二Gas1,-,0.0,0.0%, \n",
      "輕油(Diesel),核二Gas2,-,0.0,0.0%,檢修\n",
      "輕油(Diesel),核三Gas1,-,0.0,0.0%, \n",
      "輕油(Diesel),核三Gas2,-,0.0,0.0%, \n",
      "輕油(Diesel),台中Gas1&amp;2,140.0,0.0,0.0%,檢修\n",
      "輕油(Diesel),台中Gas3&amp;4,140.0,0.0,0.0%,部分歲修\n",
      "輕油(Diesel),澎湖尖山(註4),129.8,41.4,31.9%, \n",
      "輕油(Diesel),金門塔山(註4),91.0,27.4,30.1%, \n",
      "輕油(Diesel),馬祖珠山(註4),29.7,6.1,20.5%, \n",
      "輕油(Diesel),離島其他(註4),42.7,N/A,N/A, \n",
      "輕油(Diesel),小計(註5),573.2(1.3%),74.9(0.3%),,\n",
      "水力(Hydro),德基#1,78.0,0.0,0.0%, \n",
      "水力(Hydro),德基#2,78.0,0.0,0.0%,歲修\n",
      "水力(Hydro),德基#3,78.0,0.0,0.0%, \n",
      "水力(Hydro),青山#1,92.0,11.9,12.9%, \n",
      "水力(Hydro),青山#2,92.0,11.9,12.9%, \n",
      "水力(Hydro),青山#3,92.0,9.2,10.0%, \n",
      "水力(Hydro),青山#4,92.0,0.0,0.0%, \n",
      "水力(Hydro),谷關#1,54.4,0.0,0.0%, \n",
      "水力(Hydro),谷關#2,54.4,44.8,82.3%, \n",
      "水力(Hydro),谷關#3,54.4,0.0,0.0%, \n",
      "水力(Hydro),谷關#4,54.4,0.0,0.0%, \n",
      "水力(Hydro),天輪#1,22.5,0.0,0.0%, \n",
      "水力(Hydro),天輪#2,22.5,8.4,37.3%, \n",
      "水力(Hydro),天輪#3,22.5,9.2,40.9%, \n",
      "水力(Hydro),天輪#4,22.5,8.2,36.4%, \n",
      "水力(Hydro),天輪#5,105.0,0.0,0.0%,檢修\n",
      "水力(Hydro),馬鞍#1,66.7,0.0,0.0%, \n",
      "水力(Hydro),馬鞍#2,66.7,28.8,43.2%, \n",
      "水力(Hydro),卓蘭#1,40.0,0.0,0.0%, \n",
      "水力(Hydro),卓蘭#2,40.0,0.0,0.0%, \n",
      "水力(Hydro),萬大#1,10.4,0.0,0.0%, \n",
      "水力(Hydro),萬大#2,10.4,0.0,0.0%, \n",
      "水力(Hydro),萬大#3,15.3,0.0,0.0%,檢修\n",
      "水力(Hydro),萬大#4,19.7,20.2,102.5%, \n",
      "水力(Hydro),松林#1&amp;2,20.9,6.6,31.6%, \n",
      "水力(Hydro),大觀一#1,22.0,15.0,68.2%, \n",
      "水力(Hydro),大觀一#2,22.0,0.0,0.0%,檢修\n",
      "水力(Hydro),大觀一#3,22.0,14.7,66.8%, \n",
      "水力(Hydro),大觀一#4,22.0,13.8,62.7%, \n",
      "水力(Hydro),大觀一#5,22.0,14.1,64.1%, \n",
      "水力(Hydro),鉅工#1,21.8,10.8,49.7%, \n",
      "水力(Hydro),鉅工#2,21.8,10.8,49.7%, \n",
      "水力(Hydro),水里#1,12.8,0.0,0.0%, \n",
      "水力(Hydro),立霧#1&amp;#2,32.0,0.0,0.0%,檢修\n",
      "水力(Hydro),龍澗#1,48.6,0.0,0.0%, \n",
      "水力(Hydro),龍澗#2,48.6,14.2,29.2%, \n",
      "水力(Hydro),碧海,61.2,13.7,22.4%, \n",
      "水力(Hydro),烏來&amp;桂山&amp;粗坑,40.5,11.7,28.9%, \n",
      "水力(Hydro),北部小水力(註6),26.6,N/A,N/A, \n",
      "水力(Hydro),中部小水力(註6),9.8,N/A,N/A, \n",
      "水力(Hydro),南部小水力(註6),7.2,N/A,N/A, \n",
      "水力(Hydro),東部小水力(註6),54.6,30.0,54.9%, \n",
      "水力(Hydro),翡翠#1,70.0,0.0,0.0%, \n",
      "水力(Hydro),石門#1,45.0,0.0,0.0%, \n",
      "水力(Hydro),石門#2,45.0,0.0,0.0%, \n",
      "水力(Hydro),曾文#1,50.0,0.0,0.0%, \n",
      "水力(Hydro),義興#1,40.0,18.1,45.3%, \n",
      "水力(Hydro),名間,16.7,7.6,45.5%, \n",
      "水力(Hydro),嘉南西口&amp;嘉南烏山頭,20.3,0.2,1.0%, \n",
      "水力(Hydro),后里示範,0.1,N/A,N/A, \n",
      "水力(Hydro),卑南,2.0,1.4,70.7%, \n",
      "水力(Hydro),小計,2089.3(4.8%),355.3(1.3%),,\n",
      "風力(Wind),石門,4.0,1.1,26.9%, \n",
      "風力(Wind),林口,6.0,1.9,32.0%, \n",
      "風力(Wind),蘆竹,7.2,1.7,23.6%, \n",
      "風力(Wind),大潭,15.1,1.8,11.8%, \n",
      "風力(Wind),觀園,30.0,8.7,29.1%, \n",
      "風力(Wind),香山,12.0,0.0,0.0%, \n",
      "風力(Wind),台中,6.0,1.2,19.6%, \n",
      "風力(Wind),台中港,36.0,9.9,27.6%, \n",
      "風力(Wind),王功,23.0,14.2,61.9%, \n",
      "風力(Wind),彰工,62.0,54.7,88.3%, \n",
      "風力(Wind),雲麥,46.0,16.7,36.3%, \n",
      "風力(Wind),四湖,28.0,16.8,60.0%, \n",
      "風力(Wind),恆春,4.5,3.3,73.4%, \n",
      "風力(Wind),澎湖中屯,4.8,2.8,57.4%, \n",
      "風力(Wind),金門金沙,4.0,1.1,28.2%, \n",
      "風力(Wind),澎湖湖西,5.4,2.2,41.3%, \n",
      "風力(Wind),苗栗竹南,7.8,0.4,5.1%, \n",
      "風力(Wind),苗栗大鵬,42.0,N/A,N/A, \n",
      "風力(Wind),鹿威彰濱,55.2,33.0,59.8%, \n",
      "風力(Wind),鹿威鹿港,41.4,20.7,50.0%, \n",
      "風力(Wind),觀威觀音&amp;桃威觀屋,48.3,11.4,23.6%, \n",
      "風力(Wind),中威大安,82.8,11.4,13.8%, \n",
      "風力(Wind),崎威崎頂,6.9,0.2,2.9%, \n",
      "風力(Wind),豐威,11.5,0.8,7.0%, \n",
      "風力(Wind),龍威後龍,44.1,2.3,5.2%, \n",
      "風力(Wind),苗栗通苑,27.6,2.0,7.2%, \n",
      "風力(Wind),安威,6.9,0.5,7.2%, \n",
      "風力(Wind),清風清水,2.3,1.1,47.8%, \n",
      "風力(Wind),東鋼龍港,11.5,1.2,10.4%, \n",
      "風力(Wind),海洋竹南,8.0,1.4,17.5%, \n",
      "風力(Wind),小計,690.3(1.6%),224.6(0.8%),,\n",
      "太陽能(Solar),金門金沙,0.5,0.097,18.3%, \n",
      "太陽能(Solar),台中生水池,2.1,0.090,4.2%, \n",
      "太陽能(Solar),興達生水池,1.6,0.210,12.9%, \n",
      "太陽能(Solar),嘉義民雄,0.1,0.001,1.7%, \n",
      "太陽能(Solar),中部儲運,0.1,0.003,3.3%, \n",
      "太陽能(Solar),東勢新伯公,0.1,0.000,0.0%, \n",
      "太陽能(Solar),永安鹽灘地,4.6,0.678,14.6%, \n",
      "太陽能(Solar),路北,0.1,0.006,10.0%, \n",
      "太陽能(Solar),中原大學,0.0,0.001,2.5%, \n",
      "太陽能(Solar),大潭生水池,0.6,0.013,2.0%, \n",
      "太陽能(Solar),核三生水池,1.5,0.239,16.4%, \n",
      "太陽能(Solar),七美,0.2,0.014,9.3%, \n",
      "太陽能(Solar),尖山,0.1,0.004,5.7%, \n",
      "太陽能(Solar),卓蘭,0.0,0.000,0.0%, \n",
      "太陽能(Solar),后里,0.1,0.003,3.3%, \n",
      "太陽能(Solar),台中龍井,6.5,0.330,5.1%, \n",
      "太陽能(Solar),太陽能購電(註7),1392.3,128.097,9.2%, \n",
      "太陽能(Solar),小計,1410.5(3.2%),129.8(0.5%),,\n",
      "抽蓄發電(Pumping Gen),大觀二#1,250.0,0.0,0.0%, \n",
      "抽蓄發電(Pumping Gen),大觀二#2,250.0,163.8,65.5%, \n",
      "抽蓄發電(Pumping Gen),大觀二#3,250.0,0.0,0.0%, \n",
      "抽蓄發電(Pumping Gen),大觀二#4,250.0,0.0,0.0%, \n",
      "抽蓄發電(Pumping Gen),明潭#1,267.0,0.0,0.0%,歲修\n",
      "抽蓄發電(Pumping Gen),明潭#2,267.0,0.0,0.0%, \n",
      "抽蓄發電(Pumping Gen),明潭#3,267.0,181.0,67.8%, \n",
      "抽蓄發電(Pumping Gen),明潭#4,267.0,0.0,0.0%, \n",
      "抽蓄發電(Pumping Gen),明潭#5,267.0,0.0,0.0%, \n",
      "抽蓄發電(Pumping Gen),明潭#6,267.0,155.1,58.1%, \n",
      "抽蓄發電(Pumping Gen),小計,2602.0(6.0%),499.9(1.8%),,\n",
      "抽蓄負載(Pumping Load),大觀二#1,-,0.0,-, \n",
      "抽蓄負載(Pumping Load),大觀二#2,-,0.0,-, \n",
      "抽蓄負載(Pumping Load),大觀二#3,-,0.0,-, \n",
      "抽蓄負載(Pumping Load),大觀二#4,-,0.0,-, \n",
      "抽蓄負載(Pumping Load),明潭#1,-,0.0,-,歲修\n",
      "抽蓄負載(Pumping Load),明潭#2,-,0.0,-, \n",
      "抽蓄負載(Pumping Load),明潭#3,-,0.0,-, \n",
      "抽蓄負載(Pumping Load),明潭#4,-,0.0,-, \n",
      "抽蓄負載(Pumping Load),明潭#5,-,0.0,-, \n",
      "抽蓄負載(Pumping Load),明潭#6,-,0.0,-, \n"
     ]
    }
   ],
   "source": [
    "f = open('/tmp/taipower.csv', 'w')\n",
    "f.write(\"類別,機組名稱,容量,發電量,負載率,備註\\n\")\n",
    "for row in data['aaData']:\n",
    "    csv_row = ','.join(row)\n",
    "    print(csv_row)\n",
    "    f.write(csv_row + '\\n')\n",
    "f.close()"
   ]
  },
  {
   "cell_type": "markdown",
   "metadata": {},
   "source": [
    "# Exercise\n",
    "\n",
    "trump speech word count,\n",
    "\n",
    "```\n",
    "[\n",
    "(America, 99),\n",
    "(great, 89),\n",
    "(again, 59),\n",
    "...\n",
    "]\n",
    "```"
   ]
  },
  {
   "cell_type": "code",
   "execution_count": 274,
   "metadata": {},
   "outputs": [
    {
     "data": {
      "text/plain": [
       "[['America', 99], ['great', 89], ['again', 59], ['wonderful', 3]]"
      ]
     },
     "execution_count": 274,
     "metadata": {},
     "output_type": "execute_result"
    }
   ],
   "source": [
    "# sorting\n",
    "result = [\n",
    "['great', 89],\n",
    "['wonderful', 3],\n",
    "['America', 99],\n",
    "['again', 59]\n",
    "]\n",
    "\n",
    "def _key2(x):\n",
    "    \"\"\"\n",
    "    IN: list\n",
    "    OUT: list[1]\n",
    "    \"\"\"\n",
    "    return x[1]\n",
    "\n",
    "# key is a function that returns the value to sort by\n",
    "#sorted(result, key=lambda x: x[1])\n",
    "sorted(result, key=_key2, reverse=True)"
   ]
  },
  {
   "cell_type": "code",
   "execution_count": 261,
   "metadata": {},
   "outputs": [],
   "source": [
    "speech = \"\"\"Thank you, everybody. Thank you. Thank you very much. Thank you, Matt, for that great introduction. And thank you for this big crowd. This is incredible. Really incredible. We have all come a long way together. We have come a long way together.\n",
    "\n",
    "I’m thrilled to be back at CPAC, with so many of my wonderful friends and amazing supporters and proud conservatives. Remember when I first started running? Because I wasn’t a politician, fortunately, but do you remember I started running and people said, are you sure he’s a conservative? I think I proved I’m a conservative.\n",
    "\n",
    "For more than four decades, this event has served as a forum for our nation’s top leaders, activists, writers, and thinkers.\n",
    "\n",
    "Year after year, leaders have stood on this stage to discuss what we can do together to protect our heritage, to promote our culture, and to defend our freedom. CPAC has always been about big ideas, and it has also been about putting those ideas into action — and CPAC really has put a lot of ideas into action. We’ll talk about some of them this morning.\n",
    "\n",
    "For the last year with your help, we have put more great conservative ideas into use than perhaps ever before in American history. What a nice picture that is. Look at that. I would love to watch that guy speak. Oh, boy. Oh, I try like hell to hide that bald spot, folks. I work hard at it. Doesn’t look bad. Hey, we’re hanging in. We’re hanging in. We’re hanging in there, right? Together we’re hanging in. We have confirmed a record number, so important, of circuit court judges and we’re going to be putting in a lot more.\n",
    "\n",
    "And they will interpret the law as written and we have confirmed an incredible new Supreme Court justice, a great man, Neil Gorsuch. Right. We have passed massive, biggest in history, tax cuts and reforms. I don’t use the word reform, there was a lot of reform too, very positive — I don’t use it. And when we were first doing it I told everybody, everybody gathered, I said, just talk about tax cuts. People don’t know what reform means. They think reform might mean it is going up. And I said, do tax cuts.\n",
    "\n",
    "Thank you. How did he get in here, Matt? Boy. Okay. Just for the media, the fake news back there, they took very good care of him. They were very gentle. He was very obnoxious. It was only one person. So we have thousands of people here. So, listen, tomorrow the headline will be protesters disturb the Trump — one person, folks. Doesn’t deserve a mention. Doesn’t deserve a headline. The headline tomorrow, disrupters of CPAC. One person. And he was very nice. We looked at him, he immediately left. Okay. Now, I’ve heard it too often.\n",
    "\n",
    "You’ll have one person and you can hardly even hear. The biggest disturbance are you people. You know why? He’ll say something, nobody hears him, because — and then the crowd will start screaming at him and then all of a sudden we start — and that’s okay. You have to show your spirit, right? You have to show your spirit. It is true.\n",
    "\n",
    "So we passed the biggest tax cuts in the history of our country and it was called tax cut and reform. And I said to our people, don’t use the word reform. Because we’re going to go with the tax reform act. I said no wonder for 45 years nothing has been passed. Because people want tax cuts. And they don’t know what reform means. Reform can mean you’re going to pay more tax.\n",
    "\n",
    "So I convinced politicians who have done this all their lives, and they do a great job in many cases, this is — the tax reform act of whatever year we want to put, okay. So they have the tax reform act and that was it. And now it was called the tax act tax cut act and jobs, we had to add jobs into it, because we’re picking up a tremendous number of jobs. 2.7 million jobs. 2.7. So now people hear tax cuts, and it has been popular.\n",
    "\n",
    "Remember, it started off a little slow. Then it got passed. We had some great help. I will say we had some great help in the Senate, and the House, we have guys here today, we have a lot of Congressmen, we have a lot of senators, we had a lot of help, and we got it passed, just — it was not easy.\n",
    "\n",
    "We didn’t have one Democrat vote and I think that’s going to cost them in the midterms. I know that whoever wins the presidency has a disadvantage for whatever reason in the midterms. You know what happens? I’m trying to figure it out. Historically, if you win the presidency, you don’t do well two years later. And you know what, we can’t let that happen and I know what happens. Finally figured it out. Nobody has been able to explain it. It just happens.\n",
    "\n",
    "Statistically, almost all of the time, for many years, what happens is you fight so hard to win the presidency. You fight, fight, fight. And now only two years, that’s a very short period and by the time you start campaigning, it is a year. And now you got to go and fight again. But you just won. So nobody has that same drive that they had. So you end up not doing that well, because the other side is going — they’re crazed, and, by the way, they’re crazed anyway, these people. They are really crazed. Right.\n",
    "\n",
    "So I kept trying to say, why is this? But it is just there. So the great enthusiasm, you know, you’re sitting back, you’re watching television, maybe I don’t have to vote today, we just won the presidency, and then we get clobbered and we can’t let that happen. We get clobbered in ’18, and we can’t let that happen. Only because we are so happy, we pass so many things, honestly, and I’ll say — I’ll use the word, my administration as opposed to me, my administration, I think, has had the most successful first year in the history of the presidency.\n",
    "\n",
    "I really believe that. I really believe it. I really believe it. So, I mean, judges, regulations, everything. And the beautiful thing, the beautiful thing about the tax cuts is nobody thought we could do it. Again, we had to get 100 percent of our vote. And nobody thought we could do it. And, frankly, to me, we got it, and it turned out to be one of the most popular things, and, by the way, for the Republicans in this room, of which I assume — would you say — is it 99 percent, Matt, or 100 percent? I would hope it is close to — you know what? We probably have some Democrats that want to come over.\n",
    "\n",
    "We have a great governor from West Virginia that left the Democratic Party, big Jim, and he came over to the Republican Party. So people are sitting there, and they’re saying, we just had that great victory. Let’s in the vote, let’s go to a movie, the Republican Party, we’re going to do great, and then they end up losing. So you got to keep up the enthusiasm.\n",
    "\n",
    "Now what happens, by the way, they lose, and then you have the presidential election coming up again, and you clobber them because everybody gets off their ass and they get out and they work. Right. And they work. And they work and work and work. And you end up winning the presidency again. And we should do that, hopefully, we’re going to do that very easily. But never, never — we have to worry, right now we have a big race coming up, you have to get out, you have to get that enthusiasm, keep it going.\n",
    "\n",
    "See the word really is complacent. People get complacent. It is a natural instinct. You just won, and now you’re happy and you’re complacent. Don’t be complacent. Don’t be complacent. If they get in, they will repeal your tax cuts, they will put judges in that you wouldn’t believe, they’ll take away your Second Amendment, which we will never allow to happen, they’ll take away your Second Amendment. Remember that. They will take away — thank you.\n",
    "\n",
    "They will take away those massive tax cuts, and they will take away your Second Amendment. By the way, if you only had a choice of one, what would you rather have, the second amendment or tax cuts? Second Amendment, tax cuts? Second Amendment? I’m going to leave it at the Second Amendment. I don’t want to get into that battle. All right.\n",
    "\n",
    "We’re going to say you want — Matt, we’re going to say you want the Second Amendment the most. We’re going to get them all. And, remember this, remember this, we have gotten, you know, somebody got on television recently and said, actually, this is the first time I can remember, Trump made campaign promises. He may be the only person that actually fulfilled more promises that he made. I think that’s true. I fulfilled more promises. But we have a very crooked media. We had a crooked candidate too, by the way. But we have — we have a very — we have a very, very crooked media.\n",
    "\n",
    "I will say this, folks, everything that is turning out now, it is amazing, it has come full circle, boy, have they committed a lot of atrocities when you look. When you look. Have they done things that are wrong?\n",
    "\n",
    "But remember this, not only did we get the tax cuts, which everybody said we wouldn’t get, and, by the way, repealed in that tax cut the individual mandate, which is tremendous. This is where you’re forced to pay in order not to have health care. Is that great? You pay for the privilege of not having health care. So you subsidize lots of other people. That’s gone. I know people came up to me with tears in their eyes and saying, I’m forced to pay not to have health care. Very unfair.\n",
    "\n",
    "And, by the way, we’re having tremendous plans coming out now, health care plans, at a fraction of the cost that are much better than Obamacare. And except for one senator, who came into a room at 3:00 in the morning, and went like that [thumbs down], we would have had health care, too. We would have had health care too. Think of that.\n",
    "\n",
    "But I think we may be better off the way we’re doing it. Piece by piece by piece, Obamacare is just being wiped out. The individual mandate essentially wipes it out. I think we may be better off. And people are getting great health care plans and we’re not finished yet. But, remember, one person walked into a room, when he was supposed to go this way, and he said he was going this way, and he walked in and he went this way and everyone said, what happened? What was that all about? Boy, oh, boy, who was that? I don’t know. I don’t know. I don’t know. I don’t want to be controversial, so I won’t use his name. Okay. What a mess.\n",
    "\n",
    "But, it is all happening anyway. It is all happening anyway. And we’ve, at the same time, eliminated a record number of job-killing regulations and people are going back to work. Alright. People are going back to work. So, you know, the fake news always — if I say something a little off, next day headline, he misrepresented — I have to be careful. But in the history of presidents, no president, and I’m saying no president, maybe they’ll find if I was off by two, but we’re here one year, no president, I read it in lots of good papers, actually, but they’ll change the story when I say it. No president has ever cut so many regulations in their entire term. Okay. As we have cut in less than a year. And it is my opinion that the regulations had as big an impact as these massive tax cuts that we have given. So I really believe it.\n",
    "\n",
    "We have ended the war on American energy, we were in war. And we have ended the war on beautiful, clean, coal, one of our great natural resources. Very important for our defense, coal, very important for our defense, because we have it. We don’t have to send it through pipes, we don’t have to get it from foreign countries. We have more than anybody. And they wanted to end it, and our miners have been mistreated and are not being mistreated anymore. We’re doing tremendous business.\n",
    "\n",
    "I was in Vietnam and the Prime Minister and the President of Vietnam were there. And we have a massive deficit with them like we do with everybody else because these presidents have just let it go to hell. We have the worst trade deals you’ve ever seen. So we’re changing it. So I said, we have too big a deficit with Vietnam, I’m not happy. He said, well, but we’re going to — I said my call. My call. He said, we have bought coal from West Virginia and other places, and it is the finest coal we have ever used, it is interesting. And West Virginia is doing great. You look at what is happening in West Virginia. You look at what’s happening in Pennsylvania. You look at what’s happening in Ohio. And you look at what’s happening in Wyoming. You look at what’s happening all over. It is like a different world.\n",
    "\n",
    "And, remember this, virtually as soon as I got into office, we approved the Keystone XL Pipeline and the Dakota Access Pipelines which never would have been approved. And we announced our withdrawal from the totally disastrous job-killing, wealth-knocking out, you know, it knocked out our wealth, or it would have, they basically wanted to take our wealth away. They didn’t want us to use our wealth power. We knocked out the Paris Climate Accord. Would have been a disaster. Would have been a disaster for our country.\n",
    "\n",
    "You know, basically it said you have a lot of oil and gas that we found, you know, technology has been amazing. And we found things that we never knew. But we have massive, just about the top in the world, we have massive energy reserves, we have coal, we have so much. And basically they said you can’t use it.\n",
    "\n",
    "What it does is it makes us uncompetitive with other countries. It is not going to happen. I told him. Not going to happen. And, you know, China, their agreement didn’t kick in until 2030. Right. Our agreement kicks in immediately. Russia, they’re allowed to go back into the 1990s which was not a clean environmental time. Other countries, big countries, India, and others, we had to pay because they considered them a growing country. They were a growing country. I said, what are we, are we allowed to grow too? Are we allowed to grow? They called India a developing nation. They called China a developing nation. But the United States, we’re developed, we can pay.\n",
    "\n",
    "So, folks, if you don’t mind, I’ll tell you what, it is amazing how many people understood the Paris accord because it sounds so good. It is like some of the environmental regulations that I cut. They have the most beautiful titles. And sometimes that’s — look, I’m going to close my eyes and sign this, because, you know what, I’m going to get killed on this one. I get so much thanks. The country knows what I’m doing.\n",
    "\n",
    "We couldn’t build, we couldn’t farm. If you had a puddle on your land, they called it a lake for the purposes of environmentals. It is crazy. It is crazy. And I signed certain bills, I would have farmers behind me and have house builders, home builders behind me. And these are tough people. Strong people. They fought hard. They worked all their lives hard. And half of them would be crying. Because we gave them their property back. We gave them the right to earn a living. They couldn’t do it.\n",
    "\n",
    "They couldn’t do what they had to do. We gave them their property back, we gave them their dignity back.\n",
    "\n",
    "By the way, you don’t mind if I go off script a little bit? It is sort of boring. It is a little boring. Beautiful speech, everything is wonderful. But a little boring. We have to, you know — but we gave them their dignity back. And that’s why our country is doing record business. We’re doing record business. We’re doing business and you have to look at the fundamentals. Companies are pouring back into this country, pouring back. Not like — when did you hear about car companies coming back into Michigan and coming to Ohio and expanding? When do you — you never heard that. You hear they’re leaving.\n",
    "\n",
    "I’ve been talking about it for 20 years. I was a private sector guy. For whatever reason, I always had these guys, always covered me much more than anybody else. I always got a lot of these characters. They used to treat me so good too until I ran for office. I used to get the greatest publicity. Friend of mine said, you used to be the king of getting great publicity. What happened? I said, well, I have some views that they’re opposed to for a lot of bad reasons. A lot of really bad reasons.\n",
    "\n",
    "But, but, when you look at what is happening to our country, it is incredible. And the fundamentals are so strong. The stock market, I just see with all of the ups and downs, since election day, is up 37 percent from — 37 percent. Now, it did a little bit of a correction. In fact, I started to say, you know, in it for 13, 14 months from the election. I say, is this ever going down a little bit? This is a little embarrassing.\n",
    "\n",
    "It was up 100, up 200, up 1,000, up 150. Up 90, up 63. I said, goodness, that’s better. Hey, we have got seven years to go, folks. We got a long time to go.\n",
    "\n",
    "So, thank you, everybody. You’ve been amazing. You’ve been amazing. What Matt didn’t say, when I was here 2011, I made a speech. And I was received with such warmth and they give, you know, they used to give, I don’t know if Matt does that, he may not want to be controversial, but they used to give the best speech of CPAC. Do they still do that? You better pick me, or I’m not coming back.\n",
    "\n",
    "But — and I got these — everybody, they loved that speech. That was, I think, Matt, I would say that might have been the first real political speech I made. It was a love fest, 2011, I believe the time was. And a lot of people remembered and they said, we want Trump, we want Trump.\n",
    "\n",
    "And after a few years go by and say here I am, let’s see what I can do. They said, you need 270 votes. You need the electoral college, which, by the way, is much tougher than the popular vote. The popular vote would be so much easier. You go to three or four states and you just go and you just do a great job. Hillary forgot that, you know. She went to the states. What is she doing? Why does she keep going back to California? Crazy. Next time they’re going to remember Iowa, they’re going to remember Ohio, remember. They spent a lot of time in Pennsylvania to no avail.\n",
    "\n",
    "They spent a lot of money, they spent a lot of money in North Carolina, the great state of North Carolina. We did very well there. We have a great person in the room, Mark Meadows, from North Carolina. Where is Mark? Where is Mark? And Deb. And we have Jim Jordan, warriors, warriors all.\n",
    "\n",
    "We have a lot of great — we have a lot of great people here. But, you know, we’re just — we hit a chord and if you remember, 2011, probably that was the beginning of what we have done, and hopefully at the end of a period of time people are going to say, thank you, because it is not easy. We’re fighting a lot of forces. There are forces that are doing the wrong thing. They’re just doing the wrong thing. I don’t want to talk about what they have in mind. But they do the wrong thing. But we’re doing what is good for our country for the long-term, viability and survival.\n",
    "\n",
    "Like for instance, $700 billion got approved for military. Our military was going to hell. We declined to certify the terrible one-sided Iran nuclear deal. It was a horrible deal. Whoever heard you give $150 billion to a nation that has no respect for you whatsoever? They’re saying death to America. Well, they’re signing the agreement. If somebody said death to America, while I’m signing an agreement, I say what’s going on, folks? I’m not signing.\n",
    "\n",
    "They kept going. Kerry may be the worst negotiator I’ve ever seen. How about — how about this guy, how about Obama, of course, he’s the one, but how about $1.8 billion in cash? Did you ever see what a million dollars in 100 dollar bills, a lot of people do it as a promotion, it is big, it is big. Now take that, go to $1.8 billion in cash, $1.8 billion, for what? For what? Why did we do this? Why did we do it?\n",
    "\n",
    "Anyway, we didn’t certify and lots of interesting things are happening with that whole mess. But we have to treat people that treat us well, we treat them well. People that treat us badly, we treat them much worse than they could ever imagine. That’s the way it has to be. That’s the way it has to be.\n",
    "\n",
    "We officially recognized Jerusalem as the capital of Israel. Every president campaigned on we’re going to recognize Jerusalem as a capital of Israel. Everybody. For many presidents. You’ve been reading it. They never pulled it off. And I now know why. Because I put the word out that I may do it. Right. I said I’d do it in my campaign. That usually means, unless I find something, I’m going to do it.\n",
    "\n",
    "I was hit by more countries and more pressure and more people calling, begging me, don’t do it, don’t do it, don’t do it, I said, we have to do it. It is the right thing to do. It is the right thing to do. We have to do it. And I did it. But every other president really lied because they campaigned on it. That was always a big part of the campaign. They got into office and they never did it.\n",
    "\n",
    "So I understand why they didn’t do it. It was a tremendous campaign against it, so incredible. But, you know what, the campaign for it was also incredible. And we did the right thing. So we have kept our promises, I said, to rebuild our military. Eliminating the defense sequester, which is a disaster. And I don’t know if you saw the number $700 billion, you know ultimately that comes before everything else. We can talk about lots of things.\n",
    "\n",
    "If we don’t have a strong military, you might be allowed into this room some day, okay. You may not have your houses, your homes, your beautiful communities, we better take care of our military, these are the greatest people and we’re going to take care of our veterans, we’re going to take care of the vets. We have been doing a good job on the vets. And after years of rebuilding, other nations, we rebuild other nations. We rebuild other nations, and give a lot of money. And we don’t ever say, hey, you got to help.\n",
    "\n",
    "We’re finally rebuilding our nation, we’re rebuilding our nation. And we’re restoring our confidence and our pride, all of us here today are united by the same timeless values. We defend our constitution and we believe in the wisdom of our founders, our constitution is great. We support the incredible men and women of law enforcement. True. We know that a strong nation must have strong borders. We celebrate our history and our heroes and we believe young Americans should be taught to love their country, and to respect its traditions.\n",
    "\n",
    "You’re getting the wall. Don’t worry. I heard some — getting the wall.\n",
    "\n",
    "Had a couple of these characters in the back say, oh, he really doesn’t want the wall. He just used that for campaigning. I said, are you — can you believe it? You know, I say every time I hear that, the wall gets ten feet higher, you know that. Every single time. Okay. Now, we’re going to have the wall. Or they’re not going to have what they want. We have a problem. We need more Republicans. We have a group of people that vote against us in a bloc.\n",
    "\n",
    "They’re good at two things. Resisting obstruction. Resisting obstruction. And they stick together. They do. They always vote in a bloc. It is very rare that you get your cuts. I mean, we’re going to be fighting these people in the ‘18 election, we’re going to be fighting people that voted against the tax cuts because the tax cuts are phenomenal and popular and helping people and helping our country.\n",
    "\n",
    "You saw Apple just brought $350 billion in, Exxon brought in $50 billion. So we’re going to be fighting. We need more Republicans to vote. We want to get our agenda. Now what we have to do is in order to get a vote to fix our military, we have to give them $100 billion in stuff that nobody in this room including me wants in many cases. It is terrible. We need more Republicans. That’s why you have to get out and you have to fight for 18, you have to do it. We salute our great American flag, we put our hands on our hearts for the pledge of allegiance. And we all proudly stand for the national anthem.\n",
    "\n",
    "Above all else, we know that faith and family, not government and bureaucracy, are at the center of American life. We know that. Because in America we don’t worship government, we worship God.\n",
    "\n",
    "Our nation’s motto is “In God we trust.” This week, our nation lost an incredible leader. Who devoted his life to helping us understand what those words really mean. Leader. He was a leader, a great man. We will never forget the historic crowds, that voice, the energy, and the profound faith of a preacher named Billy Graham.\n",
    "\n",
    "Great family. They were for us, I’ll tell you, they were for us. Right from the beginning they were for us. As a young man, Billy decided to devote his life to God. That choice not only changed his life, it changed our country and, indeed, it even changed the world.\n",
    "\n",
    "Reverend Graham’s belief in the power of God’s word gave hope to millions and millions who listened to him with his very beautiful but very simple message, God loves you. And a very special tribute because it is almost never done. On Wednesday, we will celebrate Billy Graham’s life as he lies in honor in the rotunda of our capital.\n",
    "\n",
    "One day, Wednesday until Thursday, about 11:00 on Wednesday, I bet those lines are going to be long and beautiful because he deserves it. Not everybody deserves it. But very few people, you look back, Ronald Reagan, so honored, very few people are so honored. That’s a big thing. And he really almost more than anybody you can think of, he deserves to be in the rotunda. That’s going to be very special.\n",
    "\n",
    "Wednesday, at 11:00. And Paul and Mitch and the whole group, they worked very hard to make it all happen. So we want to thank them too. Everywhere you go, all over the country, and cities small and large, Americans of all faiths reach out to our creator for strength, for inspiration, and for healing. Great time for healing.\n",
    "\n",
    "In times of grief and hardship, we turn to prayer for solace and comfort. In recent days our entire nation has been filled with terrible pain and sorrow over the evil massacre in a great community, Parkland, Florida. This senseless act of mass murder shocked our nation and broke our hearts.\n",
    "\n",
    "This week, I had the honor of meeting with students from Marjory Stoneman Douglas High School, with families who have lost their children, in prior shootings, great families, great people.\n",
    "\n",
    "With members of the local community, right here in Washington, D.C. Our whole nation was moved by their strength and by their courage. We listened to their heart-wrenching stories. We ask them for ideas and pledged to them and I can speak for all of the senators and Congressmen and Congresswomen, all the people in this room that are involved in this decision, that we will act, we will do something. We will act.\n",
    "\n",
    "With us on Wednesday was one of the families whose daughter didn’t come home last week. A beautiful young woman named Meadow Pollack, incredible family, incredible people. You’ve probably seen her picture. She had a beautiful, beautiful smile. And a beautiful life. So full of promise. We wish there was something, anything we could do to bring Meadow and all of the others back. There are not enough tears in the world to express our sadness and anguish for her family, and for every family that has lost a precious loved one. No family should ever have to go in and suffer the way these families have suffered.\n",
    "\n",
    "They have suffered beyond anything that I have ever witnessed. A father drops his daughter off at school, kisses her good-bye, waves to her, she’s walking up the path, and never sees her alive again. Gets a call, can’t believe it, thinks it is a nightmare, wants to wake up from the nightmare.\n",
    "\n",
    "So we want to hear ideas from Americans of all backgrounds and beliefs about how we can improve security at our schools, tackle the issue of mental health because this was a sick person. Very sick. And we had a lot of warning about him being sick. This wasn’t a surprise. To the people that knew him, this wasn’t even a little bit. In fact, some said we’re surprised it took so long. So what are we doing? What are we doing?\n",
    "\n",
    "We want to ensure that when there are warning signs, we can act and act very quickly. Why do we protect our airports and our banks, our government buildings, but not our schools. It is time to make our schools a much harder target for attackers. We don’t want them in our schools. We don’t want them. When we declare our schools to be gun-free zones, it just puts our students in far more danger. Far more danger.\n",
    "\n",
    "Well trained, gun adept teachers and coaches and people that work in those buildings, people that were in the Marines for 20 years, and retired, people in the Army, the Navy, the Air Force, the Coast Guard, people that are adept, adept with weaponry, and with guns, they teach.\n",
    "\n",
    "I mean, I don’t want to have 100 guards standing with rifles all over the school. You do a conceal carry permit. And this would be a major deterrent, because these people are inherently cowards. If they thought like if this guy thought that other people would be shooting bullets back at him, he wouldn’t have gone to that school. He wouldn’t have gone there. It is a gun-free zone. It says this is a gun-free zone. Please check your guns way far away. And what happens is they feel safe. There is nobody going to come at them. This way you may have — and, remember, if you use this school as an example, this is a very big school. With tremendous floor area and a lot of acreage, a big, big school, good school. A big, big school. You would have to have 150 real guns.\n",
    "\n",
    "Look, you had one guard, he didn’t turn out to be too good, I will tell you that. He turned out to be not good. He was not a credit to law enforcement that I can tell you. That I can tell you. But as I have been talking about this idea, and I feel it is a great idea, but some people that are good people are opposed to it, don’t like the idea of teachers doing it, I’m not talking about teachers.\n",
    "\n",
    "CNN went on, they said, Donald Trump wants all teachers, okay, fake news, folks. Fake news. News. I don’t want a person that has never handled a gun that wouldn’t know what a gun looks like to be armed.\n",
    "\n",
    "But out of your teaching population, out of your teaching population, you have 10 percent, 20 percent, very gun adept people. Military people, law enforcement people, they teach. They teach. And something I thought of this morning, you know what else, I thought of it since I found and watched Peterson, the deputy who didn’t go into the school, because he didn’t want to go into the school, okay. He was tested under fire and that wasn’t a good result. But you know what I thought of, as soon as I saw that, these teachers, and I’ve seen them, and a lot of schools where they had problems, these teachers love their students and the students love their teachers in many cases. These teachers love their students. And these teachers are talented with weaponry and with guns. And that’s — they feel safe.\n",
    "\n",
    "And I would rather have somebody that loves their students and wants to protect their students than somebody standing outside that doesn’t know anybody and doesn’t know the students, and frankly for whatever reason decided not to go in even though he heard lots of shots being fired inside. The teachers, and the coaches, and other people in the building, the Dean, the Assistant Dean, the Principal, they can — they love their people, they want to protect these kids. And I think we’re better with that and this may be 10 percent or 20 percent of the population of teachers, et cetera. It is not all of them. But you would have a lot and you would tell people that they’re inside, and the beauty is it is concealed. Nobody would ever see it. Unless they needed it. It is concealed.\n",
    "\n",
    "So this crazy man, who walked in, wouldn’t even know who it is that has it. That’s good. That’s not bad. That’s good. And the teacher would have shot the hell out of him before he knew what happened. They love their students. They love those students, folks. Remember that. They love their students. And I’m telling you that would work because we need offensive capability. We can’t just say, it is a gun-free school, we’ll do it a little bit better. You say what happens outside. The students now leave school, and you got a thousand students, you got 3,500 at the school we’re talking about. But you have a thousand students standing outside, the teachers are out there also, if a madman comes along, we have the same problem, but it is outside of the school. Or they drive cars. There are a lot of things that can happen. I want to stop it.\n",
    "\n",
    "And I know it is a little controversial to say, but I have to say since I started this two days ago, a lot of people were totally opposed to it and now agree. They love their students. They don’t want their students to be killed or to be hurt. So we have to do something that works. And one of the big measures that we will do and everybody in this room, I think, has to agree, and there is nobody that loves the Second Amendment more than I do, and there is nobody that respects the NRA, the friends of mine, they backed us all, great people, patriots, but great people. But we really do have to strengthen up, really strengthen up background checks. We have to do that. And we have to do it for the mentally ill, we have to do very, very — we don’t want people that are mentally ill to be having any form of weaponry. We have to be very strong on that.\n",
    "\n",
    "So we’re going to do that and I really believe that Congress is going to get it through this time and they have a different leader. They have somebody that wants to get it through, not somebody that just all talk, no action, like so many of these folks. This is somebody that wants to get it through. But I also want to protect, we need a hardened sight. Has to be hardened. Can’t be soft. They’ll sneak if through a window, some way, and you are standing there, totally unprotected. You know the five great soldiers from three years ago, three of them were world-class marksmen, on a military base in a gun-free zone, asked to check their guns quite far away. And a maniac walked in, guns blazing, killed all five of them. He wouldn’t have had a chance if these world-class marksmen had, on a military base, access to their guns.\n",
    "\n",
    "I’m going to look at that whole policy on military bases. If we can’t have — all five were killed. All five. The guy wouldn’t have had a chance. We’re going to look at that whole military base gun-free zone. If we can’t have our military holding guns, it is pretty bad. We had a number of instances on military bases. You know that. We want to protect our military. We want to make — we’re going to make our military stronger and better than it ever has been before. We also need to create a culture in our community that cherishes life and human dignity. That’s part of what we’re talking about. A culture that condemns violence and never glorifies violence. We need to force the real human connections and turn classmates and colleagues into friends and neighbors that want to fight for us.\n",
    "\n",
    "We’re not just having a conversation about school safety. You’ve had conversations, in all fairness, I’m pretty new on this job, we’re here a little more than a year, I’ve been watching this stuff go on for 20 years. The president gets up, everybody is enthusiastic for the first couple of days, and it fades, fades, fades, nothing ever gets done. We want to see if we can get it done. Let’s get it done right. We really owe it to our country. I’ve been watching for a long time. Seen a lot of words. And I’ve seen very little action. And, you know, if you think about it, most of it is just common sense. It is not: Do you love guns? Do you hate guns? It is common sense. It is all common sense. And some of the strongest advocates about what I’m saying are the strongest advocates, I know them very well, political people, the strongest advocates for the Second Amendment.\n",
    "\n",
    "But this is common sense. In addition to securing our schools, we’re also implementing a strategy to secure our streets. We want our kids to be safe everywhere they go, whether they’re in a classroom, walking home from school or just outside playing with their friends.\n",
    "\n",
    "Every child deserves to grow up in a safe community surrounded by a loving family and to have a future filled with opportunity and with hope. Thank you. Thank you. Just not fair. Reducing violent crime in America is a top priority for my administration. And we will do whatever it takes to get it done. No talk. We’re going to do what it takes to get it done. As you’ve seen pretty well-reported that we’re significantly increasing gun prosecutions by tremendous percentages. And we’re working to get violent offenders off our streets and behind bars and get them behind bars quickly for a long time, or get them out of our country.\n",
    "\n",
    "In 2017, we brought cases against more violent offenders than any administration in a quarter of a century, more than any administration and we’re just gearing up. We have tough people. I’ll tell you what, when you deal with ms-13, the only thing they understand is toughness. They don’t want anything. All they understand is toughness. If that ICE agent or border patrol agent is tougher than them, they respect him.\n",
    "\n",
    "We have the toughest guys you’ve ever seen. We got tough. They don’t respect anything else. And they shouldn’t be in our country. They were let in for years, they shouldn’t be. And we’re getting them out. Our administration prosecuted more people for federal firearm charges than has been done in more than a decade. And, again, we’re just gearing up. We convicted 1,200 gang members and nearly 500 human traffickers. You know what human trafficking — who would think that we have this in this age? And with our foreign partners we have helped charge or arrest more than 4,000 members of the savage gang that we talked about, ms-13. They don’t like guns. You know why? They’re not painful enough.\n",
    "\n",
    "These are animals. They cut people. They cut them. They cut them up in little pieces, and they want them to suffer. And we take them into our country. Because our immigration laws are so bad, and when we catch them, it is called catch and release. We have to, by law, catch them and then release them. Catch and release. And I can’t get the Democrats and nobody has been able to for years to approve common-sense measures that when we catch these animal killers, we can lock them up, and throw away the keys. In 2017, our brave ICE officers arrested more than 100,000 criminal aliens who have committed tens of thousands of crimes. And, believe me, these are great people. They cannot — the laws are just against us. They’re against — they’re against safety. They don’t make sense.\n",
    "\n",
    "And you meet with Democrats and they’re always fighting for the criminal. They’re not fighting for law-abiding citizens. They’re always fighting for the criminal. Doesn’t make sense. Here are just some of the criminal charges and convictions for the aliens arrested by ice. 11,000 charges or convictions for sex crimes. 48,000 for assault. 13,000 for burglary. 1800 for killing people. We’re cracking down on sanctuary cities, can you believe this, where they protect. That’s another one.\n",
    "\n",
    "Because we want our cities to be sanctuaries for law-abiding Americans. Not for criminals.\n",
    "\n",
    "And, by the way, the Senate Democrats and the House Democrats have totally abandoned DACA. They don’t even talk to me about it. They have totally abandoned. We get the reputation like DACA, it is not Republican. Well, let me tell you, it is Republican. Because we want to do something about DACA, get it solved after all these years. The Democrats are being totally unresponsive, don’t want to do anything about DACA. I’m telling you. And it is very possible that DACA won’t happen and it is not because of the Republicans, it is because of the Democrats. And, frankly, you better elect more Republicans, folks, or it will never happen. The Democrats voted in favor of sanctuary cities. In other words, they voted to protect criminal aliens instead of voting to protect the American citizens.\n",
    "\n",
    "To secure our country, we are calling on Congress to build a great border wall to stop dangerous drugs and criminals from pouring into our country. And now they’re willing to give us the wall. But they don’t want to give us any of the laws to keep these people out. So we’re going to get the wall. But they don’t want to give us all of the other, chain migration, lottery, think of a lottery. You have a country, they put names in, you think they’re giving us their good people? Not too many of you people are going to be lottery. So we pick out people. Then they turn out to be horrendous. And we don’t understand why. They’re not giving us their best people, folks. They’re not giving us — use your heads.\n",
    "\n",
    "They’re giving us — it is a lottery. I don’t want people coming into this country with a lottery. I want people coming into this country based on merit, based on merit. I want people, and we all want to be admitting people, who have skills, who can support themselves financially, who can contribute to our economy, who will love our people and who will share our values, who will love our country. I don’t want people who drive a car at 100 miles an hour down the west side highway, and kill eight innocent victims and destroy the lives of 14 more.\n",
    "\n",
    "Nobody talks about that. Nobody ever talks about the people that have been so horribly injured, who lose legs and arms in Manhattan where I used to spend my time. I know it very well, this stretch along the west side highway, people run in order to stay in shape, they want to — they want to be healthy, they want to look good, they run, they run, all the time, I see it. They run. We work in different ways. But they run. But think of this, they run. And they’re so —they want to be fit. They’re proud people. They want to be fit. And they’re running up and down West Side. It is beautiful. It is a beautiful thing. And this maniac takes a car going down the highway and just turns to the right and he kills eight. He really badly wounded 12 to 14 other people.\n",
    "\n",
    "So somebody, think of it, runs to stay in shape, leaves the house, is jogging along, working hard, ends up going home, two months later with no leg or with no arm or with two legs missing. Nobody ever talks about them. They talk about the people rightfully that were killed. But they don’t talk about the people that — whose lives have just changed. Just changed. They don’t talk about that. This guy came in through chain migration. And a part of the lottery system. They say 22 people came in with him. In other words, an aunt, an uncle, a grandfather, a mother, a father, whoever came in. A lot of people came in. That’s chain migration. Let’s see how those people are doing, by the way. We have got to change our way. Merit system. I want merit system.\n",
    "\n",
    "You know what is happening? All these companies are coming into our country, they’re all coming into our country, and when they come in, we need people that are going to work. I’m telling you, we need workers now. We need workers. But when I walked in today, did anyone ever hear me do the snake during the campaign? Because I had five people outside say, could you do the snake? I said, well, people have heard it. Who hasn’t heard the snake? You should read it anyway. Let’s do it anyway. I’ll do it. Okay. Should we do it? Now, this was a rock ‘N’ roll song, little amendments, a rock ‘N’ roll song, but every time I do it, people -- and you have to think of this in terms of immigration. I want people to come into our country. And I want people that are going to help us.\n",
    "\n",
    "I don’t want people that are going to come in and be accepting all of the gifts of our country for the next 50 years and contribute nothing. I don’t want that. You don’t want that. I want people that are going to help and people that are going to go to work for Chrysler, who is now moving from Mexico into Michigan. And so many others. And apple, by the way. And fox con in Wisconsin. They’re going to need 25,000 workers. I want people that can come in and get to work and work hard, even if it means a learning period that is fine. But I want people that are going to come in, and work. And I want people that love us, and look at security and they want you to be safe and they want to be safe. I want great people coming into this country. I don’t want people coming in the way they do now. Because I want people that contribute. So this is called — this is called the snake.\n",
    "\n",
    "And think of it in terms of immigration and you may love it or you may say isn’t that terrible? Okay. If you say isn’t that terrible, who cares. Because the way they treat me, that’s peanuts compared to the way they treat me. Okay. Immigration.\n",
    "\n",
    "On her way to work one morning, down the path along the lake, \n",
    "a tender-hearted woman saw a poor, half-hearted frozen snake. \n",
    "His pretty colored skin had been all frosted, with the dew. \n",
    "Poor thing, she cried. I’ll take you in. And I’ll take care of you. \n",
    "Take me in, oh tender woman, take me in for heaven’s sake, \n",
    "take me in, oh tender woman, sighed the vicious snake. \n",
    "She wrapped him up all cozy in a comforter of silk. \n",
    "And laid him by her fire side with some honey and some milk. \n",
    "She hurried home from work that night, and soon as she arrived \n",
    "she found that pretty snake she had taken in had been revived. \n",
    "Take me in, oh tender woman, take me in for heaven’s sake. \n",
    "Take me in, oh tender woman, sighed the vicious snake. \n",
    "She clutched him to her bosom. You’re so beautiful, she cried.\n",
    "But if I hadn’t brought you in by now, surely you would have died. \n",
    "She stroked his pretty skin again, and kissed and held him tight. \n",
    "But instead of saying thank you, that snake gave her a vicious bite. \n",
    "Take me in, oh tender woman. Take me in for heaven’s sake. \n",
    "Take me in, oh tender woman. Sighed the vicious snake. \n",
    "I saved you, cried the woman. And you’ve bitten me, heavens why? \n",
    "You know your bite is poisonous and now I’m going to die. \n",
    "Oh, shut up, silly woman, said the reptile with a grin. \n",
    "You knew damn well I was a snake before you took me in.\n",
    "\n",
    "And that’s what we’re doing with our country, folks. We’re letting people in. And it is going to be a lot of trouble. It is only getting worse. But we’re giving you protection like never before. Our law enforcement is doing a better job than we have ever done before. And we love our country. And we’re going to take care of our country. Okay. We’re going to take care of our country. So just in finishing, our country is starting to do very well. Our economy is blazing. Jobs are at a record level. Jobs are so good. 2.7 million jobs created since the election.\n",
    "\n",
    "Unemployment claims have reached a 45-year low. African-American unemployment has reached the lowest level in our history. Hispanic unemployment has reached the lowest level in our history. Hispanic unemployment has reached the lowest level in our history. Women, women, unemployment is at the lowest level in 18 years. Wages are rising for the first time in many, many years. Small business confidence is at a record high.\n",
    "\n",
    "And thanks to our massive tax cuts, millions of Americans are getting to keep a great percentage of their money instead of paying it to a government that throws it out the window.\n",
    "\n",
    "So I just leave you with this. We have to fight Nancy Pelosi. Want to give your money away. They want to give your money away. They want to end your tax cuts. They want to do things that you wouldn’t even believe. Including taking your Second Amendment rights away. They will do that. They will do that. So we have to get out there and we have to fight in ‘18 like never before. Just the way you fought with us. Just the way you fought with us. You fought so hard and you were so tough and you were so smart, you were so smart.\n",
    "\n",
    "And, you know what, I know for a fact you did the right thing, we’re looking at the numbers and the numbers, even they have to give credit for the kind of numbers that we’re producing.\n",
    "\n",
    "Nobody has ever seen anything like it. Under my administration, the era of economic surrender is over. We’re renegotiating trade deals that are so bad, whether it is NAFTA, or whether it is world trade organizations, which created China, created — you look at China, it was going along like this, we opened stupidly this deal. And China has been like a rocket ship ever since. And now, last year, we had almost a $500 billion trade deficit with China. We can’t have that. We can’t have that. I have great respect for president XI, but we can’t have that. We have to do what we have to do.\n",
    "\n",
    "We can’t just let countries, an example, Mexico, we have $100 billion trade deficit with Mexico. What does that tell you? You know what it tells you? NAFTA is no good. It never was any good. But for some reason nobody ever changed it.\n",
    "\n",
    "They emptied our factories, you got to see the car plants and the auto plants in Mexico, like, you’ve never seen anything like it before. I want those companies and they’re starting, I want them back here. I want them back here. They’re going to come back here too. And we want to make our neighbors happy. But we can’t continuously have other nations taking advantage of the United States, like never before. This has gone on for a long time. This has gone on for longer than -- the last administration was a disaster. But this has gone on for much longer than the last administration. And we have got to change it. We’re going to change it. So we’re renegotiating deals.\n",
    "\n",
    "And hate to say it, but if we can’t make a fair deal for the United States, we will terminate the deal and we’ll start all over again. Going to have to do it. So under my administration and with my help, don’t forget, you, many of you, were the forgotten people. You were the people that when the polls came out, they didn’t know that you existed. The Democrats are trying to figure out who they are because they want to get you back. But you were people, we had people that never voted. But they’re great patriots, but they never saw anybody they wanted to vote for. Then they go to the election, they have trump, pence, trump, pence, hats, all sorts of things, trump over here. Make America great again, hats. So our country is starting to do well.\n",
    "\n",
    "We are going to make it greater, better, safer, than it ever was before. The reason is you. This has been a great movement, they try like hell, they cannot stand what we have done. But we’re doing the right thing. We’re even doing the right thing for them. They just don’t know it yet. They just don’t know it yet. Even the media, the media will absolutely support me, sometime prior to the election. All those horrible people back there, they’re going to support me. You know why? Because if somebody else won, their ratings would go down, they all would be out of business. Nobody would watch. They all would be out of business. So I just want to tell you that we are going to win. I’d love you to get out there, work really hard for ‘18. We need more Republicans to keep the tax cuts, keep all of this going. And I love you, I respect you, I appreciate everything you’ve done for the country.\n",
    "\n",
    "I appreciate everything you’ve done. I do want to say because people have asked, North Korea, we imposed today the heaviest sanctions ever imposed on a country before. And frankly hopefully something positive can happen. We will see. Hopefully something positive can happen. But that just was announced and I wanted to let you know. We have imposed the heaviest sanctions ever imposed. So ladies and gentlemen, thank you for everything. You’ve been incredible partners. Incredible partners. And I will let you know in the absolute strongest of terms, we’re going to make America great again and I will never, ever, ever let you down. Thank you very much. Thank you.\"\"\""
   ]
  },
  {
   "cell_type": "code",
   "execution_count": null,
   "metadata": {},
   "outputs": [],
   "source": []
  }
 ],
 "metadata": {
  "kernelspec": {
   "display_name": "Python 3",
   "language": "python",
   "name": "python3"
  },
  "language_info": {
   "codemirror_mode": {
    "name": "ipython",
    "version": 3
   },
   "file_extension": ".py",
   "mimetype": "text/x-python",
   "name": "python",
   "nbconvert_exporter": "python",
   "pygments_lexer": "ipython3",
   "version": "3.6.4"
  }
 },
 "nbformat": 4,
 "nbformat_minor": 2
}
