{
 "cells": [
  {
   "cell_type": "markdown",
   "metadata": {},
   "source": [
    "# PTT爬蟲"
   ]
  },
  {
   "cell_type": "code",
   "execution_count": 53,
   "metadata": {},
   "outputs": [],
   "source": [
    "!mkdir -p /tmp/ptt_data/list_page"
   ]
  },
  {
   "cell_type": "code",
   "execution_count": 54,
   "metadata": {},
   "outputs": [],
   "source": [
    "!mkdir -p /tmp/ptt_data/detail_page"
   ]
  },
  {
   "cell_type": "code",
   "execution_count": 55,
   "metadata": {},
   "outputs": [],
   "source": [
    "import requests\n",
    "\n",
    "def get_total_page():\n",
    "    resp = requests.get(\"https://www.ptt.cc/bbs/Gossiping/index.html\", headers={'cookie': \"over18=1\"})\n",
    "    text = resp.text\n",
    "    return int(text.split('a class=\"btn wide\" href=\"/bbs/Gossiping/index')[2].split('.html\">&lsaquo; 上頁</a>')[0]) + 1\n",
    "\n",
    "def get_page(url):\n",
    "    \"\"\"\n",
    "    args: \n",
    "          url<str>: url to crawl\n",
    "    return:\n",
    "          res<str>: text of the webpage\n",
    "    \"\"\"\n",
    "    resp = requests.get(url, headers={'cookie': \"over18=1\"})\n",
    "    return resp.text\n",
    "\n",
    "def save2file(filename, text):\n",
    "    \"\"\"\n",
    "    args:\n",
    "          filename<str>: filename of the file\n",
    "          text<str>: text content to be saved\n",
    "    return:\n",
    "          \n",
    "    \"\"\"\n",
    "    with open(filename, 'w') as f:\n",
    "        f.write(text)"
   ]
  },
  {
   "cell_type": "code",
   "execution_count": 56,
   "metadata": {},
   "outputs": [
    {
     "name": "stdout",
     "output_type": "stream",
     "text": [
      "[INFO]crawling https://www.ptt.cc/bbs/Gossiping/index39057.html\n",
      "[INFO]crawling https://www.ptt.cc/bbs/Gossiping/index39056.html\n"
     ]
    }
   ],
   "source": [
    "url_template = \"https://www.ptt.cc/bbs/Gossiping/index%s.html\"\n",
    "total_page = get_total_page()\n",
    "pages_to_crawl = 2\n",
    "for page in range(total_page, total_page - pages_to_crawl,-1):\n",
    "    url = url_template%page\n",
    "    print(\"[INFO]crawling %s\"%url)\n",
    "    text = get_page(url)\n",
    "    save2file('/tmp/ptt_data/list_page/' + \"%s.html\"%page, text)"
   ]
  },
  {
   "cell_type": "code",
   "execution_count": 57,
   "metadata": {},
   "outputs": [
    {
     "data": {
      "text/plain": [
       "['/bbs/Gossiping/M.1522112372.A.E71.html',\n",
       " '/bbs/Gossiping/M.1522112378.A.AE4.html',\n",
       " '/bbs/Gossiping/M.1522112405.A.B2C.html',\n",
       " '/bbs/Gossiping/M.1522112478.A.5CD.html',\n",
       " '/bbs/Gossiping/M.1522112485.A.921.html',\n",
       " '/bbs/Gossiping/M.1522112503.A.1BD.html',\n",
       " '/bbs/Gossiping/M.1522112553.A.D9A.html',\n",
       " '/bbs/Gossiping/M.1522112604.A.138.html',\n",
       " '/bbs/Gossiping/M.1522112646.A.450.html',\n",
       " '/bbs/Gossiping/M.1522112685.A.A97.html',\n",
       " '/bbs/Gossiping/M.1522112686.A.54F.html',\n",
       " '/bbs/Gossiping/M.1522112726.A.8E3.html',\n",
       " '/bbs/Gossiping/M.1522112834.A.FA2.html',\n",
       " '/bbs/Gossiping/M.1522112856.A.FB2.html',\n",
       " '/bbs/Gossiping/M.1522112875.A.207.html',\n",
       " '/bbs/Gossiping/M.1522112889.A.B16.html',\n",
       " '/bbs/Gossiping/M.1522112890.A.BFE.html',\n",
       " '/bbs/Gossiping/M.1522112913.A.FD0.html',\n",
       " '/bbs/Gossiping/M.1522112922.A.949.html',\n",
       " '/bbs/Gossiping/M.1522108695.A.B98.html',\n",
       " '/bbs/Gossiping/M.1522108824.A.79D.html',\n",
       " '/bbs/Gossiping/M.1522108900.A.E6B.html',\n",
       " '/bbs/Gossiping/M.1522108938.A.21D.html',\n",
       " '/bbs/Gossiping/M.1522109074.A.271.html',\n",
       " '/bbs/Gossiping/M.1522109075.A.068.html',\n",
       " '/bbs/Gossiping/M.1522109200.A.123.html',\n",
       " '/bbs/Gossiping/M.1522109213.A.9DE.html',\n",
       " '/bbs/Gossiping/M.1522109255.A.DDD.html',\n",
       " '/bbs/Gossiping/M.1522109264.A.6D9.html',\n",
       " '/bbs/Gossiping/M.1522109322.A.D84.html',\n",
       " '/bbs/Gossiping/M.1522109431.A.DDF.html',\n",
       " '/bbs/Gossiping/M.1522109555.A.C38.html',\n",
       " '/bbs/Gossiping/M.1522109570.A.C2B.html',\n",
       " '/bbs/Gossiping/M.1522109575.A.1B1.html',\n",
       " '/bbs/Gossiping/M.1522109601.A.814.html',\n",
       " '/bbs/Gossiping/M.1522109612.A.1CE.html',\n",
       " '/bbs/Gossiping/M.1522109681.A.ABC.html',\n",
       " '/bbs/Gossiping/M.1522109833.A.D20.html',\n",
       " '/bbs/Gossiping/M.1522109869.A.3F6.html',\n",
       " '/bbs/Gossiping/M.1522109876.A.1E7.html',\n",
       " '/bbs/Gossiping/M.1522109878.A.D5F.html',\n",
       " '/bbs/Gossiping/M.1522109913.A.842.html',\n",
       " '/bbs/Gossiping/M.1522109957.A.15E.html',\n",
       " '/bbs/Gossiping/M.1522109968.A.BC0.html',\n",
       " '/bbs/Gossiping/M.1522110055.A.58A.html',\n",
       " '/bbs/Gossiping/M.1522110079.A.1A4.html',\n",
       " '/bbs/Gossiping/M.1522110120.A.547.html',\n",
       " '/bbs/Gossiping/M.1522110138.A.028.html',\n",
       " '/bbs/Gossiping/M.1522110158.A.E39.html',\n",
       " '/bbs/Gossiping/M.1522110223.A.9DA.html',\n",
       " '/bbs/Gossiping/M.1522110296.A.5FA.html',\n",
       " '/bbs/Gossiping/M.1522110338.A.8CA.html',\n",
       " '/bbs/Gossiping/M.1522110381.A.606.html',\n",
       " '/bbs/Gossiping/M.1522110395.A.6C6.html',\n",
       " '/bbs/Gossiping/M.1522110476.A.9F7.html',\n",
       " '/bbs/Gossiping/M.1522110486.A.403.html',\n",
       " '/bbs/Gossiping/M.1522110526.A.ACE.html',\n",
       " '/bbs/Gossiping/M.1522112998.A.6A7.html',\n",
       " '/bbs/Gossiping/M.1522113085.A.B4F.html',\n",
       " '/bbs/Gossiping/M.1522113107.A.AE1.html',\n",
       " '/bbs/Gossiping/M.1522113129.A.CCC.html',\n",
       " '/bbs/Gossiping/M.1522113131.A.A30.html',\n",
       " '/bbs/Gossiping/M.1522113172.A.AC5.html',\n",
       " '/bbs/Gossiping/M.1522113177.A.9A9.html',\n",
       " '/bbs/Gossiping/M.1522113184.A.D46.html',\n",
       " '/bbs/Gossiping/M.1522113314.A.864.html',\n",
       " '/bbs/Gossiping/M.1522113332.A.951.html',\n",
       " '/bbs/Gossiping/M.1522113405.A.0D7.html',\n",
       " '/bbs/Gossiping/M.1522113414.A.16F.html',\n",
       " '/bbs/Gossiping/M.1522113419.A.922.html',\n",
       " '/bbs/Gossiping/M.1522113455.A.476.html',\n",
       " '/bbs/Gossiping/M.1522113484.A.FA4.html',\n",
       " '/bbs/Gossiping/M.1522113568.A.7B8.html',\n",
       " '/bbs/Gossiping/M.1522113600.A.06A.html',\n",
       " '/bbs/Gossiping/M.1522113653.A.0D3.html',\n",
       " '/bbs/Gossiping/M.1522105717.A.C9D.html',\n",
       " '/bbs/Gossiping/M.1522105725.A.F31.html',\n",
       " '/bbs/Gossiping/M.1522105742.A.A90.html',\n",
       " '/bbs/Gossiping/M.1522106432.A.BA9.html',\n",
       " '/bbs/Gossiping/M.1522106453.A.31B.html',\n",
       " '/bbs/Gossiping/M.1522106512.A.5CB.html',\n",
       " '/bbs/Gossiping/M.1522106632.A.947.html',\n",
       " '/bbs/Gossiping/M.1522106720.A.C1B.html',\n",
       " '/bbs/Gossiping/M.1522106751.A.7E4.html',\n",
       " '/bbs/Gossiping/M.1522106808.A.3C5.html',\n",
       " '/bbs/Gossiping/M.1522106844.A.24B.html',\n",
       " '/bbs/Gossiping/M.1522106886.A.702.html',\n",
       " '/bbs/Gossiping/M.1522106889.A.6B7.html',\n",
       " '/bbs/Gossiping/M.1522106890.A.120.html',\n",
       " '/bbs/Gossiping/M.1522106987.A.0C8.html',\n",
       " '/bbs/Gossiping/M.1522107093.A.2B1.html',\n",
       " '/bbs/Gossiping/M.1522107149.A.560.html',\n",
       " '/bbs/Gossiping/M.1522107316.A.560.html',\n",
       " '/bbs/Gossiping/M.1522107411.A.618.html',\n",
       " '/bbs/Gossiping/M.1522107570.A.4C9.html',\n",
       " '/bbs/Gossiping/M.1522107583.A.F95.html',\n",
       " '/bbs/Gossiping/M.1522107597.A.7F8.html',\n",
       " '/bbs/Gossiping/M.1522107627.A.BA3.html',\n",
       " '/bbs/Gossiping/M.1522107726.A.532.html',\n",
       " '/bbs/Gossiping/M.1522107791.A.F70.html',\n",
       " '/bbs/Gossiping/M.1522107839.A.6A6.html',\n",
       " '/bbs/Gossiping/M.1522107847.A.B73.html',\n",
       " '/bbs/Gossiping/M.1522107911.A.56F.html',\n",
       " '/bbs/Gossiping/M.1522107955.A.5CC.html',\n",
       " '/bbs/Gossiping/M.1522108012.A.C8D.html',\n",
       " '/bbs/Gossiping/M.1522108066.A.00D.html',\n",
       " '/bbs/Gossiping/M.1522108101.A.D25.html',\n",
       " '/bbs/Gossiping/M.1522108160.A.C6A.html',\n",
       " '/bbs/Gossiping/M.1522108172.A.D60.html',\n",
       " '/bbs/Gossiping/M.1522108263.A.61E.html',\n",
       " '/bbs/Gossiping/M.1522108330.A.66B.html',\n",
       " '/bbs/Gossiping/M.1522108383.A.2B4.html',\n",
       " '/bbs/Gossiping/M.1522108393.A.05E.html',\n",
       " '/bbs/Gossiping/M.1522108412.A.1A4.html',\n",
       " '/bbs/Gossiping/M.1522108586.A.061.html',\n",
       " '/bbs/Gossiping/M.1522117873.A.D4F.html',\n",
       " '/bbs/Gossiping/M.1522117875.A.034.html',\n",
       " '/bbs/Gossiping/M.1522117899.A.311.html',\n",
       " '/bbs/Gossiping/M.1522117914.A.258.html',\n",
       " '/bbs/Gossiping/M.1522117926.A.E08.html',\n",
       " '/bbs/Gossiping/M.1522117933.A.A81.html',\n",
       " '/bbs/Gossiping/M.1522117985.A.C94.html',\n",
       " '/bbs/Gossiping/M.1522117991.A.11D.html',\n",
       " '/bbs/Gossiping/M.1522118016.A.E1D.html',\n",
       " '/bbs/Gossiping/M.1522118024.A.85D.html',\n",
       " '/bbs/Gossiping/M.1522118030.A.532.html',\n",
       " '/bbs/Gossiping/M.1522118068.A.451.html',\n",
       " '/bbs/Gossiping/M.1522118072.A.8C8.html',\n",
       " '/bbs/Gossiping/M.1522118100.A.68B.html',\n",
       " '/bbs/Gossiping/M.1522118102.A.41D.html',\n",
       " '/bbs/Gossiping/M.1522118113.A.487.html',\n",
       " '/bbs/Gossiping/M.1522118127.A.F65.html',\n",
       " '/bbs/Gossiping/M.1522118138.A.8A5.html',\n",
       " '/bbs/Gossiping/M.1522118163.A.16B.html',\n",
       " '/bbs/Gossiping/M.1522118215.A.0A1.html',\n",
       " '/bbs/Gossiping/M.1522118248.A.72C.html',\n",
       " '/bbs/Gossiping/M.1522118263.A.F2D.html',\n",
       " '/bbs/Gossiping/M.1522118274.A.794.html',\n",
       " '/bbs/Gossiping/M.1522118299.A.7C3.html',\n",
       " '/bbs/Gossiping/M.1522118320.A.FFE.html',\n",
       " '/bbs/Gossiping/M.1522118346.A.B90.html',\n",
       " '/bbs/Gossiping/M.1522118391.A.6E5.html',\n",
       " '/bbs/Gossiping/M.1522118405.A.98F.html',\n",
       " '/bbs/Gossiping/M.1522118450.A.56F.html',\n",
       " '/bbs/Gossiping/M.1510415718.A.D77.html',\n",
       " '/bbs/Gossiping/M.1521211794.A.6E0.html',\n",
       " '/bbs/Gossiping/M.1521549261.A.9AC.html',\n",
       " '/bbs/Gossiping/M.1522024582.A.117.html',\n",
       " '/bbs/Gossiping/M.1519833716.A.6C9.html',\n",
       " '/bbs/Gossiping/M.1522102312.A.C07.html',\n",
       " '/bbs/Gossiping/M.1522102613.A.87C.html',\n",
       " '/bbs/Gossiping/M.1522102860.A.1E1.html',\n",
       " '/bbs/Gossiping/M.1522103255.A.72E.html',\n",
       " '/bbs/Gossiping/M.1522103286.A.BF7.html',\n",
       " '/bbs/Gossiping/M.1522103305.A.160.html',\n",
       " '/bbs/Gossiping/M.1522103370.A.CF0.html',\n",
       " '/bbs/Gossiping/M.1522103573.A.7FE.html',\n",
       " '/bbs/Gossiping/M.1522103827.A.8F8.html',\n",
       " '/bbs/Gossiping/M.1522103909.A.87B.html',\n",
       " '/bbs/Gossiping/M.1522104066.A.3BD.html',\n",
       " '/bbs/Gossiping/M.1522104421.A.2A9.html',\n",
       " '/bbs/Gossiping/M.1522104555.A.8AB.html',\n",
       " '/bbs/Gossiping/M.1522104627.A.726.html',\n",
       " '/bbs/Gossiping/M.1522104691.A.E2C.html',\n",
       " '/bbs/Gossiping/M.1522105151.A.BBA.html',\n",
       " '/bbs/Gossiping/M.1522105449.A.96B.html',\n",
       " '/bbs/Gossiping/M.1522105461.A.C89.html',\n",
       " '/bbs/Gossiping/M.1522105661.A.706.html',\n",
       " '/bbs/Gossiping/M.1522110548.A.683.html',\n",
       " '/bbs/Gossiping/M.1522110625.A.718.html',\n",
       " '/bbs/Gossiping/M.1522110744.A.A99.html',\n",
       " '/bbs/Gossiping/M.1522110751.A.DE6.html',\n",
       " '/bbs/Gossiping/M.1522110845.A.BDB.html',\n",
       " '/bbs/Gossiping/M.1522110868.A.EF9.html',\n",
       " '/bbs/Gossiping/M.1522110944.A.CCD.html',\n",
       " '/bbs/Gossiping/M.1522110968.A.9C6.html',\n",
       " '/bbs/Gossiping/M.1522111011.A.CC7.html',\n",
       " '/bbs/Gossiping/M.1522111098.A.768.html',\n",
       " '/bbs/Gossiping/M.1522111105.A.FBF.html',\n",
       " '/bbs/Gossiping/M.1522111112.A.E90.html',\n",
       " '/bbs/Gossiping/M.1522111153.A.975.html',\n",
       " '/bbs/Gossiping/M.1522111182.A.A9C.html',\n",
       " '/bbs/Gossiping/M.1522111259.A.FD5.html',\n",
       " '/bbs/Gossiping/M.1522111269.A.8FF.html',\n",
       " '/bbs/Gossiping/M.1522111318.A.420.html',\n",
       " '/bbs/Gossiping/M.1522111377.A.9EB.html',\n",
       " '/bbs/Gossiping/M.1522111446.A.C79.html',\n",
       " '/bbs/Gossiping/M.1522111518.A.B4A.html',\n",
       " '/bbs/Gossiping/M.1522113694.A.FF5.html',\n",
       " '/bbs/Gossiping/M.1522113743.A.17A.html',\n",
       " '/bbs/Gossiping/M.1522113744.A.807.html',\n",
       " '/bbs/Gossiping/M.1522113780.A.BD3.html',\n",
       " '/bbs/Gossiping/M.1522113830.A.D35.html',\n",
       " '/bbs/Gossiping/M.1522113838.A.5FF.html',\n",
       " '/bbs/Gossiping/M.1522113865.A.5E5.html',\n",
       " '/bbs/Gossiping/M.1522113912.A.F95.html',\n",
       " '/bbs/Gossiping/M.1522113913.A.9C0.html',\n",
       " '/bbs/Gossiping/M.1522113950.A.8F5.html',\n",
       " '/bbs/Gossiping/M.1522113992.A.4B8.html',\n",
       " '/bbs/Gossiping/M.1522114037.A.555.html',\n",
       " '/bbs/Gossiping/M.1522114040.A.326.html',\n",
       " '/bbs/Gossiping/M.1522114132.A.93D.html',\n",
       " '/bbs/Gossiping/M.1522114145.A.ADB.html',\n",
       " '/bbs/Gossiping/M.1522114272.A.382.html',\n",
       " '/bbs/Gossiping/M.1522114282.A.805.html',\n",
       " '/bbs/Gossiping/M.1522114423.A.B92.html',\n",
       " '/bbs/Gossiping/M.1510415718.A.D77.html',\n",
       " '/bbs/Gossiping/M.1521211794.A.6E0.html',\n",
       " '/bbs/Gossiping/M.1521549261.A.9AC.html',\n",
       " '/bbs/Gossiping/M.1522024582.A.117.html',\n",
       " '/bbs/Gossiping/M.1519833716.A.6C9.html',\n",
       " '/bbs/Gossiping/M.1522111527.A.E31.html',\n",
       " '/bbs/Gossiping/M.1522111542.A.FF3.html',\n",
       " '/bbs/Gossiping/M.1522111581.A.486.html',\n",
       " '/bbs/Gossiping/M.1522111661.A.14B.html',\n",
       " '/bbs/Gossiping/M.1522111667.A.C19.html',\n",
       " '/bbs/Gossiping/M.1522111736.A.B7A.html',\n",
       " '/bbs/Gossiping/M.1522111748.A.3EE.html',\n",
       " '/bbs/Gossiping/M.1522111796.A.AAD.html',\n",
       " '/bbs/Gossiping/M.1522111831.A.9E2.html',\n",
       " '/bbs/Gossiping/M.1522111931.A.D6C.html',\n",
       " '/bbs/Gossiping/M.1522112045.A.8A2.html',\n",
       " '/bbs/Gossiping/M.1522112069.A.9BC.html',\n",
       " '/bbs/Gossiping/M.1522112120.A.262.html',\n",
       " '/bbs/Gossiping/M.1522112163.A.D7C.html',\n",
       " '/bbs/Gossiping/M.1522112173.A.61B.html',\n",
       " '/bbs/Gossiping/M.1522112270.A.E32.html',\n",
       " '/bbs/Gossiping/M.1522112282.A.720.html',\n",
       " '/bbs/Gossiping/M.1522112299.A.1CE.html',\n",
       " '/bbs/Gossiping/M.1522112318.A.540.html',\n",
       " '/bbs/Gossiping/M.1522112350.A.0DE.html']"
      ]
     },
     "execution_count": 57,
     "metadata": {},
     "output_type": "execute_result"
    }
   ],
   "source": [
    "# glob is like ls for Python\n",
    "# finds file paths\n",
    "import glob\n",
    "\n",
    "glob.glob('/tmp/ptt_data/list_page/*')\n",
    "\n",
    "res = []\n",
    "for filename in glob.glob('/tmp/ptt_data/list_page/*'):\n",
    "    with open(filename) as f:\n",
    "        html = f.read()\n",
    "        detail_urls = re.findall('''/bbs/Gossiping/M.+html''', html)\n",
    "        res.extend(detail_urls)\n",
    "\n",
    "res"
   ]
  },
  {
   "cell_type": "code",
   "execution_count": 59,
   "metadata": {},
   "outputs": [],
   "source": [
    "for link in res:\n",
    "    filename = link.split('/')[-1].replace('.html','').replace('.', '_') + '.html'\n",
    "    url = 'https://www.ptt.cc' + link\n",
    "    print(url)\n",
    "    \n",
    "    # using the fucntions defined above ^^^^^^^^^^^^^\n",
    "    text = get_page(url)\n",
    "    save2file('/tmp/ptt_data/detail_page/' + filename, text)"
   ]
  },
  {
   "cell_type": "code",
   "execution_count": 7,
   "metadata": {},
   "outputs": [
    {
     "data": {
      "text/plain": [
       "<Response [200]>"
      ]
     },
     "execution_count": 7,
     "metadata": {},
     "output_type": "execute_result"
    }
   ],
   "source": [
    "# GET Request\n",
    "import requests\n",
    "\n",
    "url = \"http://ianchenhq.com\"\n",
    "\n",
    "resp = requests.get(url)\n",
    "\n",
    "resp"
   ]
  },
  {
   "cell_type": "code",
   "execution_count": 8,
   "metadata": {},
   "outputs": [
    {
     "data": {
      "text/plain": [
       "200"
      ]
     },
     "execution_count": 8,
     "metadata": {},
     "output_type": "execute_result"
    }
   ],
   "source": [
    "resp.status_code"
   ]
  },
  {
   "cell_type": "code",
   "execution_count": 9,
   "metadata": {
    "scrolled": true
   },
   "outputs": [
    {
     "data": {
      "text/plain": [
       "'\\n<!doctype html>\\n<html lang=\"zh-Hant\">\\n  <head>\\n    <!-- Required meta tags -->\\n    <meta charset=\"utf-8\">\\n    <meta name=\"viewport\" content=\"width=device-width, initial-scale=1, shrink-to-fit=no\">\\n\\n    <!-- Bootstrap CSS -->\\n    <link rel=\"stylesheet\" href=\"https://maxcdn.bootstrapcdn.com/bootstrap/4.0.0/css/bootstrap.min.css\" integrity=\"sha384-Gn5384xqQ1aoWXA+058RXPxPg6fy4IWvTNh0E263XmFcJlSAwiGgFAW/dAiS6JXm\" crossorigin=\"anonymous\">\\n    <!-- Custom styles for this template -->\\n    <link href=\"/static/carousel.css\" rel=\"stylesheet\">\\n    \\n    <title>Ian Chen - 大數據課程網站 - Python</title>\\n  </head>\\n  <body>\\n    <header>\\n      <nav class=\"navbar navbar-expand-md navbar-dark bg-dark\">\\n        <a class=\"navbar-brand\" href=\"#\">Ian Chen</a>\\n        <button class=\"navbar-toggler\" type=\"button\" data-toggle=\"collapse\" data-target=\"#navbarCollapse\" aria-controls=\"navbarCollapse\" aria-expanded=\"false\" aria-label=\"Toggle navigation\">\\n          <span class=\"navbar-toggler-icon\"></span>\\n        </button>\\n        <div class=\"collapse navbar-collapse\" id=\"navbarCollapse\">\\n          <ul class=\"navbar-nav mr-auto\">\\n            <li class=\"nav-item active\">\\n              <a class=\"nav-link\" href=\"/\">首頁 <span class=\"sr-only\">(current)</span></a>\\n            </li>\\n            <li class=\"nav-item\">\\n              <a class=\"nav-link\" href=\"/about\">關於我</a>\\n            </li>\\n            <li class=\"nav-item dropdown\">\\n              <a class=\"nav-link dropdown-toggle\" href=\"http://example.com\" id=\"dropdown01\" data-toggle=\"dropdown\" aria-haspopup=\"true\" aria-expanded=\"false\">課程列表</a>\\n              <ul class=\"dropdown-menu multi-level\" role=\"menu\" aria-labelledby=\"dropdown01\">\\n                <li class=\"dropdown-submenu\">\\n                  <a  class=\"dropdown-item\" tabindex=\"-1\" href=\"/courses\">ETL</a>\\n                  <ul class=\"dropdown-menu\">\\n                    \\n                      <li class=\"dropdown-item\"><a tabindex=\"-1\" href=\"/courses/bb106\">bb106</a></li>\\n                    \\n                      <li class=\"dropdown-item\"><a tabindex=\"-1\" href=\"/courses/bb105\">bb105</a></li>\\n                    \\n                  </ul>\\n                </li>\\n              </ul>\\n            </li>\\n            <!-- <li class=\"nav-item\"> -->\\n            <!--   <a class=\"nav-link\" href=\"#\">課程</a> -->\\n            <!-- </li> -->\\n          </ul>\\n          <!-- <form class=\"form-inline mt-2 mt-md-0\"> -->\\n          <!--   <input class=\"form-control mr-sm-2\" type=\"text\" placeholder=\"Search\" aria-label=\"Search\"> -->\\n          <!--   <button class=\"btn btn-outline-success my-2 my-sm-0\" type=\"submit\">Search</button> -->\\n          <!-- </form> -->\\n        </div>\\n      </nav>\\n    </header>\\n    <main role=\"main\">\\n\\n    \\n<div id=\"myCarousel\" class=\"carousel slide\" data-ride=\"carousel\">\\n  <ol class=\"carousel-indicators\">\\n    <li data-target=\"#myCarousel\" data-slide-to=\"0\" class=\"active\"></li>\\n    <li data-target=\"#myCarousel\" data-slide-to=\"1\"></li>\\n    <li data-target=\"#myCarousel\" data-slide-to=\"2\"></li>\\n  </ol>\\n  <div class=\"carousel-inner\">\\n    <div class=\"carousel-item active\">\\n      <img class=\"first-slide\" src=\"data:image/gif;base64,R0lGODlhAQABAIAAAHd3dwAAACH5BAAAAAAALAAAAAABAAEAAAICRAEAOw==\" alt=\"First slide\">\\n      <div class=\"container\">\\n        <div class=\"carousel-caption text-left\">\\n          <h1>Example headline.</h1>\\n          <p>Cras justo odio, dapibus ac facilisis in, egestas eget quam. Donec id elit non mi porta gravida at eget metus. Nullam id dolor id nibh ultricies vehicula ut id elit.</p>\\n          <p><a class=\"btn btn-lg btn-primary\" href=\"#\" role=\"button\">Sign up today</a></p>\\n        </div>\\n      </div>\\n    </div>\\n    <div class=\"carousel-item\">\\n      <img class=\"second-slide\" src=\"data:image/gif;base64,R0lGODlhAQABAIAAAHd3dwAAACH5BAAAAAAALAAAAAABAAEAAAICRAEAOw==\" alt=\"Second slide\">\\n      <div class=\"container\">\\n        <div class=\"carousel-caption\">\\n          <h1>Another example headline.</h1>\\n          <p>Cras justo odio, dapibus ac facilisis in, egestas eget quam. Donec id elit non mi porta gravida at eget metus. Nullam id dolor id nibh ultricies vehicula ut id elit.</p>\\n          <p><a class=\"btn btn-lg btn-primary\" href=\"#\" role=\"button\">Learn more</a></p>\\n        </div>\\n      </div>\\n    </div>\\n    <div class=\"carousel-item\">\\n      <img class=\"third-slide\" src=\"data:image/gif;base64,R0lGODlhAQABAIAAAHd3dwAAACH5BAAAAAAALAAAAAABAAEAAAICRAEAOw==\" alt=\"Third slide\">\\n      <div class=\"container\">\\n        <div class=\"carousel-caption text-right\">\\n          <h1>One more for good measure.</h1>\\n          <p>Cras justo odio, dapibus ac facilisis in, egestas eget quam. Donec id elit non mi porta gravida at eget metus. Nullam id dolor id nibh ultricies vehicula ut id elit.</p>\\n          <p><a class=\"btn btn-lg btn-primary\" href=\"#\" role=\"button\">Browse gallery</a></p>\\n        </div>\\n      </div>\\n    </div>\\n  </div>\\n  <a class=\"carousel-control-prev\" href=\"#myCarousel\" role=\"button\" data-slide=\"prev\">\\n    <span class=\"carousel-control-prev-icon\" aria-hidden=\"true\"></span>\\n    <span class=\"sr-only\">Previous</span>\\n  </a>\\n  <a class=\"carousel-control-next\" href=\"#myCarousel\" role=\"button\" data-slide=\"next\">\\n    <span class=\"carousel-control-next-icon\" aria-hidden=\"true\"></span>\\n    <span class=\"sr-only\">Next</span>\\n  </a>\\n</div>\\n\\n\\n<!-- Marketing messaging and featurettes\\n  ================================================== -->\\n  <!-- Wrap the rest of the page in another container to center all the content. -->\\n\\n  <div class=\"container marketing\">\\n\\n    <!-- Three columns of text below the carousel -->\\n    <div class=\"row\">\\n      <div class=\"col-lg-4\">\\n        <img class=\"rounded-circle\" src=\"data:image/gif;base64,R0lGODlhAQABAIAAAHd3dwAAACH5BAAAAAAALAAAAAABAAEAAAICRAEAOw==\" alt=\"Generic placeholder image\" width=\"140\" height=\"140\">\\n        <h2>Heading</h2>\\n        <p>Donec sed odio dui. Etiam porta sem malesuada magna mollis euismod. Nullam id dolor id nibh ultricies vehicula ut id elit. Morbi leo risus, porta ac consectetur ac, vestibulum at eros. Praesent commodo cursus magna.</p>\\n        <p><a class=\"btn btn-secondary\" href=\"#\" role=\"button\">View details &raquo;</a></p>\\n      </div><!-- /.col-lg-4 -->\\n      <div class=\"col-lg-4\">\\n        <img class=\"rounded-circle\" src=\"data:image/gif;base64,R0lGODlhAQABAIAAAHd3dwAAACH5BAAAAAAALAAAAAABAAEAAAICRAEAOw==\" alt=\"Generic placeholder image\" width=\"140\" height=\"140\">\\n        <h2>Heading</h2>\\n        <p>Duis mollis, est non commodo luctus, nisi erat porttitor ligula, eget lacinia odio sem nec elit. Cras mattis consectetur purus sit amet fermentum. Fusce dapibus, tellus ac cursus commodo, tortor mauris condimentum nibh.</p>\\n        <p><a class=\"btn btn-secondary\" href=\"#\" role=\"button\">View details &raquo;</a></p>\\n      </div><!-- /.col-lg-4 -->\\n      <div class=\"col-lg-4\">\\n        <img class=\"rounded-circle\" src=\"data:image/gif;base64,R0lGODlhAQABAIAAAHd3dwAAACH5BAAAAAAALAAAAAABAAEAAAICRAEAOw==\" alt=\"Generic placeholder image\" width=\"140\" height=\"140\">\\n        <h2>Heading</h2>\\n        <p>Donec sed odio dui. Cras justo odio, dapibus ac facilisis in, egestas eget quam. Vestibulum id ligula porta felis euismod semper. Fusce dapibus, tellus ac cursus commodo, tortor mauris condimentum nibh, ut fermentum massa justo sit amet risus.</p>\\n        <p><a class=\"btn btn-secondary\" href=\"#\" role=\"button\">View details &raquo;</a></p>\\n      </div><!-- /.col-lg-4 -->\\n    </div><!-- /.row -->\\n\\n\\n    <!-- START THE FEATURETTES -->\\n\\n    <hr class=\"featurette-divider\">\\n\\n    <div class=\"row featurette\">\\n      <div class=\"col-md-7\">\\n        <h2 class=\"featurette-heading\">First featurette heading. <span class=\"text-muted\">It\\'ll blow your mind.</span></h2>\\n        <p class=\"lead\">Donec ullamcorper nulla non metus auctor fringilla. Vestibulum id ligula porta felis euismod semper. Praesent commodo cursus magna, vel scelerisque nisl consectetur. Fusce dapibus, tellus ac cursus commodo.</p>\\n      </div>\\n      <div class=\"col-md-5\">\\n        <img class=\"featurette-image img-fluid mx-auto\" data-src=\"holder.js/500x500/auto\" alt=\"Generic placeholder image\">\\n      </div>\\n    </div>\\n\\n    <hr class=\"featurette-divider\">\\n\\n    <div class=\"row featurette\">\\n      <div class=\"col-md-7 order-md-2\">\\n        <h2 class=\"featurette-heading\">Oh yeah, it\\'s that good. <span class=\"text-muted\">See for yourself.</span></h2>\\n        <p class=\"lead\">Donec ullamcorper nulla non metus auctor fringilla. Vestibulum id ligula porta felis euismod semper. Praesent commodo cursus magna, vel scelerisque nisl consectetur. Fusce dapibus, tellus ac cursus commodo.</p>\\n      </div>\\n      <div class=\"col-md-5 order-md-1\">\\n        <img class=\"featurette-image img-fluid mx-auto\" data-src=\"holder.js/500x500/auto\" alt=\"Generic placeholder image\">\\n      </div>\\n    </div>\\n\\n    <hr class=\"featurette-divider\">\\n\\n    <div class=\"row featurette\">\\n      <div class=\"col-md-7\">\\n        <h2 class=\"featurette-heading\">And lastly, this one. <span class=\"text-muted\">Checkmate.</span></h2>\\n        <p class=\"lead\">Donec ullamcorper nulla non metus auctor fringilla. Vestibulum id ligula porta felis euismod semper. Praesent commodo cursus magna, vel scelerisque nisl consectetur. Fusce dapibus, tellus ac cursus commodo.</p>\\n      </div>\\n      <div class=\"col-md-5\">\\n        <img class=\"featurette-image img-fluid mx-auto\" data-src=\"holder.js/500x500/auto\" alt=\"Generic placeholder image\">\\n      </div>\\n    </div>\\n\\n    <hr class=\"featurette-divider\">\\n\\n    <!-- /END THE FEATURETTES -->\\n\\n  </div><!-- /.container -->\\n  \\n\\n    </main>\\n    <!-- FOOTER -->\\n    <footer class=\"container\">\\n      <p class=\"float-right\"><a href=\"#\">Back to top</a></p>\\n      <p>&copy; 2017-2018 Ian Chen &middot; <a href=\"#\">Privacy</a> &middot; <a href=\"#\">Terms</a></p>\\n    </footer>\\n\\n    <!-- Optional JavaScript -->\\n    <!-- jQuery first, then Popper.js, then Bootstrap JS -->\\n    <script src=\"https://code.jquery.com/jquery-3.2.1.slim.min.js\" integrity=\"sha384-KJ3o2DKtIkvYIK3UENzmM7KCkRr/rE9/Qpg6aAZGJwFDMVNA/GpGFF93hXpG5KkN\" crossorigin=\"anonymous\"></script>\\n    <script src=\"https://cdnjs.cloudflare.com/ajax/libs/popper.js/1.12.9/umd/popper.min.js\" integrity=\"sha384-ApNbgh9B+Y1QKtv3Rn7W3mgPxhU9K/ScQsAP7hUibX39j7fakFPskvXusvfa0b4Q\" crossorigin=\"anonymous\"></script>\\n    <script src=\"https://maxcdn.bootstrapcdn.com/bootstrap/4.0.0/js/bootstrap.min.js\" integrity=\"sha384-JZR6Spejh4U02d8jOt6vLEHfe/JQGiRRSQQxSfFWpi1MquVdAyjUar5+76PVCmYl\" crossorigin=\"anonymous\"></script>\\n  </body>\\n</html>\\n'"
      ]
     },
     "execution_count": 9,
     "metadata": {},
     "output_type": "execute_result"
    }
   ],
   "source": [
    "resp.text"
   ]
  },
  {
   "cell_type": "markdown",
   "metadata": {},
   "source": [
    "# HTML Parsing"
   ]
  },
  {
   "cell_type": "code",
   "execution_count": 19,
   "metadata": {
    "scrolled": true
   },
   "outputs": [
    {
     "name": "stdout",
     "output_type": "stream",
     "text": [
      "/tmp/ptt_data/detail_page/M_1522114145_A_ADB.html\n"
     ]
    },
    {
     "data": {
      "text/plain": [
       "'<!DOCTYPE html>\\n<html>\\n\\t<head>\\n\\t\\t<meta charset=\"utf-8\">\\n\\t\\t\\n\\n<meta name=\"viewport\" content=\"width=device-width, initial-scale=1\">\\n\\n<title>[新聞] 綠執政親日 農委會成重災區 - 看板 Gossiping - 批踢踢實業坊</title>\\n<meta name=\"robots\" content=\"all\">\\n<meta name=\"keywords\" content=\"Ptt BBS 批踢踢\">\\n<meta name=\"description\" content=\"1.媒體來源:\\n※ 例如蘋果日報、奇摩新聞\\n風傳媒\\n2.完整新聞標題:\\n※ 標題沒有寫出來 ---&gt; 依照板規刪除文章\\n\">\\n<meta property=\"og:site_name\" content=\"Ptt 批踢踢實業坊\">\\n<meta property=\"og:title\" content=\"[新聞] 綠執政親日 農委會成重災區\">\\n<meta property=\"og:description\" content=\"1.媒體來源:\\n※ 例如蘋果日報、奇摩新聞\\n風傳媒\\n2.完整新聞標題:\\n※ 標題沒有寫出來 ---&gt; 依照板規刪除文章\\n\">\\n<link rel=\"canonical\" href=\"https://www.ptt.cc/bbs/Gossiping/M.1522114145.A.ADB.html\">\\n\\n<link rel=\"stylesheet\" type=\"text/css\" href=\"//images.ptt.cc/bbs/v2.22/bbs-common.css\">\\n<link rel=\"stylesheet\" type=\"text/css\" href=\"//images.ptt.cc/bbs/v2.22/bbs-base.css\" media=\"screen\">\\n<link rel=\"stylesheet\" type=\"text/css\" href=\"//images.ptt.cc/bbs/v2.22/bbs-custom.css\">\\n<link rel=\"stylesheet\" type=\"text/css\" href=\"//images.ptt.cc/bbs/v2.22/pushstream.css\" media=\"screen\">\\n<link rel=\"stylesheet\" type=\"text/css\" href=\"//images.ptt.cc/bbs/v2.22/bbs-print.css\" media=\"print\">\\n\\n\\n\\n\\n\\t</head>\\n    <body>\\n\\t\\t\\n<div id=\"fb-root\"></div>\\n<script>(function(d, s, id) {\\nvar js, fjs = d.getElementsByTagName(s)[0];\\nif (d.getElementById(id)) return;\\njs = d.createElement(s); js.id = id;\\njs.src = \"//connect.facebook.net/en_US/all.js#xfbml=1\";\\nfjs.parentNode.insertBefore(js, fjs);\\n}(document, \\'script\\', \\'facebook-jssdk\\'));</script>\\n\\n<div id=\"topbar-container\">\\n\\t<div id=\"topbar\" class=\"bbs-content\">\\n\\t\\t<a id=\"logo\" href=\"/\">批踢踢實業坊</a>\\n\\t\\t<span>&rsaquo;</span>\\n\\t\\t<a class=\"board\" href=\"/bbs/Gossiping/index.html\"><span class=\"board-label\">看板 </span>Gossiping</a>\\n\\t\\t<a class=\"right small\" href=\"/about.html\">關於我們</a>\\n\\t\\t<a class=\"right small\" href=\"/contact.html\">聯絡資訊</a>\\n\\t</div>\\n</div>\\n<div id=\"navigation-container\">\\n\\t<div id=\"navigation\" class=\"bbs-content\">\\n\\t\\t<a class=\"board\" href=\"/bbs/Gossiping/index.html\">返回看板</a>\\n\\t\\t<div class=\"bar\"></div>\\n\\t\\t<div class=\"share\">\\n\\t\\t\\t<span>分享</span>\\n\\t\\t\\t<div class=\"fb-like\" data-send=\"false\" data-layout=\"button_count\" data-width=\"90\" data-show-faces=\"false\" data-href=\"http://www.ptt.cc/bbs/Gossiping/M.1522114145.A.ADB.html\"></div>\\n\\n\\t\\t\\t<div class=\"g-plusone\" data-size=\"medium\"></div>\\n<script type=\"text/javascript\">\\nwindow.___gcfg = {lang: \\'zh-TW\\'};\\n(function() {\\nvar po = document.createElement(\\'script\\'); po.type = \\'text/javascript\\'; po.async = true;\\npo.src = \\'https://apis.google.com/js/plusone.js\\';\\nvar s = document.getElementsByTagName(\\'script\\')[0]; s.parentNode.insertBefore(po, s);\\n})();\\n</script>\\n\\n\\t\\t</div>\\n\\t</div>\\n</div>\\n<div id=\"main-container\">\\n    <div id=\"main-content\" class=\"bbs-screen bbs-content\"><div class=\"article-metaline\"><span class=\"article-meta-tag\">作者</span><span class=\"article-meta-value\">oridio (新手上路)</span></div><div class=\"article-metaline-right\"><span class=\"article-meta-tag\">看板</span><span class=\"article-meta-value\">Gossiping</span></div><div class=\"article-metaline\"><span class=\"article-meta-tag\">標題</span><span class=\"article-meta-value\">[新聞] 綠執政親日 農委會成重災區</span></div><div class=\"article-metaline\"><span class=\"article-meta-tag\">時間</span><span class=\"article-meta-value\">Tue Mar 27 09:29:02 2018</span></div>\\n\\n1.媒體來源:\\n<span class=\"f2\">※ 例如蘋果日報、奇摩新聞</span>\\n風傳媒\\n\\n2.完整新聞標題:\\n<span class=\"f2\">※ 標題沒有寫出來 ---&gt; 依照板規刪除文章</span>\\n綠營執政農業政策親日\\u3000農委會成文官重災區 12個局處首長11個異動\\n\\n3.完整新聞內文:\\n<span class=\"f2\">※ 社論特稿都不能貼! 違者刪除(政治類水桶3個月)，貼廣告也會被刪除喔!</span>\\n民進黨重新執政後，台日關係明顯升溫，綠營政治人物日本考察絡繹於途，台灣蜜棗、高麗菜最近成功銷日，日本農產品，除了和牛開放進口外，接著核災區食品未來配合台灣加入CPTPP（跨太平洋夥伴全面進展協定），很可能配合開放，台日雙方在農業交流議題，檯面上給足了面子，檯面下卻苦了底下的技術官僚，從綠營執政迄今，農委會12個局處一級主管，已經有11個異動，成為政黨輪替的重災區。\\n\\n民進黨政府與日本安倍政府意識形態接近，雙方關係友好，其實並不算新聞，台灣在2011年大地震對日本的慷慨捐輸，更讓日本從官方到民間都感念在心，為了鞏固雙邊策略夥伴關係，台日兩國最近在農業政策上，給予對方明顯讓步，雙方緊密關係不言可諭。\\n\\n今年三月，高雄市長陳菊與農委會主委林聰賢，連袂出席日本東京食品展，為台灣南部蜜棗首度成功銷日站台，林聰賢的臉書上寫到，「這顆大到讓日本人以為是青蘋果的蜜棗，是我們農委會高雄農改場所改良的品種，從現在起，在日本海老名高速公路休息站也品嘗的到。為了這一天，我們台灣和日本談了7年半，最主要關鍵是日本要求的檢疫條件。」\\n\\n說服日本開放台灣鮮果進口 農委會檢疫處承擔成敗責任\\n\\n林聰賢所提及的「檢疫條件」，主要是因為台灣是東方果實蠅疫區，日方對台灣生鮮果實的檢疫要求嚴謹，日方先前係以台灣在國際文獻中列為「番石榴果實蠅」疫區為由禁止台灣水果進口，為了證明台灣蜜棗並無病蟲害問題，農委會方面花了很多功夫說服日方，終於在去年底獲得日方同意進口。\\n\\n由於農產品解禁，必須由二國農政單位共同把關，不過為了讓綠營高層能夠趕上3月初東京食品展，農委會防檢局承受頗大壓力，尷尬的是，先前通過台灣檢疫單位檢驗的3批蜜棗，出口日本後，卻有一批一度檢疫有問題，讓農委會大為緊張。\\n\\n農委會官員表示，日本之所以開放台灣蜜棗銷日，台日人民感情因素扮演頗關鍵因素，但是日本農產品消費是全球最嚴苛的市場，進口農產品只要發現有一批未達檢疫標準，做法上一定是整批銷毀，駐日代表處為了拚業績，要檢疫單位承擔農產品銷日成敗重責，已經讓防檢局部分官員萌生倦意、提前退休。\\n\\n補助農會引綠委不滿 農金局局長申請退休\\n\\n一位最近申請退休的農委會官員表示，農委會在民進黨上台後，從核災食品進口、農田水利會改制、農漁會改選、禽流感等議題，有不少政策和原本的農業體制有所衝撞，第一線的高階文官，在執行改革政策的同時，常常被綠營點名需要「被改革」，因此在2016年綠營執政後，12個局處首長竟然有11個發生異動。\\n\\n以最近申請退休的前農金局局長許維文為例，許因為在2014年參加農業金庫在北港燈會舉辦活動，因為當天同台的還有國民黨縣長候選人張麗善，被立委蘇治芬認為許違反文官中立，一狀告到監察院，民進黨執政後，蘇治芬從此盯上了農金局業務，不斷批評農委會的農漁會總幹事評鑑制度有問題，也批評農委會提供農漁會信用部農業政策貸款2.9%的補助，形同是補助農漁會，去年底甚至在審查農金局預算時，提案刪除農金局局長特支費。\\n\\n除此之外，台灣去年底開放日本和牛進口，一口氣開放29家日本牛肉業者進口，開放過程同樣也被外界懷疑有政治力介入。\\n\\n台灣肉品業者表示，馬政府時代，前總統馬英九和日本首相安倍二人，其實話不投機，但台日經貿關係卻是在馬政府時代有最大進展，包括台日投資協議與台日漁業協議，對於日本的相關要求，馬政府不會照單全收，但民進黨政府因為與日本政府關係密切，對日方釋出的善意，卻常常讓台灣廠商有開放過頭的感覺。\\n\\n29家日本和牛申請進口 農委會竟然全數開放\\n\\n以和牛為例，日本與美國都是狂牛症疫區，對於日本牛肉，美國僅開放10家肉品出口廠商；去年台灣研議開放日本和牛進口，當時國內肉品業者原本預期，食藥署與農委會會比照美國的作法，僅開放5-10家日本牛肉工廠輸台，沒想到，日本29家廠商向食藥署提出申請，食藥署與農委會到日本當地會勘後，後來通過的系統性查核核准進口名單，竟然是29家全數通過。\\n\\n食藥署官員解釋，食藥署當初與農委會進行系統性查核，確定日本管理體系所監督牛肉工廠，可以符合肉品輸台要求條件，上述工廠均為日本厚生勞動省核准註冊工廠，官員強調，日本牛肉輸台，和美國加拿大牛肉進口模式不同，台美與台加係透過雙邊簽署協定方式管理。\\n\\n肉品業者分析，台灣目前進口牛肉，佔整體市場供應量95%，食藥署與農委會竟然一次開放29家日本和牛進口，已經對台灣肉品市場產生衝擊，尤其是和牛的肉品等級，在日本有相對嚴謹的分級規範，必須符合一定飼養條件，如今台灣到處都吃得到和牛，品質卻參差不齊。\\n\\n對於台灣蜜棗銷日，先前在日本檢疫發生問題，農委會官員強調，上述問題主要係開放初期，台日雙邊的農檢單位在檢疫標準上「尚待磨合」，防檢局強調，銷日蜜棗並沒有發生任何問題。\\n\\n4.完整新聞連結 (或短網址):\\n<span class=\"f2\">※ 當新聞連結過長時，需提供短網址方便網友點擊</span>\\n\\n<a href=\"http://www.storm.mg/article/416397\" target=\"_blank\" rel=\"nofollow\">http://www.storm.mg/article/416397</a>\\n5.備註:\\n<span class=\"f2\">※ 一個人一天只能張貼一則新聞，</span><span class=\"f5 hl\">被刪或自刪也算額度內</span><span class=\"f2\">，</span><span class=\"f3 hl\">超貼者水桶</span><span class=\"f2\">，請注意</span>\\n\\n--\\n<span class=\"f2\">※ 發信站: 批踢踢實業坊(ptt.cc), 來自: 39.9.68.12\\n</span><span class=\"f2\">※ 文章網址: <a href=\"https://www.ptt.cc/bbs/Gossiping/M.1522114145.A.ADB.html\" target=\"_blank\" rel=\"nofollow\">https://www.ptt.cc/bbs/Gossiping/M.1522114145.A.ADB.html</a>\\n</span><div class=\"push\"><span class=\"hl push-tag\">推 </span><span class=\"f3 hl push-userid\">alcloth</span><span class=\"f3 push-content\">: 真。祖國 你敢嘴???反正日本屎賣來台灣都會有人買單</span><span class=\"push-ipdatetime\"> 03/27 09:32\\n</span></div><div class=\"push\"><span class=\"hl push-tag\">推 </span><span class=\"f3 hl push-userid\">drcula</span><span class=\"f3 push-content\">: 相信小英，相信台灣，懂!?</span><span class=\"push-ipdatetime\"> 03/27 09:33\\n</span></div><div class=\"push\"><span class=\"f1 hl push-tag\">→ </span><span class=\"f3 hl push-userid\">cdmlin</span><span class=\"f3 push-content\">: 去日本檢疫差一點沒過 日本來的沒發生檢疫問題 重災區???</span><span class=\"push-ipdatetime\"> 03/27 09:34\\n</span></div><div class=\"push\"><span class=\"f1 hl push-tag\">→ </span><span class=\"f3 hl push-userid\">Zuiho</span><span class=\"f3 push-content\">: 要求防疫竟然導致倦勤 是以前不要求防疫嗎？</span><span class=\"push-ipdatetime\"> 03/27 09:34\\n</span></div><div class=\"push\"><span class=\"f1 hl push-tag\">→ </span><span class=\"f3 hl push-userid\">drcula</span><span class=\"f3 push-content\">: 馬冏進美牛是用狂牛症毒害台灣</span><span class=\"push-ipdatetime\"> 03/27 09:34\\n</span></div><div class=\"push\"><span class=\"f1 hl push-tag\">→ </span><span class=\"f3 hl push-userid\">cdmlin</span><span class=\"f3 push-content\">: 看不懂 求翻譯</span><span class=\"push-ipdatetime\"> 03/27 09:34\\n</span></div><div class=\"push\"><span class=\"f1 hl push-tag\">→ </span><span class=\"f3 hl push-userid\">drcula</span><span class=\"f3 push-content\">: 小英進日本和牛，日本和牛也愛台灣，狂牛症牛吃了頭好壯</span><span class=\"push-ipdatetime\"> 03/27 09:35\\n</span></div><div class=\"push\"><span class=\"hl push-tag\">推 </span><span class=\"f3 hl push-userid\">dijkstra</span><span class=\"f3 push-content\">: 台灣價值 懂？</span><span class=\"push-ipdatetime\"> 03/27 09:35\\n</span></div><div class=\"push\"><span class=\"f1 hl push-tag\">噓 </span><span class=\"f3 hl push-userid\">legendmtg</span><span class=\"f3 push-content\">: 不知所云</span><span class=\"push-ipdatetime\"> 03/27 09:36\\n</span></div><div class=\"push\"><span class=\"f1 hl push-tag\">→ </span><span class=\"f3 hl push-userid\">drcula</span><span class=\"f3 push-content\">: 壯，下一步多進點核食，吃多了，搞不好會發光</span><span class=\"push-ipdatetime\"> 03/27 09:36\\n</span></div><div class=\"push\"><span class=\"hl push-tag\">推 </span><span class=\"f3 hl push-userid\">carlos5978</span><span class=\"f3 push-content\">: 日本牛不是便宜牛 有點基本常識好不好</span><span class=\"push-ipdatetime\"> 03/27 09:36\\n</span></div><div class=\"push\"><span class=\"f1 hl push-tag\">→ </span><span class=\"f3 hl push-userid\">drcula</span><span class=\"f3 push-content\">: 真的用愛就能發電了</span><span class=\"push-ipdatetime\"> 03/27 09:36\\n</span></div><div class=\"push\"><span class=\"f1 hl push-tag\">→ </span><span class=\"f3 hl push-userid\">carlos5978</span><span class=\"f3 push-content\">: 媽寶沒去買過牛肉嗎? 回家去問媽媽日本牛一斤多少錢</span><span class=\"push-ipdatetime\"> 03/27 09:36\\n</span></div><div class=\"push\"><span class=\"f1 hl push-tag\">→ </span><span class=\"f3 hl push-userid\">EvoLancer</span><span class=\"f3 push-content\">: 沒辦法 皇民愛阿</span><span class=\"push-ipdatetime\"> 03/27 09:37\\n</span></div><div class=\"push\"><span class=\"f1 hl push-tag\">→ </span><span class=\"f3 hl push-userid\">Nighty7222</span><span class=\"f3 push-content\">: 共三小  喔  風傳媒啊</span><span class=\"push-ipdatetime\"> 03/27 09:38\\n</span></div></div>\\n    \\n    <div id=\"article-polling\" data-pollurl=\"/poll/Gossiping/M.1522114145.A.ADB.html?cacheKey=2132-35160786&offset=6119&offset-sig=8480c1904ed571b7ff967e7773c51be9c16ab776\" data-longpollurl=\"/v1/longpoll?id=e45643a43c3e3aba271842d5f9003a9d67f7ae00\" data-offset=\"6119\"></div>\\n    \\n\\n    \\n<div class=\"bbs-screen bbs-footer-message\">本網站已依台灣網站內容分級規定處理。此區域為限制級，未滿十八歲者不得瀏覽。</div>\\n\\n</div>\\n\\n\\t\\t\\n\\n<script>\\n  (function(i,s,o,g,r,a,m){i[\\'GoogleAnalyticsObject\\']=r;i[r]=i[r]||function(){\\n  (i[r].q=i[r].q||[]).push(arguments)},i[r].l=1*new Date();a=s.createElement(o),\\n  m=s.getElementsByTagName(o)[0];a.async=1;a.src=g;m.parentNode.insertBefore(a,m)\\n  })(window,document,\\'script\\',\\'https://www.google-analytics.com/analytics.js\\',\\'ga\\');\\n\\n  ga(\\'create\\', \\'UA-32365737-1\\', {\\n    cookieDomain: \\'ptt.cc\\',\\n    legacyCookieDomain: \\'ptt.cc\\'\\n  });\\n  ga(\\'send\\', \\'pageview\\');\\n</script>\\n\\n\\n\\t\\t\\n<script src=\"//ajax.googleapis.com/ajax/libs/jquery/2.1.1/jquery.min.js\"></script>\\n<script src=\"//images.ptt.cc/bbs/v2.22/bbs.js\"></script>\\n\\n    </body>\\n</html>\\n'"
      ]
     },
     "execution_count": 19,
     "metadata": {},
     "output_type": "execute_result"
    }
   ],
   "source": [
    "import glob\n",
    "\n",
    "detail_page = glob.glob('/tmp/ptt_data/detail_page/*')[0]\n",
    "\n",
    "print(detail_page)\n",
    "\n",
    "with open(detail_page) as f:\n",
    "    html = f.read()\n",
    "    \n",
    "html"
   ]
  },
  {
   "cell_type": "code",
   "execution_count": 10,
   "metadata": {},
   "outputs": [
    {
     "name": "stdout",
     "output_type": "stream",
     "text": [
      "Requirement already satisfied: beautifulsoup4 in /Users/ian/.pyenv/versions/3.6.4/lib/python3.6/site-packages\r\n",
      "\u001b[33mYou are using pip version 9.0.1, however version 9.0.3 is available.\r\n",
      "You should consider upgrading via the 'pip install --upgrade pip' command.\u001b[0m\r\n"
     ]
    }
   ],
   "source": [
    "!pip install beautifulsoup4"
   ]
  },
  {
   "cell_type": "code",
   "execution_count": 20,
   "metadata": {},
   "outputs": [],
   "source": [
    "from bs4 import BeautifulSoup\n",
    "\n",
    "\n",
    "soup = BeautifulSoup(html, 'lxml') # html5lib"
   ]
  },
  {
   "cell_type": "code",
   "execution_count": 22,
   "metadata": {},
   "outputs": [
    {
     "data": {
      "text/plain": [
       "<span class=\"article-meta-value\">oridio (新手上路)</span>"
      ]
     },
     "execution_count": 22,
     "metadata": {},
     "output_type": "execute_result"
    }
   ],
   "source": [
    "soup.select_one('span.article-meta-value')"
   ]
  },
  {
   "cell_type": "code",
   "execution_count": 30,
   "metadata": {},
   "outputs": [
    {
     "data": {
      "text/plain": [
       "[<span class=\"article-meta-value\">oridio (新手上路)</span>,\n",
       " <span class=\"article-meta-value\">Gossiping</span>,\n",
       " <span class=\"article-meta-value\">[新聞] 綠執政親日 農委會成重災區</span>,\n",
       " <span class=\"article-meta-value\">Tue Mar 27 09:29:02 2018</span>]"
      ]
     },
     "execution_count": 30,
     "metadata": {},
     "output_type": "execute_result"
    }
   ],
   "source": [
    "metas = soup.select('span.article-meta-value')\n",
    "\n",
    "metas # [<Tag>, <Tag>, <Tag>, <Tag>]"
   ]
  },
  {
   "cell_type": "code",
   "execution_count": 31,
   "metadata": {},
   "outputs": [
    {
     "data": {
      "text/plain": [
       "{'author': 'oridio (新手上路)',\n",
       " 'board': 'Gossiping',\n",
       " 'dt': 'Tue Mar 27 09:29:02 2018',\n",
       " 'title': '[新聞] 綠執政親日 農委會成重災區'}"
      ]
     },
     "execution_count": 31,
     "metadata": {},
     "output_type": "execute_result"
    }
   ],
   "source": [
    "\"\"\"\n",
    "{\n",
    "\"title\": \"[新聞] 綠執政親日 農委會成重災區\",\n",
    "\"author\": \"oridio (新手上路)\",\n",
    "\"board\": \"Gossiping\"\n",
    "}\n",
    "\n",
    "\"\"\"\n",
    "article_dict = {}\n",
    "\n",
    "# metas[0] -> <Tag>\n",
    "# metas[0].text => Tag.text -> <str>\n",
    "article_dict['author'] = metas[0].text\n",
    "article_dict['board']  = metas[1].text\n",
    "article_dict['title']  = metas[2].text\n",
    "article_dict['dt']     = metas[3].text\n",
    "\n",
    "article_dict"
   ]
  },
  {
   "cell_type": "code",
   "execution_count": 35,
   "metadata": {},
   "outputs": [
    {
     "data": {
      "text/plain": [
       "[', 來自: 39.9.68.12\\n']"
      ]
     },
     "execution_count": 35,
     "metadata": {},
     "output_type": "execute_result"
    }
   ],
   "source": [
    "import re\n",
    "\n",
    "re.findall(', 來自: 39.9.68.12\\n', html)"
   ]
  },
  {
   "cell_type": "code",
   "execution_count": 36,
   "metadata": {},
   "outputs": [
    {
     "data": {
      "text/plain": [
       "['39.9.68.12']"
      ]
     },
     "execution_count": 36,
     "metadata": {},
     "output_type": "execute_result"
    }
   ],
   "source": [
    "re.findall(', 來自: (39.9.68.12)\\n', html)"
   ]
  },
  {
   "cell_type": "code",
   "execution_count": 37,
   "metadata": {},
   "outputs": [
    {
     "data": {
      "text/plain": [
       "['39.9.68.12']"
      ]
     },
     "execution_count": 37,
     "metadata": {},
     "output_type": "execute_result"
    }
   ],
   "source": [
    "re.findall(', 來自: (\\d{1,3}.\\d{1,3}.\\d{1,3}.\\d{1,3})\\n', html)"
   ]
  },
  {
   "cell_type": "code",
   "execution_count": 39,
   "metadata": {},
   "outputs": [
    {
     "data": {
      "text/plain": [
       "{'author': 'oridio (新手上路)',\n",
       " 'board': 'Gossiping',\n",
       " 'dt': 'Tue Mar 27 09:29:02 2018',\n",
       " 'ip': '39.9.68.12',\n",
       " 'title': '[新聞] 綠執政親日 農委會成重災區'}"
      ]
     },
     "execution_count": 39,
     "metadata": {},
     "output_type": "execute_result"
    }
   ],
   "source": [
    "article_dict['ip'] = re.findall(', 來自: (\\d{1,3}.\\d{1,3}.\\d{1,3}.\\d{1,3})\\n', html)[0]\n",
    "article_dict"
   ]
  },
  {
   "cell_type": "code",
   "execution_count": 47,
   "metadata": {},
   "outputs": [],
   "source": [
    "main_content = soup.select_one('#main-content')\n",
    "\n",
    "for tag in main_content.select('.article-metaline'):\n",
    "    tag.extract()\n",
    "    \n",
    "for tag in main_content.select('.article-metaline-right'):\n",
    "    tag.extract()"
   ]
  },
  {
   "cell_type": "code",
   "execution_count": 48,
   "metadata": {},
   "outputs": [
    {
     "data": {
      "text/plain": [
       "<div class=\"bbs-screen bbs-content\" id=\"main-content\">\n",
       "\n",
       "1.媒體來源:\n",
       "<span class=\"f2\">※ 例如蘋果日報、奇摩新聞</span>\n",
       "風傳媒\n",
       "\n",
       "2.完整新聞標題:\n",
       "<span class=\"f2\">※ 標題沒有寫出來 ---&gt; 依照板規刪除文章</span>\n",
       "綠營執政農業政策親日　農委會成文官重災區 12個局處首長11個異動\n",
       "\n",
       "3.完整新聞內文:\n",
       "<span class=\"f2\">※ 社論特稿都不能貼! 違者刪除(政治類水桶3個月)，貼廣告也會被刪除喔!</span>\n",
       "民進黨重新執政後，台日關係明顯升溫，綠營政治人物日本考察絡繹於途，台灣蜜棗、高麗菜最近成功銷日，日本農產品，除了和牛開放進口外，接著核災區食品未來配合台灣加入CPTPP（跨太平洋夥伴全面進展協定），很可能配合開放，台日雙方在農業交流議題，檯面上給足了面子，檯面下卻苦了底下的技術官僚，從綠營執政迄今，農委會12個局處一級主管，已經有11個異動，成為政黨輪替的重災區。\n",
       "\n",
       "民進黨政府與日本安倍政府意識形態接近，雙方關係友好，其實並不算新聞，台灣在2011年大地震對日本的慷慨捐輸，更讓日本從官方到民間都感念在心，為了鞏固雙邊策略夥伴關係，台日兩國最近在農業政策上，給予對方明顯讓步，雙方緊密關係不言可諭。\n",
       "\n",
       "今年三月，高雄市長陳菊與農委會主委林聰賢，連袂出席日本東京食品展，為台灣南部蜜棗首度成功銷日站台，林聰賢的臉書上寫到，「這顆大到讓日本人以為是青蘋果的蜜棗，是我們農委會高雄農改場所改良的品種，從現在起，在日本海老名高速公路休息站也品嘗的到。為了這一天，我們台灣和日本談了7年半，最主要關鍵是日本要求的檢疫條件。」\n",
       "\n",
       "說服日本開放台灣鮮果進口 農委會檢疫處承擔成敗責任\n",
       "\n",
       "林聰賢所提及的「檢疫條件」，主要是因為台灣是東方果實蠅疫區，日方對台灣生鮮果實的檢疫要求嚴謹，日方先前係以台灣在國際文獻中列為「番石榴果實蠅」疫區為由禁止台灣水果進口，為了證明台灣蜜棗並無病蟲害問題，農委會方面花了很多功夫說服日方，終於在去年底獲得日方同意進口。\n",
       "\n",
       "由於農產品解禁，必須由二國農政單位共同把關，不過為了讓綠營高層能夠趕上3月初東京食品展，農委會防檢局承受頗大壓力，尷尬的是，先前通過台灣檢疫單位檢驗的3批蜜棗，出口日本後，卻有一批一度檢疫有問題，讓農委會大為緊張。\n",
       "\n",
       "農委會官員表示，日本之所以開放台灣蜜棗銷日，台日人民感情因素扮演頗關鍵因素，但是日本農產品消費是全球最嚴苛的市場，進口農產品只要發現有一批未達檢疫標準，做法上一定是整批銷毀，駐日代表處為了拚業績，要檢疫單位承擔農產品銷日成敗重責，已經讓防檢局部分官員萌生倦意、提前退休。\n",
       "\n",
       "補助農會引綠委不滿 農金局局長申請退休\n",
       "\n",
       "一位最近申請退休的農委會官員表示，農委會在民進黨上台後，從核災食品進口、農田水利會改制、農漁會改選、禽流感等議題，有不少政策和原本的農業體制有所衝撞，第一線的高階文官，在執行改革政策的同時，常常被綠營點名需要「被改革」，因此在2016年綠營執政後，12個局處首長竟然有11個發生異動。\n",
       "\n",
       "以最近申請退休的前農金局局長許維文為例，許因為在2014年參加農業金庫在北港燈會舉辦活動，因為當天同台的還有國民黨縣長候選人張麗善，被立委蘇治芬認為許違反文官中立，一狀告到監察院，民進黨執政後，蘇治芬從此盯上了農金局業務，不斷批評農委會的農漁會總幹事評鑑制度有問題，也批評農委會提供農漁會信用部農業政策貸款2.9%的補助，形同是補助農漁會，去年底甚至在審查農金局預算時，提案刪除農金局局長特支費。\n",
       "\n",
       "除此之外，台灣去年底開放日本和牛進口，一口氣開放29家日本牛肉業者進口，開放過程同樣也被外界懷疑有政治力介入。\n",
       "\n",
       "台灣肉品業者表示，馬政府時代，前總統馬英九和日本首相安倍二人，其實話不投機，但台日經貿關係卻是在馬政府時代有最大進展，包括台日投資協議與台日漁業協議，對於日本的相關要求，馬政府不會照單全收，但民進黨政府因為與日本政府關係密切，對日方釋出的善意，卻常常讓台灣廠商有開放過頭的感覺。\n",
       "\n",
       "29家日本和牛申請進口 農委會竟然全數開放\n",
       "\n",
       "以和牛為例，日本與美國都是狂牛症疫區，對於日本牛肉，美國僅開放10家肉品出口廠商；去年台灣研議開放日本和牛進口，當時國內肉品業者原本預期，食藥署與農委會會比照美國的作法，僅開放5-10家日本牛肉工廠輸台，沒想到，日本29家廠商向食藥署提出申請，食藥署與農委會到日本當地會勘後，後來通過的系統性查核核准進口名單，竟然是29家全數通過。\n",
       "\n",
       "食藥署官員解釋，食藥署當初與農委會進行系統性查核，確定日本管理體系所監督牛肉工廠，可以符合肉品輸台要求條件，上述工廠均為日本厚生勞動省核准註冊工廠，官員強調，日本牛肉輸台，和美國加拿大牛肉進口模式不同，台美與台加係透過雙邊簽署協定方式管理。\n",
       "\n",
       "肉品業者分析，台灣目前進口牛肉，佔整體市場供應量95%，食藥署與農委會竟然一次開放29家日本和牛進口，已經對台灣肉品市場產生衝擊，尤其是和牛的肉品等級，在日本有相對嚴謹的分級規範，必須符合一定飼養條件，如今台灣到處都吃得到和牛，品質卻參差不齊。\n",
       "\n",
       "對於台灣蜜棗銷日，先前在日本檢疫發生問題，農委會官員強調，上述問題主要係開放初期，台日雙邊的農檢單位在檢疫標準上「尚待磨合」，防檢局強調，銷日蜜棗並沒有發生任何問題。\n",
       "\n",
       "4.完整新聞連結 (或短網址):\n",
       "<span class=\"f2\">※ 當新聞連結過長時，需提供短網址方便網友點擊</span>\n",
       "<a href=\"http://www.storm.mg/article/416397\" rel=\"nofollow\" target=\"_blank\">http://www.storm.mg/article/416397</a>\n",
       "5.備註:\n",
       "<span class=\"f2\">※ 一個人一天只能張貼一則新聞，</span><span class=\"f5 hl\">被刪或自刪也算額度內</span><span class=\"f2\">，</span><span class=\"f3 hl\">超貼者水桶</span><span class=\"f2\">，請注意</span>\n",
       "\n",
       "--\n",
       "<span class=\"f2\">※ 發信站: 批踢踢實業坊(ptt.cc), 來自: 39.9.68.12\n",
       "</span><span class=\"f2\">※ 文章網址: <a href=\"https://www.ptt.cc/bbs/Gossiping/M.1522114145.A.ADB.html\" rel=\"nofollow\" target=\"_blank\">https://www.ptt.cc/bbs/Gossiping/M.1522114145.A.ADB.html</a>\n",
       "</span><div class=\"push\"><span class=\"hl push-tag\">推 </span><span class=\"f3 hl push-userid\">alcloth</span><span class=\"f3 push-content\">: 真。祖國 你敢嘴???反正日本屎賣來台灣都會有人買單</span><span class=\"push-ipdatetime\"> 03/27 09:32\n",
       "</span></div><div class=\"push\"><span class=\"hl push-tag\">推 </span><span class=\"f3 hl push-userid\">drcula</span><span class=\"f3 push-content\">: 相信小英，相信台灣，懂!?</span><span class=\"push-ipdatetime\"> 03/27 09:33\n",
       "</span></div><div class=\"push\"><span class=\"f1 hl push-tag\">→ </span><span class=\"f3 hl push-userid\">cdmlin</span><span class=\"f3 push-content\">: 去日本檢疫差一點沒過 日本來的沒發生檢疫問題 重災區???</span><span class=\"push-ipdatetime\"> 03/27 09:34\n",
       "</span></div><div class=\"push\"><span class=\"f1 hl push-tag\">→ </span><span class=\"f3 hl push-userid\">Zuiho</span><span class=\"f3 push-content\">: 要求防疫竟然導致倦勤 是以前不要求防疫嗎？</span><span class=\"push-ipdatetime\"> 03/27 09:34\n",
       "</span></div><div class=\"push\"><span class=\"f1 hl push-tag\">→ </span><span class=\"f3 hl push-userid\">drcula</span><span class=\"f3 push-content\">: 馬冏進美牛是用狂牛症毒害台灣</span><span class=\"push-ipdatetime\"> 03/27 09:34\n",
       "</span></div><div class=\"push\"><span class=\"f1 hl push-tag\">→ </span><span class=\"f3 hl push-userid\">cdmlin</span><span class=\"f3 push-content\">: 看不懂 求翻譯</span><span class=\"push-ipdatetime\"> 03/27 09:34\n",
       "</span></div><div class=\"push\"><span class=\"f1 hl push-tag\">→ </span><span class=\"f3 hl push-userid\">drcula</span><span class=\"f3 push-content\">: 小英進日本和牛，日本和牛也愛台灣，狂牛症牛吃了頭好壯</span><span class=\"push-ipdatetime\"> 03/27 09:35\n",
       "</span></div><div class=\"push\"><span class=\"hl push-tag\">推 </span><span class=\"f3 hl push-userid\">dijkstra</span><span class=\"f3 push-content\">: 台灣價值 懂？</span><span class=\"push-ipdatetime\"> 03/27 09:35\n",
       "</span></div><div class=\"push\"><span class=\"f1 hl push-tag\">噓 </span><span class=\"f3 hl push-userid\">legendmtg</span><span class=\"f3 push-content\">: 不知所云</span><span class=\"push-ipdatetime\"> 03/27 09:36\n",
       "</span></div><div class=\"push\"><span class=\"f1 hl push-tag\">→ </span><span class=\"f3 hl push-userid\">drcula</span><span class=\"f3 push-content\">: 壯，下一步多進點核食，吃多了，搞不好會發光</span><span class=\"push-ipdatetime\"> 03/27 09:36\n",
       "</span></div><div class=\"push\"><span class=\"hl push-tag\">推 </span><span class=\"f3 hl push-userid\">carlos5978</span><span class=\"f3 push-content\">: 日本牛不是便宜牛 有點基本常識好不好</span><span class=\"push-ipdatetime\"> 03/27 09:36\n",
       "</span></div><div class=\"push\"><span class=\"f1 hl push-tag\">→ </span><span class=\"f3 hl push-userid\">drcula</span><span class=\"f3 push-content\">: 真的用愛就能發電了</span><span class=\"push-ipdatetime\"> 03/27 09:36\n",
       "</span></div><div class=\"push\"><span class=\"f1 hl push-tag\">→ </span><span class=\"f3 hl push-userid\">carlos5978</span><span class=\"f3 push-content\">: 媽寶沒去買過牛肉嗎? 回家去問媽媽日本牛一斤多少錢</span><span class=\"push-ipdatetime\"> 03/27 09:36\n",
       "</span></div><div class=\"push\"><span class=\"f1 hl push-tag\">→ </span><span class=\"f3 hl push-userid\">EvoLancer</span><span class=\"f3 push-content\">: 沒辦法 皇民愛阿</span><span class=\"push-ipdatetime\"> 03/27 09:37\n",
       "</span></div><div class=\"push\"><span class=\"f1 hl push-tag\">→ </span><span class=\"f3 hl push-userid\">Nighty7222</span><span class=\"f3 push-content\">: 共三小  喔  風傳媒啊</span><span class=\"push-ipdatetime\"> 03/27 09:38\n",
       "</span></div></div>"
      ]
     },
     "execution_count": 48,
     "metadata": {},
     "output_type": "execute_result"
    }
   ],
   "source": [
    "main_content"
   ]
  },
  {
   "cell_type": "code",
   "execution_count": 49,
   "metadata": {},
   "outputs": [],
   "source": [
    "for tag in main_content.select('div.push'):\n",
    "    tag.extract()"
   ]
  },
  {
   "cell_type": "code",
   "execution_count": 50,
   "metadata": {
    "scrolled": true
   },
   "outputs": [
    {
     "data": {
      "text/plain": [
       "<div class=\"bbs-screen bbs-content\" id=\"main-content\">\n",
       "\n",
       "1.媒體來源:\n",
       "<span class=\"f2\">※ 例如蘋果日報、奇摩新聞</span>\n",
       "風傳媒\n",
       "\n",
       "2.完整新聞標題:\n",
       "<span class=\"f2\">※ 標題沒有寫出來 ---&gt; 依照板規刪除文章</span>\n",
       "綠營執政農業政策親日　農委會成文官重災區 12個局處首長11個異動\n",
       "\n",
       "3.完整新聞內文:\n",
       "<span class=\"f2\">※ 社論特稿都不能貼! 違者刪除(政治類水桶3個月)，貼廣告也會被刪除喔!</span>\n",
       "民進黨重新執政後，台日關係明顯升溫，綠營政治人物日本考察絡繹於途，台灣蜜棗、高麗菜最近成功銷日，日本農產品，除了和牛開放進口外，接著核災區食品未來配合台灣加入CPTPP（跨太平洋夥伴全面進展協定），很可能配合開放，台日雙方在農業交流議題，檯面上給足了面子，檯面下卻苦了底下的技術官僚，從綠營執政迄今，農委會12個局處一級主管，已經有11個異動，成為政黨輪替的重災區。\n",
       "\n",
       "民進黨政府與日本安倍政府意識形態接近，雙方關係友好，其實並不算新聞，台灣在2011年大地震對日本的慷慨捐輸，更讓日本從官方到民間都感念在心，為了鞏固雙邊策略夥伴關係，台日兩國最近在農業政策上，給予對方明顯讓步，雙方緊密關係不言可諭。\n",
       "\n",
       "今年三月，高雄市長陳菊與農委會主委林聰賢，連袂出席日本東京食品展，為台灣南部蜜棗首度成功銷日站台，林聰賢的臉書上寫到，「這顆大到讓日本人以為是青蘋果的蜜棗，是我們農委會高雄農改場所改良的品種，從現在起，在日本海老名高速公路休息站也品嘗的到。為了這一天，我們台灣和日本談了7年半，最主要關鍵是日本要求的檢疫條件。」\n",
       "\n",
       "說服日本開放台灣鮮果進口 農委會檢疫處承擔成敗責任\n",
       "\n",
       "林聰賢所提及的「檢疫條件」，主要是因為台灣是東方果實蠅疫區，日方對台灣生鮮果實的檢疫要求嚴謹，日方先前係以台灣在國際文獻中列為「番石榴果實蠅」疫區為由禁止台灣水果進口，為了證明台灣蜜棗並無病蟲害問題，農委會方面花了很多功夫說服日方，終於在去年底獲得日方同意進口。\n",
       "\n",
       "由於農產品解禁，必須由二國農政單位共同把關，不過為了讓綠營高層能夠趕上3月初東京食品展，農委會防檢局承受頗大壓力，尷尬的是，先前通過台灣檢疫單位檢驗的3批蜜棗，出口日本後，卻有一批一度檢疫有問題，讓農委會大為緊張。\n",
       "\n",
       "農委會官員表示，日本之所以開放台灣蜜棗銷日，台日人民感情因素扮演頗關鍵因素，但是日本農產品消費是全球最嚴苛的市場，進口農產品只要發現有一批未達檢疫標準，做法上一定是整批銷毀，駐日代表處為了拚業績，要檢疫單位承擔農產品銷日成敗重責，已經讓防檢局部分官員萌生倦意、提前退休。\n",
       "\n",
       "補助農會引綠委不滿 農金局局長申請退休\n",
       "\n",
       "一位最近申請退休的農委會官員表示，農委會在民進黨上台後，從核災食品進口、農田水利會改制、農漁會改選、禽流感等議題，有不少政策和原本的農業體制有所衝撞，第一線的高階文官，在執行改革政策的同時，常常被綠營點名需要「被改革」，因此在2016年綠營執政後，12個局處首長竟然有11個發生異動。\n",
       "\n",
       "以最近申請退休的前農金局局長許維文為例，許因為在2014年參加農業金庫在北港燈會舉辦活動，因為當天同台的還有國民黨縣長候選人張麗善，被立委蘇治芬認為許違反文官中立，一狀告到監察院，民進黨執政後，蘇治芬從此盯上了農金局業務，不斷批評農委會的農漁會總幹事評鑑制度有問題，也批評農委會提供農漁會信用部農業政策貸款2.9%的補助，形同是補助農漁會，去年底甚至在審查農金局預算時，提案刪除農金局局長特支費。\n",
       "\n",
       "除此之外，台灣去年底開放日本和牛進口，一口氣開放29家日本牛肉業者進口，開放過程同樣也被外界懷疑有政治力介入。\n",
       "\n",
       "台灣肉品業者表示，馬政府時代，前總統馬英九和日本首相安倍二人，其實話不投機，但台日經貿關係卻是在馬政府時代有最大進展，包括台日投資協議與台日漁業協議，對於日本的相關要求，馬政府不會照單全收，但民進黨政府因為與日本政府關係密切，對日方釋出的善意，卻常常讓台灣廠商有開放過頭的感覺。\n",
       "\n",
       "29家日本和牛申請進口 農委會竟然全數開放\n",
       "\n",
       "以和牛為例，日本與美國都是狂牛症疫區，對於日本牛肉，美國僅開放10家肉品出口廠商；去年台灣研議開放日本和牛進口，當時國內肉品業者原本預期，食藥署與農委會會比照美國的作法，僅開放5-10家日本牛肉工廠輸台，沒想到，日本29家廠商向食藥署提出申請，食藥署與農委會到日本當地會勘後，後來通過的系統性查核核准進口名單，竟然是29家全數通過。\n",
       "\n",
       "食藥署官員解釋，食藥署當初與農委會進行系統性查核，確定日本管理體系所監督牛肉工廠，可以符合肉品輸台要求條件，上述工廠均為日本厚生勞動省核准註冊工廠，官員強調，日本牛肉輸台，和美國加拿大牛肉進口模式不同，台美與台加係透過雙邊簽署協定方式管理。\n",
       "\n",
       "肉品業者分析，台灣目前進口牛肉，佔整體市場供應量95%，食藥署與農委會竟然一次開放29家日本和牛進口，已經對台灣肉品市場產生衝擊，尤其是和牛的肉品等級，在日本有相對嚴謹的分級規範，必須符合一定飼養條件，如今台灣到處都吃得到和牛，品質卻參差不齊。\n",
       "\n",
       "對於台灣蜜棗銷日，先前在日本檢疫發生問題，農委會官員強調，上述問題主要係開放初期，台日雙邊的農檢單位在檢疫標準上「尚待磨合」，防檢局強調，銷日蜜棗並沒有發生任何問題。\n",
       "\n",
       "4.完整新聞連結 (或短網址):\n",
       "<span class=\"f2\">※ 當新聞連結過長時，需提供短網址方便網友點擊</span>\n",
       "<a href=\"http://www.storm.mg/article/416397\" rel=\"nofollow\" target=\"_blank\">http://www.storm.mg/article/416397</a>\n",
       "5.備註:\n",
       "<span class=\"f2\">※ 一個人一天只能張貼一則新聞，</span><span class=\"f5 hl\">被刪或自刪也算額度內</span><span class=\"f2\">，</span><span class=\"f3 hl\">超貼者水桶</span><span class=\"f2\">，請注意</span>\n",
       "\n",
       "--\n",
       "<span class=\"f2\">※ 發信站: 批踢踢實業坊(ptt.cc), 來自: 39.9.68.12\n",
       "</span><span class=\"f2\">※ 文章網址: <a href=\"https://www.ptt.cc/bbs/Gossiping/M.1522114145.A.ADB.html\" rel=\"nofollow\" target=\"_blank\">https://www.ptt.cc/bbs/Gossiping/M.1522114145.A.ADB.html</a>\n",
       "</span></div>"
      ]
     },
     "execution_count": 50,
     "metadata": {},
     "output_type": "execute_result"
    }
   ],
   "source": [
    "main_content"
   ]
  },
  {
   "cell_type": "code",
   "execution_count": 52,
   "metadata": {},
   "outputs": [
    {
     "data": {
      "text/plain": [
       "{'author': 'oridio (新手上路)',\n",
       " 'board': 'Gossiping',\n",
       " 'content': '1.媒體來源:\\n※ 例如蘋果日報、奇摩新聞\\n風傳媒\\n\\n2.完整新聞標題:\\n※ 標題沒有寫出來 ---> 依照板規刪除文章\\n綠營執政農業政策親日\\u3000農委會成文官重災區 12個局處首長11個異動\\n\\n3.完整新聞內文:\\n※ 社論特稿都不能貼! 違者刪除(政治類水桶3個月)，貼廣告也會被刪除喔!\\n民進黨重新執政後，台日關係明顯升溫，綠營政治人物日本考察絡繹於途，台灣蜜棗、高麗菜最近成功銷日，日本農產品，除了和牛開放進口外，接著核災區食品未來配合台灣加入CPTPP（跨太平洋夥伴全面進展協定），很可能配合開放，台日雙方在農業交流議題，檯面上給足了面子，檯面下卻苦了底下的技術官僚，從綠營執政迄今，農委會12個局處一級主管，已經有11個異動，成為政黨輪替的重災區。\\n\\n民進黨政府與日本安倍政府意識形態接近，雙方關係友好，其實並不算新聞，台灣在2011年大地震對日本的慷慨捐輸，更讓日本從官方到民間都感念在心，為了鞏固雙邊策略夥伴關係，台日兩國最近在農業政策上，給予對方明顯讓步，雙方緊密關係不言可諭。\\n\\n今年三月，高雄市長陳菊與農委會主委林聰賢，連袂出席日本東京食品展，為台灣南部蜜棗首度成功銷日站台，林聰賢的臉書上寫到，「這顆大到讓日本人以為是青蘋果的蜜棗，是我們農委會高雄農改場所改良的品種，從現在起，在日本海老名高速公路休息站也品嘗的到。為了這一天，我們台灣和日本談了7年半，最主要關鍵是日本要求的檢疫條件。」\\n\\n說服日本開放台灣鮮果進口 農委會檢疫處承擔成敗責任\\n\\n林聰賢所提及的「檢疫條件」，主要是因為台灣是東方果實蠅疫區，日方對台灣生鮮果實的檢疫要求嚴謹，日方先前係以台灣在國際文獻中列為「番石榴果實蠅」疫區為由禁止台灣水果進口，為了證明台灣蜜棗並無病蟲害問題，農委會方面花了很多功夫說服日方，終於在去年底獲得日方同意進口。\\n\\n由於農產品解禁，必須由二國農政單位共同把關，不過為了讓綠營高層能夠趕上3月初東京食品展，農委會防檢局承受頗大壓力，尷尬的是，先前通過台灣檢疫單位檢驗的3批蜜棗，出口日本後，卻有一批一度檢疫有問題，讓農委會大為緊張。\\n\\n農委會官員表示，日本之所以開放台灣蜜棗銷日，台日人民感情因素扮演頗關鍵因素，但是日本農產品消費是全球最嚴苛的市場，進口農產品只要發現有一批未達檢疫標準，做法上一定是整批銷毀，駐日代表處為了拚業績，要檢疫單位承擔農產品銷日成敗重責，已經讓防檢局部分官員萌生倦意、提前退休。\\n\\n補助農會引綠委不滿 農金局局長申請退休\\n\\n一位最近申請退休的農委會官員表示，農委會在民進黨上台後，從核災食品進口、農田水利會改制、農漁會改選、禽流感等議題，有不少政策和原本的農業體制有所衝撞，第一線的高階文官，在執行改革政策的同時，常常被綠營點名需要「被改革」，因此在2016年綠營執政後，12個局處首長竟然有11個發生異動。\\n\\n以最近申請退休的前農金局局長許維文為例，許因為在2014年參加農業金庫在北港燈會舉辦活動，因為當天同台的還有國民黨縣長候選人張麗善，被立委蘇治芬認為許違反文官中立，一狀告到監察院，民進黨執政後，蘇治芬從此盯上了農金局業務，不斷批評農委會的農漁會總幹事評鑑制度有問題，也批評農委會提供農漁會信用部農業政策貸款2.9%的補助，形同是補助農漁會，去年底甚至在審查農金局預算時，提案刪除農金局局長特支費。\\n\\n除此之外，台灣去年底開放日本和牛進口，一口氣開放29家日本牛肉業者進口，開放過程同樣也被外界懷疑有政治力介入。\\n\\n台灣肉品業者表示，馬政府時代，前總統馬英九和日本首相安倍二人，其實話不投機，但台日經貿關係卻是在馬政府時代有最大進展，包括台日投資協議與台日漁業協議，對於日本的相關要求，馬政府不會照單全收，但民進黨政府因為與日本政府關係密切，對日方釋出的善意，卻常常讓台灣廠商有開放過頭的感覺。\\n\\n29家日本和牛申請進口 農委會竟然全數開放\\n\\n以和牛為例，日本與美國都是狂牛症疫區，對於日本牛肉，美國僅開放10家肉品出口廠商；去年台灣研議開放日本和牛進口，當時國內肉品業者原本預期，食藥署與農委會會比照美國的作法，僅開放5-10家日本牛肉工廠輸台，沒想到，日本29家廠商向食藥署提出申請，食藥署與農委會到日本當地會勘後，後來通過的系統性查核核准進口名單，竟然是29家全數通過。\\n\\n食藥署官員解釋，食藥署當初與農委會進行系統性查核，確定日本管理體系所監督牛肉工廠，可以符合肉品輸台要求條件，上述工廠均為日本厚生勞動省核准註冊工廠，官員強調，日本牛肉輸台，和美國加拿大牛肉進口模式不同，台美與台加係透過雙邊簽署協定方式管理。\\n\\n肉品業者分析，台灣目前進口牛肉，佔整體市場供應量95%，食藥署與農委會竟然一次開放29家日本和牛進口，已經對台灣肉品市場產生衝擊，尤其是和牛的肉品等級，在日本有相對嚴謹的分級規範，必須符合一定飼養條件，如今台灣到處都吃得到和牛，品質卻參差不齊。\\n\\n對於台灣蜜棗銷日，先前在日本檢疫發生問題，農委會官員強調，上述問題主要係開放初期，台日雙邊的農檢單位在檢疫標準上「尚待磨合」，防檢局強調，銷日蜜棗並沒有發生任何問題。\\n\\n4.完整新聞連結 (或短網址):\\n※ 當新聞連結過長時，需提供短網址方便網友點擊\\nhttp://www.storm.mg/article/416397\\n5.備註:\\n※ 一個人一天只能張貼一則新聞，被刪或自刪也算額度內，超貼者水桶，請注意\\n\\n--\\n※ 發信站: 批踢踢實業坊(ptt.cc), 來自: 39.9.68.12\\n※ 文章網址: https://www.ptt.cc/bbs/Gossiping/M.1522114145.A.ADB.html',\n",
       " 'dt': 'Tue Mar 27 09:29:02 2018',\n",
       " 'ip': '39.9.68.12',\n",
       " 'title': '[新聞] 綠執政親日 農委會成重災區'}"
      ]
     },
     "execution_count": 52,
     "metadata": {},
     "output_type": "execute_result"
    }
   ],
   "source": [
    "article_dict['content'] = main_content.text.strip()\n",
    "\n",
    "article_dict"
   ]
  }
 ],
 "metadata": {
  "kernelspec": {
   "display_name": "Python 3",
   "language": "python",
   "name": "python3"
  },
  "language_info": {
   "codemirror_mode": {
    "name": "ipython",
    "version": 3
   },
   "file_extension": ".py",
   "mimetype": "text/x-python",
   "name": "python",
   "nbconvert_exporter": "python",
   "pygments_lexer": "ipython3",
   "version": "3.6.4"
  }
 },
 "nbformat": 4,
 "nbformat_minor": 2
}
