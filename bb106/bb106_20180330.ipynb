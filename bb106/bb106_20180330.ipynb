{
 "cells": [
  {
   "cell_type": "code",
   "execution_count": 1,
   "metadata": {},
   "outputs": [
    {
     "name": "stdout",
     "output_type": "stream",
     "text": [
      "Requirement already satisfied: splinter in /Users/ian/.pyenv/versions/3.6.4/lib/python3.6/site-packages\n",
      "Requirement already satisfied: selenium>=3.4.3 in /Users/ian/.pyenv/versions/3.6.4/lib/python3.6/site-packages (from splinter)\n",
      "\u001b[33mYou are using pip version 9.0.1, however version 9.0.3 is available.\n",
      "You should consider upgrading via the 'pip install --upgrade pip' command.\u001b[0m\n"
     ]
    }
   ],
   "source": [
    "!pip install splinter"
   ]
  },
  {
   "cell_type": "markdown",
   "metadata": {},
   "source": [
    "Download `chromedriver`\n",
    "\n",
    "https://chromedriver.storage.googleapis.com/index.html?path=2.37/"
   ]
  },
  {
   "cell_type": "code",
   "execution_count": 2,
   "metadata": {},
   "outputs": [],
   "source": [
    "import splinter"
   ]
  },
  {
   "cell_type": "code",
   "execution_count": 4,
   "metadata": {},
   "outputs": [],
   "source": [
    "# with splinter.Browser('chrome') as b:\n",
    "#     b.visit('http://ianchenhq.com')"
   ]
  },
  {
   "cell_type": "code",
   "execution_count": 47,
   "metadata": {},
   "outputs": [],
   "source": [
    "b = splinter.Browser('chrome')"
   ]
  },
  {
   "cell_type": "code",
   "execution_count": 6,
   "metadata": {},
   "outputs": [],
   "source": [
    "b.visit('http://ianchenhq.com')"
   ]
  },
  {
   "cell_type": "code",
   "execution_count": 9,
   "metadata": {},
   "outputs": [],
   "source": [
    "course_list = b.find_by_css('a.nav-link')[2]"
   ]
  },
  {
   "cell_type": "code",
   "execution_count": 10,
   "metadata": {},
   "outputs": [],
   "source": [
    "course_list.click()"
   ]
  },
  {
   "cell_type": "code",
   "execution_count": 81,
   "metadata": {},
   "outputs": [],
   "source": [
    "b.quit()"
   ]
  },
  {
   "cell_type": "code",
   "execution_count": 82,
   "metadata": {},
   "outputs": [],
   "source": [
    "b = splinter.Browser('chrome')"
   ]
  },
  {
   "cell_type": "code",
   "execution_count": 83,
   "metadata": {},
   "outputs": [],
   "source": [
    "# TODO: clean up URL\n",
    "b.visit('https://www.agoda.com/pages/agoda/default/DestinationSearchResult.aspx?city=4064&tick=636579969235&txtuuid=82045b57-15f1-400b-b1da-261a15364967&languageId=1&userId=1bf2b12d-eaa5-446e-b07a-da5f708657fd&pageTypeId=1&origin=TW&locale=en-US&cid=-1&aid=130243&currencyCode=TWD&htmlLanguage=en-us&cultureInfoName=en-US&ckuid=1bf2b12d-eaa5-446e-b07a-da5f708657fd&prid=0&checkIn=2018-04-03&checkOut=2018-04-07&rooms=1&adults=2&children=0&hotelReviewScore=5&tabId=1&priceCur=TWD&los=1&textToSearch=Singapore')"
   ]
  },
  {
   "cell_type": "code",
   "execution_count": 104,
   "metadata": {},
   "outputs": [],
   "source": [
    "b.execute_script(\"window.scrollTo(0, document.body.scrollHeight)\")"
   ]
  },
  {
   "cell_type": "code",
   "execution_count": 98,
   "metadata": {},
   "outputs": [],
   "source": [
    "pg = 1\n",
    "with open('agoda_%s.html'%pg, 'w') as f:\n",
    "    f.write(b.html)"
   ]
  },
  {
   "cell_type": "code",
   "execution_count": 107,
   "metadata": {},
   "outputs": [],
   "source": [
    "b.click_link_by_id('paginationNext')"
   ]
  },
  {
   "cell_type": "code",
   "execution_count": 108,
   "metadata": {},
   "outputs": [],
   "source": [
    "# TODO:\n",
    "# 整理上面範例成loop，可以dump全部的搜群結果到檔案裡面"
   ]
  },
  {
   "cell_type": "code",
   "execution_count": null,
   "metadata": {},
   "outputs": [],
   "source": []
  }
 ],
 "metadata": {
  "kernelspec": {
   "display_name": "Python 3",
   "language": "python",
   "name": "python3"
  },
  "language_info": {
   "codemirror_mode": {
    "name": "ipython",
    "version": 3
   },
   "file_extension": ".py",
   "mimetype": "text/x-python",
   "name": "python",
   "nbconvert_exporter": "python",
   "pygments_lexer": "ipython3",
   "version": "3.6.4"
  }
 },
 "nbformat": 4,
 "nbformat_minor": 2
}
